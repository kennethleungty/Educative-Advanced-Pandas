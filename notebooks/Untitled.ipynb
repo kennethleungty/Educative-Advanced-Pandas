{
 "cells": [
  {
   "cell_type": "code",
   "execution_count": 14,
   "id": "a3e6c527",
   "metadata": {},
   "outputs": [
    {
     "name": "stdout",
     "output_type": "stream",
     "text": [
      "{'agent_id': '1', 'first_name': 'Lindsey', 'last_name': 'Ondrus', 'gender': 'Male', 'date_joined': '23/5/2019'}\n",
      "{'agent_id': '2', 'first_name': 'Thornton', 'last_name': 'Lade', 'gender': 'Male', 'date_joined': '13/1/2019'}\n",
      "{'agent_id': '3', 'first_name': 'Tasia', 'last_name': 'Skeermer', 'gender': 'Female', 'date_joined': '2/2/2019'}\n",
      "{'agent_id': '4', 'first_name': 'Bondon', 'last_name': 'Ismay', 'gender': 'Male', 'date_joined': '10/10/2019'}\n",
      "{'agent_id': '5', 'first_name': 'Dulcinea', 'last_name': 'Echallie', 'gender': 'Female', 'date_joined': '5/8/2019'}\n",
      "{'agent_id': '6', 'first_name': 'Brena', 'last_name': 'Giacopazzi', 'gender': 'Female', 'date_joined': '3/12/2018'}\n",
      "{'agent_id': '7', 'first_name': 'Lucien', 'last_name': 'Franzolini', 'gender': 'Male', 'date_joined': '24/1/2019'}\n",
      "{'agent_id': '8', 'first_name': 'Quintana', 'last_name': 'Jery', 'gender': 'Female', 'date_joined': '11/7/2019'}\n"
     ]
    }
   ],
   "source": [
    "import csv\n",
    "import pandas as pd\n",
    "\n",
    "reader = csv.DictReader(open('../data/csv/agents.csv'))\n",
    "\n",
    "for row in reader:\n",
    "    print(row)"
   ]
  },
  {
   "cell_type": "code",
   "execution_count": 16,
   "id": "816b3734",
   "metadata": {},
   "outputs": [],
   "source": [
    "test_df = pd.DataFrame([\n",
    "    {'agent_id': '1', 'first_name': 'Lindsey', 'last_name': 'Ondrus', 'gender': 'Male', 'date_joined': '23/5/2019'},\n",
    "    {'agent_id': '2', 'first_name': 'Thornton', 'last_name': 'Lade', 'gender': 'Male', 'date_joined': '13/1/2019'},\n",
    "    {'agent_id': '3', 'first_name': 'Tasia', 'last_name': 'Skeermer', 'gender': 'Female', 'date_joined': '2/2/2019'},\n",
    "    {'agent_id': '4', 'first_name': 'Bondon', 'last_name': 'Ismay', 'gender': 'Male', 'date_joined': '10/10/2019'},\n",
    "    {'agent_id': '5', 'first_name': 'Dulcinea', 'last_name': 'Echallie', 'gender': 'Female', 'date_joined': '5/8/2019'},\n",
    "    {'agent_id': '6', 'first_name': 'Brena', 'last_name': 'Giacopazzi', 'gender': 'Female', 'date_joined': '3/12/2018'},\n",
    "    {'agent_id': '7', 'first_name': 'Lucien', 'last_name': 'Franzolini', 'gender': 'Male', 'date_joined': '24/1/2019'},\n",
    "    {'agent_id': '8', 'first_name': 'Quintana', 'last_name': 'Jery', 'gender': 'Female', 'date_joined': '11/7/2019'}\n",
    "])"
   ]
  },
  {
   "cell_type": "code",
   "execution_count": 17,
   "id": "37a074d3",
   "metadata": {},
   "outputs": [
    {
     "data": {
      "text/html": [
       "<div>\n",
       "<style scoped>\n",
       "    .dataframe tbody tr th:only-of-type {\n",
       "        vertical-align: middle;\n",
       "    }\n",
       "\n",
       "    .dataframe tbody tr th {\n",
       "        vertical-align: top;\n",
       "    }\n",
       "\n",
       "    .dataframe thead th {\n",
       "        text-align: right;\n",
       "    }\n",
       "</style>\n",
       "<table border=\"1\" class=\"dataframe\">\n",
       "  <thead>\n",
       "    <tr style=\"text-align: right;\">\n",
       "      <th></th>\n",
       "      <th>agent_id</th>\n",
       "      <th>first_name</th>\n",
       "      <th>last_name</th>\n",
       "      <th>gender</th>\n",
       "      <th>date_joined</th>\n",
       "    </tr>\n",
       "  </thead>\n",
       "  <tbody>\n",
       "    <tr>\n",
       "      <th>0</th>\n",
       "      <td>1</td>\n",
       "      <td>Lindsey</td>\n",
       "      <td>Ondrus</td>\n",
       "      <td>Male</td>\n",
       "      <td>23/5/2019</td>\n",
       "    </tr>\n",
       "    <tr>\n",
       "      <th>1</th>\n",
       "      <td>2</td>\n",
       "      <td>Thornton</td>\n",
       "      <td>Lade</td>\n",
       "      <td>Male</td>\n",
       "      <td>13/1/2019</td>\n",
       "    </tr>\n",
       "    <tr>\n",
       "      <th>2</th>\n",
       "      <td>3</td>\n",
       "      <td>Tasia</td>\n",
       "      <td>Skeermer</td>\n",
       "      <td>Female</td>\n",
       "      <td>2/2/2019</td>\n",
       "    </tr>\n",
       "    <tr>\n",
       "      <th>3</th>\n",
       "      <td>4</td>\n",
       "      <td>Bondon</td>\n",
       "      <td>Ismay</td>\n",
       "      <td>Male</td>\n",
       "      <td>10/10/2019</td>\n",
       "    </tr>\n",
       "    <tr>\n",
       "      <th>4</th>\n",
       "      <td>5</td>\n",
       "      <td>Dulcinea</td>\n",
       "      <td>Echallie</td>\n",
       "      <td>Female</td>\n",
       "      <td>5/8/2019</td>\n",
       "    </tr>\n",
       "    <tr>\n",
       "      <th>5</th>\n",
       "      <td>6</td>\n",
       "      <td>Brena</td>\n",
       "      <td>Giacopazzi</td>\n",
       "      <td>Female</td>\n",
       "      <td>3/12/2018</td>\n",
       "    </tr>\n",
       "    <tr>\n",
       "      <th>6</th>\n",
       "      <td>7</td>\n",
       "      <td>Lucien</td>\n",
       "      <td>Franzolini</td>\n",
       "      <td>Male</td>\n",
       "      <td>24/1/2019</td>\n",
       "    </tr>\n",
       "    <tr>\n",
       "      <th>7</th>\n",
       "      <td>8</td>\n",
       "      <td>Quintana</td>\n",
       "      <td>Jery</td>\n",
       "      <td>Female</td>\n",
       "      <td>11/7/2019</td>\n",
       "    </tr>\n",
       "  </tbody>\n",
       "</table>\n",
       "</div>"
      ],
      "text/plain": [
       "  agent_id first_name   last_name  gender date_joined\n",
       "0        1    Lindsey      Ondrus    Male   23/5/2019\n",
       "1        2   Thornton        Lade    Male   13/1/2019\n",
       "2        3      Tasia    Skeermer  Female    2/2/2019\n",
       "3        4     Bondon       Ismay    Male  10/10/2019\n",
       "4        5   Dulcinea    Echallie  Female    5/8/2019\n",
       "5        6      Brena  Giacopazzi  Female   3/12/2018\n",
       "6        7     Lucien  Franzolini    Male   24/1/2019\n",
       "7        8   Quintana        Jery  Female   11/7/2019"
      ]
     },
     "execution_count": 17,
     "metadata": {},
     "output_type": "execute_result"
    }
   ],
   "source": [
    "test_df"
   ]
  }
 ],
 "metadata": {
  "kernelspec": {
   "display_name": "Python 3 (ipykernel)",
   "language": "python",
   "name": "python3"
  },
  "language_info": {
   "codemirror_mode": {
    "name": "ipython",
    "version": 3
   },
   "file_extension": ".py",
   "mimetype": "text/x-python",
   "name": "python",
   "nbconvert_exporter": "python",
   "pygments_lexer": "ipython3",
   "version": "3.10.4"
  }
 },
 "nbformat": 4,
 "nbformat_minor": 5
}
