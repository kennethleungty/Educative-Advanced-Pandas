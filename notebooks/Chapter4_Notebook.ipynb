{
 "cells": [
  {
   "cell_type": "markdown",
   "id": "392b202f",
   "metadata": {},
   "source": [
    "# Educative - Advanced Pandas: Going Beyond the Basics\n",
    "## Chapter 4 - Reshaping and Manipulating Data\n",
    "___"
   ]
  },
  {
   "cell_type": "code",
   "execution_count": 2,
   "id": "b3bd880b",
   "metadata": {},
   "outputs": [
    {
     "data": {
      "text/plain": [
       "'1.5.0'"
      ]
     },
     "execution_count": 2,
     "metadata": {},
     "output_type": "execute_result"
    }
   ],
   "source": [
    "import pandas as pd\n",
    "pd.__version__"
   ]
  },
  {
   "cell_type": "markdown",
   "id": "325fdb98",
   "metadata": {},
   "source": [
    "### Table of Contents\n",
    "[(1) Primer - pandas Data Structures](#pandas-ds)  \n",
    "[(2) Concatenate](#concat)  "
   ]
  },
  {
   "cell_type": "markdown",
   "id": "00f508b9",
   "metadata": {},
   "source": [
    "___\n",
    "<a class=\"anchor\" id=\"pandas-ds\"></a>\n",
    "## (1) Primer - pandas Data Structures"
   ]
  },
  {
   "cell_type": "code",
   "execution_count": null,
   "id": "3ab5f1a8",
   "metadata": {},
   "outputs": [],
   "source": []
  },
  {
   "cell_type": "code",
   "execution_count": null,
   "id": "9fd122ab",
   "metadata": {},
   "outputs": [],
   "source": []
  },
  {
   "cell_type": "code",
   "execution_count": null,
   "id": "2efcbc30",
   "metadata": {},
   "outputs": [],
   "source": []
  },
  {
   "cell_type": "markdown",
   "id": "9566ed92",
   "metadata": {},
   "source": [
    "#### Hierarchical Indexing"
   ]
  },
  {
   "cell_type": "code",
   "execution_count": null,
   "id": "234ff18c",
   "metadata": {},
   "outputs": [],
   "source": []
  },
  {
   "cell_type": "code",
   "execution_count": null,
   "id": "9baee8a4",
   "metadata": {},
   "outputs": [],
   "source": []
  },
  {
   "cell_type": "code",
   "execution_count": null,
   "id": "c719beef",
   "metadata": {},
   "outputs": [],
   "source": []
  },
  {
   "cell_type": "code",
   "execution_count": null,
   "id": "957bf085",
   "metadata": {},
   "outputs": [],
   "source": []
  }
 ],
 "metadata": {
  "kernelspec": {
   "display_name": "adv-pandas_venv",
   "language": "python",
   "name": "adv_pandas_venv"
  },
  "language_info": {
   "codemirror_mode": {
    "name": "ipython",
    "version": 3
   },
   "file_extension": ".py",
   "mimetype": "text/x-python",
   "name": "python",
   "nbconvert_exporter": "python",
   "pygments_lexer": "ipython3",
   "version": "3.10.4"
  }
 },
 "nbformat": 4,
 "nbformat_minor": 5
}
