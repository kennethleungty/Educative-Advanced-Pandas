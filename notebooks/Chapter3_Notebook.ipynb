{
 "cells": [
  {
   "cell_type": "markdown",
   "id": "392b202f",
   "metadata": {},
   "source": [
    "# Educative - Advanced Pandas: Going Beyond the Basics\n",
    "## Chapter 3 - Combining DataFrames\n",
    "___"
   ]
  },
  {
   "cell_type": "code",
   "execution_count": 2,
   "id": "b3bd880b",
   "metadata": {},
   "outputs": [
    {
     "data": {
      "text/plain": [
       "'1.5.0'"
      ]
     },
     "execution_count": 2,
     "metadata": {},
     "output_type": "execute_result"
    }
   ],
   "source": [
    "import pandas as pd\n",
    "pd.__version__"
   ]
  },
  {
   "cell_type": "markdown",
   "id": "325fdb98",
   "metadata": {},
   "source": [
    "### Table of Contents\n",
    "[(1) Primer - pandas Data Structures](#pandas-ds)  \n",
    "[(2) Concatenate](#concat)  "
   ]
  },
  {
   "cell_type": "markdown",
   "id": "00f508b9",
   "metadata": {},
   "source": [
    "___\n",
    "<a class=\"anchor\" id=\"pandas-ds\"></a>\n",
    "## (1) Primer - pandas Data Structures"
   ]
  },
  {
   "cell_type": "markdown",
   "id": "19ff234b",
   "metadata": {},
   "source": [
    "### (i) Series"
   ]
  },
  {
   "cell_type": "code",
   "execution_count": 3,
   "id": "8b395136",
   "metadata": {},
   "outputs": [],
   "source": [
    "import numpy as np"
   ]
  },
  {
   "cell_type": "code",
   "execution_count": 4,
   "id": "1c1abb0b",
   "metadata": {},
   "outputs": [
    {
     "name": "stdout",
     "output_type": "stream",
     "text": [
      "0    0.471174\n",
      "1    0.943154\n",
      "2    0.592795\n",
      "3    0.020496\n",
      "4   -0.667922\n",
      "dtype: float64\n"
     ]
    }
   ],
   "source": [
    "s1 = pd.Series(np.random.randn(5))\n",
    "print(s1)"
   ]
  },
  {
   "cell_type": "code",
   "execution_count": 5,
   "id": "cb698a07",
   "metadata": {},
   "outputs": [
    {
     "name": "stdout",
     "output_type": "stream",
     "text": [
      "d\n",
      "------------------------------\n",
      "0    a\n",
      "1    b\n",
      "2    c\n",
      "3    d\n",
      "4    z\n",
      "dtype: object\n"
     ]
    }
   ],
   "source": [
    "s2 = pd.Series(['a','b','c','d','e'])\n",
    "\n",
    "# Getting value by index label (index 3)\n",
    "print(s2[3])\n",
    "\n",
    "print('-' * 30)\n",
    "\n",
    "# Setting value at index label\n",
    "s2[4] = 'z'\n",
    "print(s2)"
   ]
  },
  {
   "cell_type": "code",
   "execution_count": 6,
   "id": "f3089c9b",
   "metadata": {},
   "outputs": [
    {
     "name": "stdout",
     "output_type": "stream",
     "text": [
      "0     1\n",
      "1     4\n",
      "2     9\n",
      "3    16\n",
      "4    25\n",
      "dtype: int64\n"
     ]
    }
   ],
   "source": [
    "s3 = pd.Series([1,2,3,4,5])\n",
    "\n",
    "# Square each value in the series\n",
    "print(s3 ** 2)"
   ]
  },
  {
   "cell_type": "markdown",
   "id": "7f01dda6",
   "metadata": {},
   "source": [
    "### (ii) DataFrame"
   ]
  },
  {
   "cell_type": "code",
   "execution_count": 7,
   "id": "8cd0a4d0",
   "metadata": {},
   "outputs": [
    {
     "name": "stdout",
     "output_type": "stream",
     "text": [
      "    s1   s2   s3\n",
      "a  1.0  1.0  1.0\n",
      "b  2.0  2.0  2.0\n",
      "c  NaN  3.0  3.0\n",
      "d  NaN  NaN  4.0\n"
     ]
    }
   ],
   "source": [
    "# Define dictionary of 3 pandas Series\n",
    "d1 = {\n",
    "    \"s1\": pd.Series([1.0, 2.0], index=[\"a\", \"b\"]),\n",
    "    \"s2\": pd.Series([1.0, 2.0, 3.0], index=[\"a\", \"b\", \"c\"]),\n",
    "    \"s3\": pd.Series([1.0, 2.0, 3.0, 4.0], index=[\"a\", \"b\", \"c\", \"d\"])\n",
    "    }\n",
    "\n",
    "# Create DataFrame object from dictionary of Series\n",
    "df = pd.DataFrame(d1)\n",
    "print(df)"
   ]
  },
  {
   "cell_type": "code",
   "execution_count": 8,
   "id": "fef1afdd",
   "metadata": {
    "scrolled": true
   },
   "outputs": [
    {
     "data": {
      "text/html": [
       "<div>\n",
       "<style scoped>\n",
       "    .dataframe tbody tr th:only-of-type {\n",
       "        vertical-align: middle;\n",
       "    }\n",
       "\n",
       "    .dataframe tbody tr th {\n",
       "        vertical-align: top;\n",
       "    }\n",
       "\n",
       "    .dataframe thead th {\n",
       "        text-align: right;\n",
       "    }\n",
       "</style>\n",
       "<table border=\"1\" class=\"dataframe\">\n",
       "  <thead>\n",
       "    <tr style=\"text-align: right;\">\n",
       "      <th></th>\n",
       "      <th>s1</th>\n",
       "      <th>s2</th>\n",
       "      <th>s3</th>\n",
       "    </tr>\n",
       "  </thead>\n",
       "  <tbody>\n",
       "    <tr>\n",
       "      <th>b</th>\n",
       "      <td>2.0</td>\n",
       "      <td>2.0</td>\n",
       "      <td>2.0</td>\n",
       "    </tr>\n",
       "    <tr>\n",
       "      <th>c</th>\n",
       "      <td>NaN</td>\n",
       "      <td>3.0</td>\n",
       "      <td>3.0</td>\n",
       "    </tr>\n",
       "  </tbody>\n",
       "</table>\n",
       "</div>"
      ],
      "text/plain": [
       "    s1   s2   s3\n",
       "b  2.0  2.0  2.0\n",
       "c  NaN  3.0  3.0"
      ]
     },
     "execution_count": 8,
     "metadata": {},
     "output_type": "execute_result"
    }
   ],
   "source": [
    "df[1:3]"
   ]
  },
  {
   "cell_type": "markdown",
   "id": "1f4c7e5c",
   "metadata": {},
   "source": [
    "___\n",
    "<a class=\"anchor\" id=\"concat\"></a>\n",
    "## (2) Concatenate"
   ]
  },
  {
   "cell_type": "code",
   "execution_count": 9,
   "id": "94cda2b2",
   "metadata": {},
   "outputs": [],
   "source": [
    "df = pd.read_csv('../data/csv/insured_cars.csv')"
   ]
  },
  {
   "cell_type": "markdown",
   "id": "b83fad31",
   "metadata": {},
   "source": [
    "### (i) Row-wise Concatenation"
   ]
  },
  {
   "cell_type": "code",
   "execution_count": 10,
   "id": "68d9f661",
   "metadata": {},
   "outputs": [
    {
     "data": {
      "text/html": [
       "<div>\n",
       "<style scoped>\n",
       "    .dataframe tbody tr th:only-of-type {\n",
       "        vertical-align: middle;\n",
       "    }\n",
       "\n",
       "    .dataframe tbody tr th {\n",
       "        vertical-align: top;\n",
       "    }\n",
       "\n",
       "    .dataframe thead th {\n",
       "        text-align: right;\n",
       "    }\n",
       "</style>\n",
       "<table border=\"1\" class=\"dataframe\">\n",
       "  <thead>\n",
       "    <tr style=\"text-align: right;\">\n",
       "      <th></th>\n",
       "      <th>insured_car_id</th>\n",
       "      <th>car_make</th>\n",
       "      <th>car_model</th>\n",
       "      <th>car_model_year</th>\n",
       "    </tr>\n",
       "  </thead>\n",
       "  <tbody>\n",
       "    <tr>\n",
       "      <th>38</th>\n",
       "      <td>1G6DE5EG4A0258970</td>\n",
       "      <td>Pontiac</td>\n",
       "      <td>Aztek</td>\n",
       "      <td>2005</td>\n",
       "    </tr>\n",
       "    <tr>\n",
       "      <th>39</th>\n",
       "      <td>WAUVT54B42N848231</td>\n",
       "      <td>Toyota</td>\n",
       "      <td>Tundra</td>\n",
       "      <td>2005</td>\n",
       "    </tr>\n",
       "    <tr>\n",
       "      <th>40</th>\n",
       "      <td>3GYT4LEF1DG807641</td>\n",
       "      <td>Nissan</td>\n",
       "      <td>Frontier</td>\n",
       "      <td>2005</td>\n",
       "    </tr>\n",
       "    <tr>\n",
       "      <th>41</th>\n",
       "      <td>SCFFDAAE4CG206577</td>\n",
       "      <td>Infiniti</td>\n",
       "      <td>Q</td>\n",
       "      <td>2004</td>\n",
       "    </tr>\n",
       "    <tr>\n",
       "      <th>42</th>\n",
       "      <td>1FMJU1H55AE867096</td>\n",
       "      <td>Pontiac</td>\n",
       "      <td>Grand Prix</td>\n",
       "      <td>2004</td>\n",
       "    </tr>\n",
       "  </tbody>\n",
       "</table>\n",
       "</div>"
      ],
      "text/plain": [
       "       insured_car_id  car_make   car_model  car_model_year\n",
       "38  1G6DE5EG4A0258970   Pontiac       Aztek            2005\n",
       "39  WAUVT54B42N848231    Toyota      Tundra            2005\n",
       "40  3GYT4LEF1DG807641    Nissan    Frontier            2005\n",
       "41  SCFFDAAE4CG206577  Infiniti           Q            2004\n",
       "42  1FMJU1H55AE867096   Pontiac  Grand Prix            2004"
      ]
     },
     "execution_count": 10,
     "metadata": {},
     "output_type": "execute_result"
    }
   ],
   "source": [
    "df_A = df[df['car_model_year'] <= 2005]\n",
    "df_A.head()"
   ]
  },
  {
   "cell_type": "code",
   "execution_count": 11,
   "id": "dcaa4f22",
   "metadata": {},
   "outputs": [
    {
     "data": {
      "text/html": [
       "<div>\n",
       "<style scoped>\n",
       "    .dataframe tbody tr th:only-of-type {\n",
       "        vertical-align: middle;\n",
       "    }\n",
       "\n",
       "    .dataframe tbody tr th {\n",
       "        vertical-align: top;\n",
       "    }\n",
       "\n",
       "    .dataframe thead th {\n",
       "        text-align: right;\n",
       "    }\n",
       "</style>\n",
       "<table border=\"1\" class=\"dataframe\">\n",
       "  <thead>\n",
       "    <tr style=\"text-align: right;\">\n",
       "      <th></th>\n",
       "      <th>insured_car_id</th>\n",
       "      <th>car_make</th>\n",
       "      <th>car_model</th>\n",
       "      <th>car_model_year</th>\n",
       "    </tr>\n",
       "  </thead>\n",
       "  <tbody>\n",
       "    <tr>\n",
       "      <th>0</th>\n",
       "      <td>1G6KD54Y55U074446</td>\n",
       "      <td>Rolls-Royce</td>\n",
       "      <td>Phantom</td>\n",
       "      <td>2013</td>\n",
       "    </tr>\n",
       "    <tr>\n",
       "      <th>1</th>\n",
       "      <td>5GTMNGEE4A8349979</td>\n",
       "      <td>Fiat</td>\n",
       "      <td>Nuova 500</td>\n",
       "      <td>2012</td>\n",
       "    </tr>\n",
       "    <tr>\n",
       "      <th>2</th>\n",
       "      <td>SAJWA4DC1AM015816</td>\n",
       "      <td>Rolls-Royce</td>\n",
       "      <td>Phantom</td>\n",
       "      <td>2012</td>\n",
       "    </tr>\n",
       "    <tr>\n",
       "      <th>3</th>\n",
       "      <td>WAUUL78E58A745606</td>\n",
       "      <td>Infiniti</td>\n",
       "      <td>G37</td>\n",
       "      <td>2012</td>\n",
       "    </tr>\n",
       "    <tr>\n",
       "      <th>4</th>\n",
       "      <td>JTEBU5JRXD5313620</td>\n",
       "      <td>GMC</td>\n",
       "      <td>Sierra 2500</td>\n",
       "      <td>2012</td>\n",
       "    </tr>\n",
       "  </tbody>\n",
       "</table>\n",
       "</div>"
      ],
      "text/plain": [
       "      insured_car_id     car_make    car_model  car_model_year\n",
       "0  1G6KD54Y55U074446  Rolls-Royce      Phantom            2013\n",
       "1  5GTMNGEE4A8349979         Fiat    Nuova 500            2012\n",
       "2  SAJWA4DC1AM015816  Rolls-Royce      Phantom            2012\n",
       "3  WAUUL78E58A745606     Infiniti          G37            2012\n",
       "4  JTEBU5JRXD5313620          GMC  Sierra 2500            2012"
      ]
     },
     "execution_count": 11,
     "metadata": {},
     "output_type": "execute_result"
    }
   ],
   "source": [
    "df_B = df[df['car_model_year'] >= 2006]\n",
    "df_B.head()"
   ]
  },
  {
   "cell_type": "code",
   "execution_count": 12,
   "id": "f2de358b",
   "metadata": {},
   "outputs": [],
   "source": [
    "df_concat = pd.concat([df_A, df_B], \n",
    "                      axis=0,\n",
    "                      ignore_index=True)"
   ]
  },
  {
   "cell_type": "code",
   "execution_count": 13,
   "id": "6c13c704",
   "metadata": {},
   "outputs": [
    {
     "data": {
      "text/html": [
       "<div>\n",
       "<style scoped>\n",
       "    .dataframe tbody tr th:only-of-type {\n",
       "        vertical-align: middle;\n",
       "    }\n",
       "\n",
       "    .dataframe tbody tr th {\n",
       "        vertical-align: top;\n",
       "    }\n",
       "\n",
       "    .dataframe thead th {\n",
       "        text-align: right;\n",
       "    }\n",
       "</style>\n",
       "<table border=\"1\" class=\"dataframe\">\n",
       "  <thead>\n",
       "    <tr style=\"text-align: right;\">\n",
       "      <th></th>\n",
       "      <th>insured_car_id</th>\n",
       "      <th>car_make</th>\n",
       "      <th>car_model</th>\n",
       "      <th>car_model_year</th>\n",
       "    </tr>\n",
       "  </thead>\n",
       "  <tbody>\n",
       "    <tr>\n",
       "      <th>61</th>\n",
       "      <td>WDDEJ7GB8AA509659</td>\n",
       "      <td>Ford</td>\n",
       "      <td>Falcon</td>\n",
       "      <td>1966</td>\n",
       "    </tr>\n",
       "    <tr>\n",
       "      <th>60</th>\n",
       "      <td>3C3CFFBR8FT680062</td>\n",
       "      <td>Pontiac</td>\n",
       "      <td>Bonneville</td>\n",
       "      <td>1967</td>\n",
       "    </tr>\n",
       "    <tr>\n",
       "      <th>59</th>\n",
       "      <td>WBA3R1C5XFK004020</td>\n",
       "      <td>Chevrolet</td>\n",
       "      <td>Monte Carlo</td>\n",
       "      <td>1973</td>\n",
       "    </tr>\n",
       "    <tr>\n",
       "      <th>58</th>\n",
       "      <td>5UXKR2C54E0736382</td>\n",
       "      <td>Lincoln</td>\n",
       "      <td>Continental</td>\n",
       "      <td>1984</td>\n",
       "    </tr>\n",
       "    <tr>\n",
       "      <th>56</th>\n",
       "      <td>1HGCR2E54DA590806</td>\n",
       "      <td>Mercedes-Benz</td>\n",
       "      <td>S-Class</td>\n",
       "      <td>1987</td>\n",
       "    </tr>\n",
       "    <tr>\n",
       "      <th>...</th>\n",
       "      <td>...</td>\n",
       "      <td>...</td>\n",
       "      <td>...</td>\n",
       "      <td>...</td>\n",
       "    </tr>\n",
       "    <tr>\n",
       "      <th>64</th>\n",
       "      <td>SAJWA4DC1AM015816</td>\n",
       "      <td>Rolls-Royce</td>\n",
       "      <td>Phantom</td>\n",
       "      <td>2012</td>\n",
       "    </tr>\n",
       "    <tr>\n",
       "      <th>63</th>\n",
       "      <td>5GTMNGEE4A8349979</td>\n",
       "      <td>Fiat</td>\n",
       "      <td>Nuova 500</td>\n",
       "      <td>2012</td>\n",
       "    </tr>\n",
       "    <tr>\n",
       "      <th>67</th>\n",
       "      <td>1N6AA0CC8EN395947</td>\n",
       "      <td>Volvo</td>\n",
       "      <td>XC70</td>\n",
       "      <td>2012</td>\n",
       "    </tr>\n",
       "    <tr>\n",
       "      <th>65</th>\n",
       "      <td>WAUUL78E58A745606</td>\n",
       "      <td>Infiniti</td>\n",
       "      <td>G37</td>\n",
       "      <td>2012</td>\n",
       "    </tr>\n",
       "    <tr>\n",
       "      <th>62</th>\n",
       "      <td>1G6KD54Y55U074446</td>\n",
       "      <td>Rolls-Royce</td>\n",
       "      <td>Phantom</td>\n",
       "      <td>2013</td>\n",
       "    </tr>\n",
       "  </tbody>\n",
       "</table>\n",
       "<p>100 rows × 4 columns</p>\n",
       "</div>"
      ],
      "text/plain": [
       "       insured_car_id       car_make    car_model  car_model_year\n",
       "61  WDDEJ7GB8AA509659           Ford       Falcon            1966\n",
       "60  3C3CFFBR8FT680062        Pontiac   Bonneville            1967\n",
       "59  WBA3R1C5XFK004020      Chevrolet  Monte Carlo            1973\n",
       "58  5UXKR2C54E0736382        Lincoln  Continental            1984\n",
       "56  1HGCR2E54DA590806  Mercedes-Benz      S-Class            1987\n",
       "..                ...            ...          ...             ...\n",
       "64  SAJWA4DC1AM015816    Rolls-Royce      Phantom            2012\n",
       "63  5GTMNGEE4A8349979           Fiat    Nuova 500            2012\n",
       "67  1N6AA0CC8EN395947          Volvo         XC70            2012\n",
       "65  WAUUL78E58A745606       Infiniti          G37            2012\n",
       "62  1G6KD54Y55U074446    Rolls-Royce      Phantom            2013\n",
       "\n",
       "[100 rows x 4 columns]"
      ]
     },
     "execution_count": 13,
     "metadata": {},
     "output_type": "execute_result"
    }
   ],
   "source": [
    "df_concat.sort_values(by='car_model_year')"
   ]
  },
  {
   "cell_type": "markdown",
   "id": "68e4eb86",
   "metadata": {},
   "source": [
    "### (ii) Column-wise Concatenation"
   ]
  },
  {
   "cell_type": "code",
   "execution_count": 15,
   "id": "ca58d4f4",
   "metadata": {},
   "outputs": [
    {
     "data": {
      "text/html": [
       "<div>\n",
       "<style scoped>\n",
       "    .dataframe tbody tr th:only-of-type {\n",
       "        vertical-align: middle;\n",
       "    }\n",
       "\n",
       "    .dataframe tbody tr th {\n",
       "        vertical-align: top;\n",
       "    }\n",
       "\n",
       "    .dataframe thead th {\n",
       "        text-align: right;\n",
       "    }\n",
       "</style>\n",
       "<table border=\"1\" class=\"dataframe\">\n",
       "  <thead>\n",
       "    <tr style=\"text-align: right;\">\n",
       "      <th></th>\n",
       "      <th>insured_car_id</th>\n",
       "      <th>car_make</th>\n",
       "    </tr>\n",
       "  </thead>\n",
       "  <tbody>\n",
       "    <tr>\n",
       "      <th>0</th>\n",
       "      <td>1G6KD54Y55U074446</td>\n",
       "      <td>Rolls-Royce</td>\n",
       "    </tr>\n",
       "    <tr>\n",
       "      <th>1</th>\n",
       "      <td>5GTMNGEE4A8349979</td>\n",
       "      <td>Fiat</td>\n",
       "    </tr>\n",
       "    <tr>\n",
       "      <th>2</th>\n",
       "      <td>SAJWA4DC1AM015816</td>\n",
       "      <td>Rolls-Royce</td>\n",
       "    </tr>\n",
       "    <tr>\n",
       "      <th>3</th>\n",
       "      <td>WAUUL78E58A745606</td>\n",
       "      <td>Infiniti</td>\n",
       "    </tr>\n",
       "    <tr>\n",
       "      <th>4</th>\n",
       "      <td>JTEBU5JRXD5313620</td>\n",
       "      <td>GMC</td>\n",
       "    </tr>\n",
       "  </tbody>\n",
       "</table>\n",
       "</div>"
      ],
      "text/plain": [
       "      insured_car_id     car_make\n",
       "0  1G6KD54Y55U074446  Rolls-Royce\n",
       "1  5GTMNGEE4A8349979         Fiat\n",
       "2  SAJWA4DC1AM015816  Rolls-Royce\n",
       "3  WAUUL78E58A745606     Infiniti\n",
       "4  JTEBU5JRXD5313620          GMC"
      ]
     },
     "execution_count": 15,
     "metadata": {},
     "output_type": "execute_result"
    }
   ],
   "source": [
    "df_C = df[['insured_car_id', 'car_make']]\n",
    "df_C.head()"
   ]
  },
  {
   "cell_type": "code",
   "execution_count": 16,
   "id": "b26a8845",
   "metadata": {},
   "outputs": [
    {
     "data": {
      "text/html": [
       "<div>\n",
       "<style scoped>\n",
       "    .dataframe tbody tr th:only-of-type {\n",
       "        vertical-align: middle;\n",
       "    }\n",
       "\n",
       "    .dataframe tbody tr th {\n",
       "        vertical-align: top;\n",
       "    }\n",
       "\n",
       "    .dataframe thead th {\n",
       "        text-align: right;\n",
       "    }\n",
       "</style>\n",
       "<table border=\"1\" class=\"dataframe\">\n",
       "  <thead>\n",
       "    <tr style=\"text-align: right;\">\n",
       "      <th></th>\n",
       "      <th>car_model</th>\n",
       "      <th>car_model_year</th>\n",
       "    </tr>\n",
       "  </thead>\n",
       "  <tbody>\n",
       "    <tr>\n",
       "      <th>0</th>\n",
       "      <td>Phantom</td>\n",
       "      <td>2013</td>\n",
       "    </tr>\n",
       "    <tr>\n",
       "      <th>1</th>\n",
       "      <td>Nuova 500</td>\n",
       "      <td>2012</td>\n",
       "    </tr>\n",
       "    <tr>\n",
       "      <th>2</th>\n",
       "      <td>Phantom</td>\n",
       "      <td>2012</td>\n",
       "    </tr>\n",
       "    <tr>\n",
       "      <th>3</th>\n",
       "      <td>G37</td>\n",
       "      <td>2012</td>\n",
       "    </tr>\n",
       "    <tr>\n",
       "      <th>4</th>\n",
       "      <td>Sierra 2500</td>\n",
       "      <td>2012</td>\n",
       "    </tr>\n",
       "  </tbody>\n",
       "</table>\n",
       "</div>"
      ],
      "text/plain": [
       "     car_model  car_model_year\n",
       "0      Phantom            2013\n",
       "1    Nuova 500            2012\n",
       "2      Phantom            2012\n",
       "3          G37            2012\n",
       "4  Sierra 2500            2012"
      ]
     },
     "execution_count": 16,
     "metadata": {},
     "output_type": "execute_result"
    }
   ],
   "source": [
    "df_D = df[['car_model', 'car_model_year']]\n",
    "df_D.head()"
   ]
  },
  {
   "cell_type": "code",
   "execution_count": 19,
   "id": "2597c4cf",
   "metadata": {},
   "outputs": [],
   "source": [
    "df_concat = pd.concat([df_C, df_D], \n",
    "                      axis=1,\n",
    "#                       ignore_index=True\n",
    "                     )"
   ]
  },
  {
   "cell_type": "code",
   "execution_count": 20,
   "id": "b0272324",
   "metadata": {},
   "outputs": [
    {
     "data": {
      "text/html": [
       "<div>\n",
       "<style scoped>\n",
       "    .dataframe tbody tr th:only-of-type {\n",
       "        vertical-align: middle;\n",
       "    }\n",
       "\n",
       "    .dataframe tbody tr th {\n",
       "        vertical-align: top;\n",
       "    }\n",
       "\n",
       "    .dataframe thead th {\n",
       "        text-align: right;\n",
       "    }\n",
       "</style>\n",
       "<table border=\"1\" class=\"dataframe\">\n",
       "  <thead>\n",
       "    <tr style=\"text-align: right;\">\n",
       "      <th></th>\n",
       "      <th>insured_car_id</th>\n",
       "      <th>car_make</th>\n",
       "      <th>car_model</th>\n",
       "      <th>car_model_year</th>\n",
       "    </tr>\n",
       "  </thead>\n",
       "  <tbody>\n",
       "    <tr>\n",
       "      <th>0</th>\n",
       "      <td>1G6KD54Y55U074446</td>\n",
       "      <td>Rolls-Royce</td>\n",
       "      <td>Phantom</td>\n",
       "      <td>2013</td>\n",
       "    </tr>\n",
       "    <tr>\n",
       "      <th>1</th>\n",
       "      <td>5GTMNGEE4A8349979</td>\n",
       "      <td>Fiat</td>\n",
       "      <td>Nuova 500</td>\n",
       "      <td>2012</td>\n",
       "    </tr>\n",
       "    <tr>\n",
       "      <th>2</th>\n",
       "      <td>SAJWA4DC1AM015816</td>\n",
       "      <td>Rolls-Royce</td>\n",
       "      <td>Phantom</td>\n",
       "      <td>2012</td>\n",
       "    </tr>\n",
       "    <tr>\n",
       "      <th>3</th>\n",
       "      <td>WAUUL78E58A745606</td>\n",
       "      <td>Infiniti</td>\n",
       "      <td>G37</td>\n",
       "      <td>2012</td>\n",
       "    </tr>\n",
       "    <tr>\n",
       "      <th>4</th>\n",
       "      <td>JTEBU5JRXD5313620</td>\n",
       "      <td>GMC</td>\n",
       "      <td>Sierra 2500</td>\n",
       "      <td>2012</td>\n",
       "    </tr>\n",
       "  </tbody>\n",
       "</table>\n",
       "</div>"
      ],
      "text/plain": [
       "      insured_car_id     car_make    car_model  car_model_year\n",
       "0  1G6KD54Y55U074446  Rolls-Royce      Phantom            2013\n",
       "1  5GTMNGEE4A8349979         Fiat    Nuova 500            2012\n",
       "2  SAJWA4DC1AM015816  Rolls-Royce      Phantom            2012\n",
       "3  WAUUL78E58A745606     Infiniti          G37            2012\n",
       "4  JTEBU5JRXD5313620          GMC  Sierra 2500            2012"
      ]
     },
     "execution_count": 20,
     "metadata": {},
     "output_type": "execute_result"
    }
   ],
   "source": [
    "df_concat.head()"
   ]
  },
  {
   "cell_type": "markdown",
   "id": "b62a7fe8",
   "metadata": {},
   "source": [
    "### (iii) Additional Parameters"
   ]
  },
  {
   "cell_type": "markdown",
   "id": "249bcb3d",
   "metadata": {},
   "source": [
    "#### Hierarchical Indexing"
   ]
  },
  {
   "cell_type": "code",
   "execution_count": null,
   "id": "3ab5f1a8",
   "metadata": {},
   "outputs": [],
   "source": []
  },
  {
   "cell_type": "code",
   "execution_count": null,
   "id": "9fd122ab",
   "metadata": {},
   "outputs": [],
   "source": []
  },
  {
   "cell_type": "code",
   "execution_count": null,
   "id": "2efcbc30",
   "metadata": {},
   "outputs": [],
   "source": []
  },
  {
   "cell_type": "markdown",
   "id": "9566ed92",
   "metadata": {},
   "source": [
    "#### Hierarchical Indexing"
   ]
  },
  {
   "cell_type": "code",
   "execution_count": null,
   "id": "234ff18c",
   "metadata": {},
   "outputs": [],
   "source": []
  },
  {
   "cell_type": "code",
   "execution_count": null,
   "id": "9baee8a4",
   "metadata": {},
   "outputs": [],
   "source": []
  },
  {
   "cell_type": "code",
   "execution_count": null,
   "id": "c719beef",
   "metadata": {},
   "outputs": [],
   "source": []
  },
  {
   "cell_type": "code",
   "execution_count": null,
   "id": "957bf085",
   "metadata": {},
   "outputs": [],
   "source": []
  }
 ],
 "metadata": {
  "kernelspec": {
   "display_name": "adv-pandas_venv",
   "language": "python",
   "name": "adv_pandas_venv"
  },
  "language_info": {
   "codemirror_mode": {
    "name": "ipython",
    "version": 3
   },
   "file_extension": ".py",
   "mimetype": "text/x-python",
   "name": "python",
   "nbconvert_exporter": "python",
   "pygments_lexer": "ipython3",
   "version": "3.10.4"
  }
 },
 "nbformat": 4,
 "nbformat_minor": 5
}
