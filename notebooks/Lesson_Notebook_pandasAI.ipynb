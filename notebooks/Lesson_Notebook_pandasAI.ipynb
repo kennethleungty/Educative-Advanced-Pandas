{
 "cells": [
  {
   "cell_type": "markdown",
   "id": "fd283992-b38e-49b5-92e0-84330745f9c3",
   "metadata": {},
   "source": [
    "# Advanced pandas - Going Beyond the Basics\n",
    "\n",
    "## pandasAI\n",
    "___\n",
    "\n",
    "### Table of Contents\n",
    "1. [Import dependencies](#section1)\n",
    "2. [Import dataset](#section2)\n",
    "3. [Instantiate OpenAI LLM and pandasAI object](#section3)\n",
    "4. [Running queries](#section4)\n",
    "5. [Enforcing privacy](#section5)\n",
    "6. [Common data manipulations](#section6)"
   ]
  },
  {
   "cell_type": "markdown",
   "id": "2c795658-ab3c-450f-8fcc-73a3614dd687",
   "metadata": {},
   "source": [
    "___\n",
    "<a id='section1'></a>\n",
    "## (1) Import dependencies"
   ]
  },
  {
   "cell_type": "code",
   "execution_count": 1,
   "id": "a9bfaea1",
   "metadata": {},
   "outputs": [],
   "source": [
    "# Install dependencies (if not already done so)\n",
    "# !pip install pandas==2.0.3\n",
    "# !pip install pandasai==0.4.0"
   ]
  },
  {
   "cell_type": "code",
   "execution_count": 2,
   "id": "ea1df48b-45b1-4eae-92b5-fcec359b530d",
   "metadata": {},
   "outputs": [],
   "source": [
    "import numpy as np\n",
    "import pandas as pd\n",
    "import pandasai as pdai\n",
    "from pandasai import PandasAI\n",
    "from pandasai.llm.openai import OpenAI"
   ]
  },
  {
   "cell_type": "markdown",
   "id": "2f75c7ff",
   "metadata": {},
   "source": [
    "___\n",
    "<a id='section2'></a>\n",
    "## (2) Import dataset\n",
    "- Data Source: https://www.kaggle.com/datasets/datascientistanna/customers-dataset (Database Contents License (DbCL) v1.0)"
   ]
  },
  {
   "cell_type": "code",
   "execution_count": 3,
   "id": "072149af",
   "metadata": {},
   "outputs": [
    {
     "data": {
      "text/html": [
       "<div>\n",
       "<style scoped>\n",
       "    .dataframe tbody tr th:only-of-type {\n",
       "        vertical-align: middle;\n",
       "    }\n",
       "\n",
       "    .dataframe tbody tr th {\n",
       "        vertical-align: top;\n",
       "    }\n",
       "\n",
       "    .dataframe thead th {\n",
       "        text-align: right;\n",
       "    }\n",
       "</style>\n",
       "<table border=\"1\" class=\"dataframe\">\n",
       "  <thead>\n",
       "    <tr style=\"text-align: right;\">\n",
       "      <th></th>\n",
       "      <th>Gender</th>\n",
       "      <th>Age</th>\n",
       "      <th>AnnualIncome</th>\n",
       "      <th>SpendingScore</th>\n",
       "      <th>Profession</th>\n",
       "      <th>WorkExperience</th>\n",
       "      <th>FamilySize</th>\n",
       "    </tr>\n",
       "    <tr>\n",
       "      <th>CustomerID</th>\n",
       "      <th></th>\n",
       "      <th></th>\n",
       "      <th></th>\n",
       "      <th></th>\n",
       "      <th></th>\n",
       "      <th></th>\n",
       "      <th></th>\n",
       "    </tr>\n",
       "  </thead>\n",
       "  <tbody>\n",
       "    <tr>\n",
       "      <th>1</th>\n",
       "      <td>Male</td>\n",
       "      <td>19</td>\n",
       "      <td>15000</td>\n",
       "      <td>39</td>\n",
       "      <td>Scientist</td>\n",
       "      <td>1</td>\n",
       "      <td>4</td>\n",
       "    </tr>\n",
       "    <tr>\n",
       "      <th>2</th>\n",
       "      <td>Male</td>\n",
       "      <td>21</td>\n",
       "      <td>35000</td>\n",
       "      <td>81</td>\n",
       "      <td>Engineer</td>\n",
       "      <td>3</td>\n",
       "      <td>3</td>\n",
       "    </tr>\n",
       "    <tr>\n",
       "      <th>3</th>\n",
       "      <td>Female</td>\n",
       "      <td>20</td>\n",
       "      <td>86000</td>\n",
       "      <td>6</td>\n",
       "      <td>Engineer</td>\n",
       "      <td>1</td>\n",
       "      <td>1</td>\n",
       "    </tr>\n",
       "    <tr>\n",
       "      <th>4</th>\n",
       "      <td>Female</td>\n",
       "      <td>23</td>\n",
       "      <td>59000</td>\n",
       "      <td>77</td>\n",
       "      <td>Lawyer</td>\n",
       "      <td>0</td>\n",
       "      <td>2</td>\n",
       "    </tr>\n",
       "    <tr>\n",
       "      <th>5</th>\n",
       "      <td>Female</td>\n",
       "      <td>31</td>\n",
       "      <td>38000</td>\n",
       "      <td>40</td>\n",
       "      <td>Artist</td>\n",
       "      <td>2</td>\n",
       "      <td>6</td>\n",
       "    </tr>\n",
       "    <tr>\n",
       "      <th>6</th>\n",
       "      <td>Female</td>\n",
       "      <td>22</td>\n",
       "      <td>58000</td>\n",
       "      <td>76</td>\n",
       "      <td>Engineer</td>\n",
       "      <td>0</td>\n",
       "      <td>2</td>\n",
       "    </tr>\n",
       "    <tr>\n",
       "      <th>7</th>\n",
       "      <td>Female</td>\n",
       "      <td>35</td>\n",
       "      <td>31000</td>\n",
       "      <td>6</td>\n",
       "      <td>Scientist</td>\n",
       "      <td>1</td>\n",
       "      <td>3</td>\n",
       "    </tr>\n",
       "  </tbody>\n",
       "</table>\n",
       "</div>"
      ],
      "text/plain": [
       "            Gender  Age  AnnualIncome  SpendingScore Profession  \\\n",
       "CustomerID                                                        \n",
       "1             Male   19         15000             39  Scientist   \n",
       "2             Male   21         35000             81   Engineer   \n",
       "3           Female   20         86000              6   Engineer   \n",
       "4           Female   23         59000             77     Lawyer   \n",
       "5           Female   31         38000             40     Artist   \n",
       "6           Female   22         58000             76   Engineer   \n",
       "7           Female   35         31000              6  Scientist   \n",
       "\n",
       "            WorkExperience  FamilySize  \n",
       "CustomerID                              \n",
       "1                        1           4  \n",
       "2                        3           3  \n",
       "3                        1           1  \n",
       "4                        0           2  \n",
       "5                        2           6  \n",
       "6                        0           2  \n",
       "7                        1           3  "
      ]
     },
     "execution_count": 3,
     "metadata": {},
     "output_type": "execute_result"
    }
   ],
   "source": [
    "# Import and read CSV file\n",
    "df = pd.read_csv('https://raw.githubusercontent.com/kennethleungty/Educative-Advanced-Pandas/main/data/csv/Customers_Mini.csv')\n",
    "\n",
    "# Set CustomerID as index\n",
    "df = df.set_index('CustomerID')\n",
    "\n",
    "# View entire DataFrame\n",
    "df"
   ]
  },
  {
   "cell_type": "markdown",
   "id": "5fe11f7c-ee76-4470-9fea-8e4e848e5385",
   "metadata": {},
   "source": [
    "___\n",
    "<a id='section3'></a>\n",
    "## (3) Instantiate OpenAI LLM and pandasAI object\n",
    "We need to first set up the OpenAI API connection to our desired large language model (LLM), and then instantiate a `pandasAI` object for which we will pass our DataFrame and query into."
   ]
  },
  {
   "cell_type": "markdown",
   "id": "b10ecfeb",
   "metadata": {},
   "source": [
    "> **Note**: For this lesson, we will make use of OpenAI GPT3.5 (aka \n",
    "gpt-3.5-turbo). The list of supported Chat models includes \"gpt-4\", \"gpt-4-0314\", \"gpt-4-32k\", \"gpt-4-32k-0314\",\"gpt-3.5-turbo\", \"gpt-3.5-turbo-0301\".\n",
    "\n",
    "> Check out this link to find out how to retrieve your OpenAI API key: https://help.openai.com/en/articles/4936850-where-do-i-find-my-secret-api-key"
   ]
  },
  {
   "cell_type": "code",
   "execution_count": 4,
   "id": "0138d417",
   "metadata": {},
   "outputs": [],
   "source": [
    "# Setup OpenAI LLM\n",
    "OPENAI_API_KEY = '' # insert your API Key here\n",
    "llm = OpenAI(api_token=OPENAI_API_KEY) # Default is GPT3.5"
   ]
  },
  {
   "cell_type": "code",
   "execution_count": 5,
   "id": "b93af798",
   "metadata": {},
   "outputs": [],
   "source": [
    "# Instantiate PandasAI object from LLM\n",
    "pandas_ai = PandasAI(llm)"
   ]
  },
  {
   "cell_type": "markdown",
   "id": "5e865c04",
   "metadata": {},
   "source": [
    "___\n",
    "<a id='section4'></a>\n",
    "## (4) Running queries\n",
    "We now put `pandasAI` to the test by passing text queries to obtain the output required. Besides text and DataFrame output, `pandasAI` can also be used to generate charts and visualizations."
   ]
  },
  {
   "cell_type": "code",
   "execution_count": 6,
   "id": "cdda6535",
   "metadata": {},
   "outputs": [
    {
     "data": {
      "text/plain": [
       "'Engineer'"
      ]
     },
     "execution_count": 6,
     "metadata": {},
     "output_type": "execute_result"
    }
   ],
   "source": [
    "# Ask generic queries\n",
    "pandas_ai.run(df, prompt='Which is the most common profession?')"
   ]
  },
  {
   "cell_type": "code",
   "execution_count": 7,
   "id": "7d87c897",
   "metadata": {},
   "outputs": [
    {
     "data": {
      "image/png": "[encoded data removed]",
      "text/plain": [
       "<Figure size 640x480 with 1 Axes>"
      ]
     },
     "metadata": {},
     "output_type": "display_data"
    }
   ],
   "source": [
    "pandas_ai.run(df, prompt='Give me a histogram of the count of professions')"
   ]
  },
  {
   "cell_type": "code",
   "execution_count": 8,
   "id": "ba6ff7e1",
   "metadata": {},
   "outputs": [
    {
     "data": {
      "text/plain": [
       "Gender\n",
       "Female    0.714286\n",
       "Male      0.285714\n",
       "Name: proportion, dtype: float64"
      ]
     },
     "execution_count": 8,
     "metadata": {},
     "output_type": "execute_result"
    }
   ],
   "source": [
    "pandas_ai.run(df, prompt='What is the gender ratio of males to females')"
   ]
  },
  {
   "cell_type": "code",
   "execution_count": 9,
   "id": "0305c6d3",
   "metadata": {},
   "outputs": [
    {
     "data": {
      "image/png": "[encoded data removed]",
      "text/plain": [
       "<Figure size 640x480 with 1 Axes>"
      ]
     },
     "metadata": {},
     "output_type": "display_data"
    }
   ],
   "source": [
    "pandas_ai.run(df, prompt='Give me a pie chart to show the gender proportions')"
   ]
  },
  {
   "cell_type": "code",
   "execution_count": 10,
   "id": "e58e9e19",
   "metadata": {},
   "outputs": [
    {
     "data": {
      "image/png": "[encoded data removed]",
      "text/plain": [
       "<Figure size 640x480 with 1 Axes>"
      ]
     },
     "metadata": {},
     "output_type": "display_data"
    }
   ],
   "source": [
    "pandas_ai.run(df, prompt='Give me plot of male versus female in green vs pink colors')"
   ]
  },
  {
   "cell_type": "code",
   "execution_count": 11,
   "id": "1977bab6",
   "metadata": {},
   "outputs": [
    {
     "data": {
      "text/html": [
       "<div>\n",
       "<style scoped>\n",
       "    .dataframe tbody tr th:only-of-type {\n",
       "        vertical-align: middle;\n",
       "    }\n",
       "\n",
       "    .dataframe tbody tr th {\n",
       "        vertical-align: top;\n",
       "    }\n",
       "\n",
       "    .dataframe thead th {\n",
       "        text-align: right;\n",
       "    }\n",
       "</style>\n",
       "<table border=\"1\" class=\"dataframe\">\n",
       "  <thead>\n",
       "    <tr style=\"text-align: right;\">\n",
       "      <th></th>\n",
       "      <th>Gender</th>\n",
       "      <th>Age</th>\n",
       "      <th>AnnualIncome</th>\n",
       "      <th>SpendingScore</th>\n",
       "      <th>Profession</th>\n",
       "      <th>WorkExperience</th>\n",
       "      <th>FamilySize</th>\n",
       "    </tr>\n",
       "    <tr>\n",
       "      <th>CustomerID</th>\n",
       "      <th></th>\n",
       "      <th></th>\n",
       "      <th></th>\n",
       "      <th></th>\n",
       "      <th></th>\n",
       "      <th></th>\n",
       "      <th></th>\n",
       "    </tr>\n",
       "  </thead>\n",
       "  <tbody>\n",
       "    <tr>\n",
       "      <th>1</th>\n",
       "      <td>Male</td>\n",
       "      <td>19</td>\n",
       "      <td>15000</td>\n",
       "      <td>39</td>\n",
       "      <td>Scientist</td>\n",
       "      <td>1</td>\n",
       "      <td>4</td>\n",
       "    </tr>\n",
       "    <tr>\n",
       "      <th>7</th>\n",
       "      <td>Female</td>\n",
       "      <td>35</td>\n",
       "      <td>31000</td>\n",
       "      <td>6</td>\n",
       "      <td>Scientist</td>\n",
       "      <td>1</td>\n",
       "      <td>3</td>\n",
       "    </tr>\n",
       "  </tbody>\n",
       "</table>\n",
       "</div>"
      ],
      "text/plain": [
       "            Gender  Age  AnnualIncome  SpendingScore Profession  \\\n",
       "CustomerID                                                        \n",
       "1             Male   19         15000             39  Scientist   \n",
       "7           Female   35         31000              6  Scientist   \n",
       "\n",
       "            WorkExperience  FamilySize  \n",
       "CustomerID                              \n",
       "1                        1           4  \n",
       "7                        1           3  "
      ]
     },
     "execution_count": 11,
     "metadata": {},
     "output_type": "execute_result"
    }
   ],
   "source": [
    "pandas_ai.run(df, prompt='Give me a DataFrame filtered to only scientist profession')"
   ]
  },
  {
   "cell_type": "markdown",
   "id": "9d0e6b1f",
   "metadata": {},
   "source": [
    "The examples above show how easy it is for us to use language to generate a variety of analysis output we may need. \n",
    "\n",
    "We can even get `pandasAI` to give us the raw `pandas` code used to generate the output, as shown in the example below where we leverage the `show_code` and `is_conversational_answer` parameters:"
   ]
  },
  {
   "cell_type": "code",
   "execution_count": 12,
   "id": "8dc2594c",
   "metadata": {},
   "outputs": [
    {
     "data": {
      "text/plain": [
       "\"To generate a DataFrame filtered to only the scientist profession, you can use the following pandas code:\\n\\n```python\\nscientist_df = df[df['Profession'] == 'Scientist']\\n```\\n\\nThis code will create a new DataFrame called `scientist_df` that only includes rows where the 'Profession' column is equal to 'Scientist'.\""
      ]
     },
     "execution_count": 12,
     "metadata": {},
     "output_type": "execute_result"
    }
   ],
   "source": [
    "# Get pandasAI to show us the raw code in a conversational manner\n",
    "pandas_ai.run(df, \n",
    "              prompt='Give me the pandas code to generate a DataFrame filtered to only the scientist profession',\n",
    "              show_code=True, # Creates a new Jupyter notebook cell with the code\n",
    "              is_conversational_answer=True)"
   ]
  },
  {
   "cell_type": "code",
   "execution_count": null,
   "id": "e40931a6",
   "metadata": {},
   "outputs": [],
   "source": [
    "scientist_df = df[df['Profession'] == 'Scientist']\n",
    "print(scientist_df)"
   ]
  },
  {
   "cell_type": "code",
   "execution_count": 13,
   "id": "d314f3a3",
   "metadata": {},
   "outputs": [
    {
     "name": "stdout",
     "output_type": "stream",
     "text": [
      "            Gender  Age  AnnualIncome  SpendingScore Profession  \\\n",
      "CustomerID                                                        \n",
      "1             Male   19         15000             39  Scientist   \n",
      "7           Female   35         31000              6  Scientist   \n",
      "\n",
      "            WorkExperience  FamilySize  \n",
      "CustomerID                              \n",
      "1                        1           4  \n",
      "7                        1           3  \n"
     ]
    }
   ],
   "source": [
    "scientist_df = df[df['Profession'] == 'Scientist']\n",
    "print(scientist_df)"
   ]
  },
  {
   "cell_type": "markdown",
   "id": "308b6d7a",
   "metadata": {},
   "source": [
    "If we want to return the code directly without a conversational reply, we can set `is_conversational_answer=False`, as seen below:"
   ]
  },
  {
   "cell_type": "code",
   "execution_count": 14,
   "id": "cdac7c33",
   "metadata": {},
   "outputs": [
    {
     "data": {
      "text/html": [
       "<div>\n",
       "<style scoped>\n",
       "    .dataframe tbody tr th:only-of-type {\n",
       "        vertical-align: middle;\n",
       "    }\n",
       "\n",
       "    .dataframe tbody tr th {\n",
       "        vertical-align: top;\n",
       "    }\n",
       "\n",
       "    .dataframe thead th {\n",
       "        text-align: right;\n",
       "    }\n",
       "</style>\n",
       "<table border=\"1\" class=\"dataframe\">\n",
       "  <thead>\n",
       "    <tr style=\"text-align: right;\">\n",
       "      <th></th>\n",
       "      <th>Gender</th>\n",
       "      <th>Age</th>\n",
       "      <th>AnnualIncome</th>\n",
       "      <th>SpendingScore</th>\n",
       "      <th>Profession</th>\n",
       "      <th>WorkExperience</th>\n",
       "      <th>FamilySize</th>\n",
       "    </tr>\n",
       "    <tr>\n",
       "      <th>CustomerID</th>\n",
       "      <th></th>\n",
       "      <th></th>\n",
       "      <th></th>\n",
       "      <th></th>\n",
       "      <th></th>\n",
       "      <th></th>\n",
       "      <th></th>\n",
       "    </tr>\n",
       "  </thead>\n",
       "  <tbody>\n",
       "    <tr>\n",
       "      <th>1</th>\n",
       "      <td>Male</td>\n",
       "      <td>19</td>\n",
       "      <td>15000</td>\n",
       "      <td>39</td>\n",
       "      <td>Scientist</td>\n",
       "      <td>1</td>\n",
       "      <td>4</td>\n",
       "    </tr>\n",
       "    <tr>\n",
       "      <th>7</th>\n",
       "      <td>Female</td>\n",
       "      <td>35</td>\n",
       "      <td>31000</td>\n",
       "      <td>6</td>\n",
       "      <td>Scientist</td>\n",
       "      <td>1</td>\n",
       "      <td>3</td>\n",
       "    </tr>\n",
       "  </tbody>\n",
       "</table>\n",
       "</div>"
      ],
      "text/plain": [
       "            Gender  Age  AnnualIncome  SpendingScore Profession  \\\n",
       "CustomerID                                                        \n",
       "1             Male   19         15000             39  Scientist   \n",
       "7           Female   35         31000              6  Scientist   \n",
       "\n",
       "            WorkExperience  FamilySize  \n",
       "CustomerID                              \n",
       "1                        1           4  \n",
       "7                        1           3  "
      ]
     },
     "execution_count": 14,
     "metadata": {},
     "output_type": "execute_result"
    }
   ],
   "source": [
    "# Get pandasAI to show us the raw code\n",
    "pandas_ai.run(df, \n",
    "              prompt='Give me the pandas code to generate a DataFrame filtered to only the scientist profession',\n",
    "              show_code=True,\n",
    "              is_conversational_answer=False)"
   ]
  },
  {
   "cell_type": "code",
   "execution_count": null,
   "id": "ad799ca1",
   "metadata": {},
   "outputs": [],
   "source": [
    "scientist_df = df[df['Profession'] == 'Scientist']\n",
    "print(scientist_df)"
   ]
  },
  {
   "cell_type": "code",
   "execution_count": 15,
   "id": "ca590539",
   "metadata": {},
   "outputs": [
    {
     "name": "stdout",
     "output_type": "stream",
     "text": [
      "            Gender  Age  AnnualIncome  SpendingScore Profession  \\\n",
      "CustomerID                                                        \n",
      "1             Male   19         15000             39  Scientist   \n",
      "7           Female   35         31000              6  Scientist   \n",
      "\n",
      "            WorkExperience  FamilySize  \n",
      "CustomerID                              \n",
      "1                        1           4  \n",
      "7                        1           3  \n"
     ]
    }
   ],
   "source": [
    "scientist_df = df[df['Profession'] == 'Scientist']\n",
    "print(scientist_df)"
   ]
  },
  {
   "cell_type": "code",
   "execution_count": 16,
   "id": "80720bf8",
   "metadata": {},
   "outputs": [
    {
     "name": "stdout",
     "output_type": "stream",
     "text": [
      "            Gender  Age  AnnualIncome  SpendingScore Profession  \\\n",
      "CustomerID                                                        \n",
      "1             Male   19         15000             39  Scientist   \n",
      "7           Female   35         31000              6  Scientist   \n",
      "\n",
      "            WorkExperience  FamilySize  \n",
      "CustomerID                              \n",
      "1                        1           4  \n",
      "7                        1           3  \n"
     ]
    }
   ],
   "source": [
    "# This code cell is automatically generated after running the previous cell\n",
    "scientist_df = df[df['Profession'] == 'Scientist']\n",
    "print(scientist_df)"
   ]
  },
  {
   "cell_type": "markdown",
   "id": "a0e0a41d",
   "metadata": {},
   "source": [
    "___\n",
    "<a id='section5'></a>\n",
    "## (5) Enforcing privacy"
   ]
  },
  {
   "cell_type": "markdown",
   "id": "0f262823",
   "metadata": {},
   "source": [
    "By default, `pandasAI` introduces privacy measures by not ingesting the entire DataFrame passed into it. Instead, what it does is that it takes the DataFrame head, randomizes the data within (using random generation for sensitive data and shuffling for non-sensitive data), and then passing the first five randomized rows (i.e., DataFrame head) into the LLM.\n",
    "\n",
    "The following code and output illustrates these points, where only the first 5 rows of the DataFrame is used, and even then, these 5 rows have their data shuffled and randomized such that they do not resemble the actual raw data."
   ]
  },
  {
   "cell_type": "code",
   "execution_count": 17,
   "id": "9e78820f",
   "metadata": {},
   "outputs": [
    {
     "data": {
      "text/html": [
       "<div>\n",
       "<style scoped>\n",
       "    .dataframe tbody tr th:only-of-type {\n",
       "        vertical-align: middle;\n",
       "    }\n",
       "\n",
       "    .dataframe tbody tr th {\n",
       "        vertical-align: top;\n",
       "    }\n",
       "\n",
       "    .dataframe thead th {\n",
       "        text-align: right;\n",
       "    }\n",
       "</style>\n",
       "<table border=\"1\" class=\"dataframe\">\n",
       "  <thead>\n",
       "    <tr style=\"text-align: right;\">\n",
       "      <th></th>\n",
       "      <th>Gender</th>\n",
       "      <th>Age</th>\n",
       "      <th>AnnualIncome</th>\n",
       "      <th>SpendingScore</th>\n",
       "      <th>Profession</th>\n",
       "      <th>WorkExperience</th>\n",
       "      <th>FamilySize</th>\n",
       "    </tr>\n",
       "    <tr>\n",
       "      <th>CustomerID</th>\n",
       "      <th></th>\n",
       "      <th></th>\n",
       "      <th></th>\n",
       "      <th></th>\n",
       "      <th></th>\n",
       "      <th></th>\n",
       "      <th></th>\n",
       "    </tr>\n",
       "  </thead>\n",
       "  <tbody>\n",
       "    <tr>\n",
       "      <th>1</th>\n",
       "      <td>Female</td>\n",
       "      <td>23</td>\n",
       "      <td>59000</td>\n",
       "      <td>6</td>\n",
       "      <td>Engineer</td>\n",
       "      <td>0</td>\n",
       "      <td>6</td>\n",
       "    </tr>\n",
       "    <tr>\n",
       "      <th>2</th>\n",
       "      <td>Male</td>\n",
       "      <td>20</td>\n",
       "      <td>15000</td>\n",
       "      <td>77</td>\n",
       "      <td>Artist</td>\n",
       "      <td>0</td>\n",
       "      <td>1</td>\n",
       "    </tr>\n",
       "    <tr>\n",
       "      <th>3</th>\n",
       "      <td>Female</td>\n",
       "      <td>23</td>\n",
       "      <td>38000</td>\n",
       "      <td>40</td>\n",
       "      <td>Scientist</td>\n",
       "      <td>2</td>\n",
       "      <td>6</td>\n",
       "    </tr>\n",
       "    <tr>\n",
       "      <th>4</th>\n",
       "      <td>Male</td>\n",
       "      <td>31</td>\n",
       "      <td>59000</td>\n",
       "      <td>40</td>\n",
       "      <td>Engineer</td>\n",
       "      <td>3</td>\n",
       "      <td>4</td>\n",
       "    </tr>\n",
       "    <tr>\n",
       "      <th>5</th>\n",
       "      <td>Female</td>\n",
       "      <td>21</td>\n",
       "      <td>38000</td>\n",
       "      <td>81</td>\n",
       "      <td>Lawyer</td>\n",
       "      <td>1</td>\n",
       "      <td>2</td>\n",
       "    </tr>\n",
       "  </tbody>\n",
       "</table>\n",
       "</div>"
      ],
      "text/plain": [
       "            Gender  Age  AnnualIncome  SpendingScore Profession  \\\n",
       "CustomerID                                                        \n",
       "1           Female   23         59000              6   Engineer   \n",
       "2             Male   20         15000             77     Artist   \n",
       "3           Female   23         38000             40  Scientist   \n",
       "4             Male   31         59000             40   Engineer   \n",
       "5           Female   21         38000             81     Lawyer   \n",
       "\n",
       "            WorkExperience  FamilySize  \n",
       "CustomerID                              \n",
       "1                        0           6  \n",
       "2                        0           1  \n",
       "3                        2           6  \n",
       "4                        3           4  \n",
       "5                        1           2  "
      ]
     },
     "execution_count": 17,
     "metadata": {},
     "output_type": "execute_result"
    }
   ],
   "source": [
    "pdai.helpers.anonymizer.anonymize_dataframe_head(df, force_conversion=True)"
   ]
  },
  {
   "cell_type": "markdown",
   "id": "16b6cabf",
   "metadata": {},
   "source": [
    "If wish to further enforce the privacy aspect, we can utilize the `enforce_privacy` parameter in the `pandasAI` object and the `anonymize_df` parameter in the `run()` method. These will change the settings such that we only send the column names to the LLM, without sending any data rows through."
   ]
  },
  {
   "cell_type": "code",
   "execution_count": 18,
   "id": "c7aac205",
   "metadata": {},
   "outputs": [],
   "source": [
    "# Reinstantiate pandasAI object\n",
    "pandas_ai = PandasAI(llm, \n",
    "                     verbose=True, \n",
    "#                      conversational=False, \n",
    "                     enforce_privacy=True)"
   ]
  },
  {
   "cell_type": "code",
   "execution_count": 19,
   "id": "43a22c73",
   "metadata": {},
   "outputs": [
    {
     "name": "stdout",
     "output_type": "stream",
     "text": [
      "Running PandasAI with openai LLM...\n",
      "Using cached response\n",
      "\n",
      "Code running:\n",
      "```\n",
      "average_age = df['Age'].mean()\n",
      "average_age\n",
      "```\n",
      "Answer: 24.428571428571427\n"
     ]
    },
    {
     "data": {
      "text/plain": [
       "24.428571428571427"
      ]
     },
     "execution_count": 19,
     "metadata": {},
     "output_type": "execute_result"
    }
   ],
   "source": [
    "pandas_ai.run(df, \n",
    "              prompt='What is the average age of the customers?',\n",
    "              anonymize_df=True,\n",
    "              show_code=False)"
   ]
  },
  {
   "cell_type": "markdown",
   "id": "68329ded",
   "metadata": {},
   "source": [
    "The printout above shows that the LLM only gets to access and interpret the column headers, and then generates a `pandas` code that best answers our query."
   ]
  },
  {
   "cell_type": "markdown",
   "id": "e6933742",
   "metadata": {},
   "source": [
    "___\n",
    "<a id='section6'></a>\n",
    "## (6) Common data manipulations"
   ]
  },
  {
   "cell_type": "markdown",
   "id": "7132977d",
   "metadata": {},
   "source": [
    "Now that we have a general grasp of `pandasAI`, let us see go through several examples involving numerous common data manipulations that we may perform:"
   ]
  },
  {
   "cell_type": "code",
   "execution_count": 20,
   "id": "fb722d1d",
   "metadata": {},
   "outputs": [],
   "source": [
    "# Reinstantiate pandasAI object to reset it to default privacy settings\n",
    "pandas_ai = PandasAI(llm)"
   ]
  },
  {
   "cell_type": "markdown",
   "id": "82bd6721",
   "metadata": {},
   "source": [
    "### Summary of DataFrame"
   ]
  },
  {
   "cell_type": "code",
   "execution_count": 21,
   "id": "7f99b2c7",
   "metadata": {},
   "outputs": [
    {
     "name": "stdout",
     "output_type": "stream",
     "text": [
      "<class 'pandas.core.frame.DataFrame'>\n",
      "Index: 7 entries, 1 to 7\n",
      "Data columns (total 7 columns):\n",
      " #   Column          Non-Null Count  Dtype \n",
      "---  ------          --------------  ----- \n",
      " 0   Gender          7 non-null      object\n",
      " 1   Age             7 non-null      int64 \n",
      " 2   AnnualIncome    7 non-null      int64 \n",
      " 3   SpendingScore   7 non-null      int64 \n",
      " 4   Profession      7 non-null      object\n",
      " 5   WorkExperience  7 non-null      int64 \n",
      " 6   FamilySize      7 non-null      int64 \n",
      "dtypes: int64(5), object(2)\n",
      "memory usage: 448.0+ bytes\n"
     ]
    }
   ],
   "source": [
    "prompt = 'describe the information of the dataframe'\n",
    "\n",
    "pandas_ai.run(df, \n",
    "              prompt=prompt, \n",
    "              show_code=False,\n",
    "              is_conversational_answer=False)"
   ]
  },
  {
   "cell_type": "markdown",
   "id": "c294c632",
   "metadata": {},
   "source": [
    "### Data selection/filtering"
   ]
  },
  {
   "cell_type": "code",
   "execution_count": 22,
   "id": "15844ae1",
   "metadata": {},
   "outputs": [
    {
     "data": {
      "text/html": [
       "<div>\n",
       "<style scoped>\n",
       "    .dataframe tbody tr th:only-of-type {\n",
       "        vertical-align: middle;\n",
       "    }\n",
       "\n",
       "    .dataframe tbody tr th {\n",
       "        vertical-align: top;\n",
       "    }\n",
       "\n",
       "    .dataframe thead th {\n",
       "        text-align: right;\n",
       "    }\n",
       "</style>\n",
       "<table border=\"1\" class=\"dataframe\">\n",
       "  <thead>\n",
       "    <tr style=\"text-align: right;\">\n",
       "      <th></th>\n",
       "      <th>Gender</th>\n",
       "      <th>Age</th>\n",
       "      <th>AnnualIncome</th>\n",
       "      <th>SpendingScore</th>\n",
       "      <th>Profession</th>\n",
       "      <th>WorkExperience</th>\n",
       "      <th>FamilySize</th>\n",
       "    </tr>\n",
       "    <tr>\n",
       "      <th>CustomerID</th>\n",
       "      <th></th>\n",
       "      <th></th>\n",
       "      <th></th>\n",
       "      <th></th>\n",
       "      <th></th>\n",
       "      <th></th>\n",
       "      <th></th>\n",
       "    </tr>\n",
       "  </thead>\n",
       "  <tbody>\n",
       "    <tr>\n",
       "      <th>3</th>\n",
       "      <td>Female</td>\n",
       "      <td>20</td>\n",
       "      <td>86000</td>\n",
       "      <td>6</td>\n",
       "      <td>Engineer</td>\n",
       "      <td>1</td>\n",
       "      <td>1</td>\n",
       "    </tr>\n",
       "    <tr>\n",
       "      <th>4</th>\n",
       "      <td>Female</td>\n",
       "      <td>23</td>\n",
       "      <td>59000</td>\n",
       "      <td>77</td>\n",
       "      <td>Lawyer</td>\n",
       "      <td>0</td>\n",
       "      <td>2</td>\n",
       "    </tr>\n",
       "    <tr>\n",
       "      <th>6</th>\n",
       "      <td>Female</td>\n",
       "      <td>22</td>\n",
       "      <td>58000</td>\n",
       "      <td>76</td>\n",
       "      <td>Engineer</td>\n",
       "      <td>0</td>\n",
       "      <td>2</td>\n",
       "    </tr>\n",
       "  </tbody>\n",
       "</table>\n",
       "</div>"
      ],
      "text/plain": [
       "            Gender  Age  AnnualIncome  SpendingScore Profession  \\\n",
       "CustomerID                                                        \n",
       "3           Female   20         86000              6   Engineer   \n",
       "4           Female   23         59000             77     Lawyer   \n",
       "6           Female   22         58000             76   Engineer   \n",
       "\n",
       "            WorkExperience  FamilySize  \n",
       "CustomerID                              \n",
       "3                        1           1  \n",
       "4                        0           2  \n",
       "6                        0           2  "
      ]
     },
     "execution_count": 22,
     "metadata": {},
     "output_type": "execute_result"
    }
   ],
   "source": [
    "prompt = 'give me a dataframe of female customers with annual income above 40000'\n",
    "\n",
    "pandas_ai.run(df, \n",
    "              prompt=prompt, \n",
    "              show_code=False,\n",
    "              is_conversational_answer=False)"
   ]
  },
  {
   "cell_type": "markdown",
   "id": "579d0e5f",
   "metadata": {},
   "source": [
    "### Sorting"
   ]
  },
  {
   "cell_type": "code",
   "execution_count": 23,
   "id": "b775e0fe",
   "metadata": {},
   "outputs": [
    {
     "data": {
      "text/html": [
       "<div>\n",
       "<style scoped>\n",
       "    .dataframe tbody tr th:only-of-type {\n",
       "        vertical-align: middle;\n",
       "    }\n",
       "\n",
       "    .dataframe tbody tr th {\n",
       "        vertical-align: top;\n",
       "    }\n",
       "\n",
       "    .dataframe thead th {\n",
       "        text-align: right;\n",
       "    }\n",
       "</style>\n",
       "<table border=\"1\" class=\"dataframe\">\n",
       "  <thead>\n",
       "    <tr style=\"text-align: right;\">\n",
       "      <th></th>\n",
       "      <th>Gender</th>\n",
       "      <th>Age</th>\n",
       "      <th>AnnualIncome</th>\n",
       "      <th>SpendingScore</th>\n",
       "      <th>Profession</th>\n",
       "      <th>WorkExperience</th>\n",
       "      <th>FamilySize</th>\n",
       "    </tr>\n",
       "    <tr>\n",
       "      <th>CustomerID</th>\n",
       "      <th></th>\n",
       "      <th></th>\n",
       "      <th></th>\n",
       "      <th></th>\n",
       "      <th></th>\n",
       "      <th></th>\n",
       "      <th></th>\n",
       "    </tr>\n",
       "  </thead>\n",
       "  <tbody>\n",
       "    <tr>\n",
       "      <th>3</th>\n",
       "      <td>Female</td>\n",
       "      <td>20</td>\n",
       "      <td>86000</td>\n",
       "      <td>6</td>\n",
       "      <td>Engineer</td>\n",
       "      <td>1</td>\n",
       "      <td>1</td>\n",
       "    </tr>\n",
       "    <tr>\n",
       "      <th>4</th>\n",
       "      <td>Female</td>\n",
       "      <td>23</td>\n",
       "      <td>59000</td>\n",
       "      <td>77</td>\n",
       "      <td>Lawyer</td>\n",
       "      <td>0</td>\n",
       "      <td>2</td>\n",
       "    </tr>\n",
       "    <tr>\n",
       "      <th>6</th>\n",
       "      <td>Female</td>\n",
       "      <td>22</td>\n",
       "      <td>58000</td>\n",
       "      <td>76</td>\n",
       "      <td>Engineer</td>\n",
       "      <td>0</td>\n",
       "      <td>2</td>\n",
       "    </tr>\n",
       "    <tr>\n",
       "      <th>5</th>\n",
       "      <td>Female</td>\n",
       "      <td>31</td>\n",
       "      <td>38000</td>\n",
       "      <td>40</td>\n",
       "      <td>Artist</td>\n",
       "      <td>2</td>\n",
       "      <td>6</td>\n",
       "    </tr>\n",
       "    <tr>\n",
       "      <th>2</th>\n",
       "      <td>Male</td>\n",
       "      <td>21</td>\n",
       "      <td>35000</td>\n",
       "      <td>81</td>\n",
       "      <td>Engineer</td>\n",
       "      <td>3</td>\n",
       "      <td>3</td>\n",
       "    </tr>\n",
       "    <tr>\n",
       "      <th>7</th>\n",
       "      <td>Female</td>\n",
       "      <td>35</td>\n",
       "      <td>31000</td>\n",
       "      <td>6</td>\n",
       "      <td>Scientist</td>\n",
       "      <td>1</td>\n",
       "      <td>3</td>\n",
       "    </tr>\n",
       "    <tr>\n",
       "      <th>1</th>\n",
       "      <td>Male</td>\n",
       "      <td>19</td>\n",
       "      <td>15000</td>\n",
       "      <td>39</td>\n",
       "      <td>Scientist</td>\n",
       "      <td>1</td>\n",
       "      <td>4</td>\n",
       "    </tr>\n",
       "  </tbody>\n",
       "</table>\n",
       "</div>"
      ],
      "text/plain": [
       "            Gender  Age  AnnualIncome  SpendingScore Profession  \\\n",
       "CustomerID                                                        \n",
       "3           Female   20         86000              6   Engineer   \n",
       "4           Female   23         59000             77     Lawyer   \n",
       "6           Female   22         58000             76   Engineer   \n",
       "5           Female   31         38000             40     Artist   \n",
       "2             Male   21         35000             81   Engineer   \n",
       "7           Female   35         31000              6  Scientist   \n",
       "1             Male   19         15000             39  Scientist   \n",
       "\n",
       "            WorkExperience  FamilySize  \n",
       "CustomerID                              \n",
       "3                        1           1  \n",
       "4                        0           2  \n",
       "6                        0           2  \n",
       "5                        2           6  \n",
       "2                        3           3  \n",
       "7                        1           3  \n",
       "1                        1           4  "
      ]
     },
     "execution_count": 23,
     "metadata": {},
     "output_type": "execute_result"
    }
   ],
   "source": [
    "prompt = 'return the dataframe sorted by annual income in descending order'\n",
    "\n",
    "pandas_ai.run(df, \n",
    "              prompt=prompt, \n",
    "              show_code=False,\n",
    "              is_conversational_answer=False)"
   ]
  },
  {
   "cell_type": "markdown",
   "id": "54d5526d",
   "metadata": {},
   "source": [
    "### Groupby and aggregation"
   ]
  },
  {
   "cell_type": "code",
   "execution_count": 24,
   "id": "396207c3",
   "metadata": {},
   "outputs": [
    {
     "data": {
      "text/plain": [
       "Gender\n",
       "Female    26.2\n",
       "Male      20.0\n",
       "Name: Age, dtype: float64"
      ]
     },
     "execution_count": 24,
     "metadata": {},
     "output_type": "execute_result"
    }
   ],
   "source": [
    "prompt = 'group by gender and give me the average age'\n",
    "\n",
    "pandas_ai.run(df, \n",
    "              prompt=prompt, \n",
    "              show_code=False,\n",
    "              is_conversational_answer=False)"
   ]
  },
  {
   "cell_type": "markdown",
   "id": "99b0a47d",
   "metadata": {},
   "source": [
    "### Reshaping"
   ]
  },
  {
   "cell_type": "code",
   "execution_count": 25,
   "id": "1618085a",
   "metadata": {},
   "outputs": [
    {
     "data": {
      "text/html": [
       "<div>\n",
       "<style scoped>\n",
       "    .dataframe tbody tr th:only-of-type {\n",
       "        vertical-align: middle;\n",
       "    }\n",
       "\n",
       "    .dataframe tbody tr th {\n",
       "        vertical-align: top;\n",
       "    }\n",
       "\n",
       "    .dataframe thead th {\n",
       "        text-align: right;\n",
       "    }\n",
       "</style>\n",
       "<table border=\"1\" class=\"dataframe\">\n",
       "  <thead>\n",
       "    <tr style=\"text-align: right;\">\n",
       "      <th>Profession</th>\n",
       "      <th>Artist</th>\n",
       "      <th>Engineer</th>\n",
       "      <th>Lawyer</th>\n",
       "      <th>Scientist</th>\n",
       "    </tr>\n",
       "    <tr>\n",
       "      <th>Gender</th>\n",
       "      <th></th>\n",
       "      <th></th>\n",
       "      <th></th>\n",
       "      <th></th>\n",
       "    </tr>\n",
       "  </thead>\n",
       "  <tbody>\n",
       "    <tr>\n",
       "      <th>Female</th>\n",
       "      <td>38000.0</td>\n",
       "      <td>72000.0</td>\n",
       "      <td>59000.0</td>\n",
       "      <td>31000.0</td>\n",
       "    </tr>\n",
       "    <tr>\n",
       "      <th>Male</th>\n",
       "      <td>NaN</td>\n",
       "      <td>35000.0</td>\n",
       "      <td>NaN</td>\n",
       "      <td>15000.0</td>\n",
       "    </tr>\n",
       "  </tbody>\n",
       "</table>\n",
       "</div>"
      ],
      "text/plain": [
       "Profession   Artist  Engineer   Lawyer  Scientist\n",
       "Gender                                           \n",
       "Female      38000.0   72000.0  59000.0    31000.0\n",
       "Male            NaN   35000.0      NaN    15000.0"
      ]
     },
     "execution_count": 25,
     "metadata": {},
     "output_type": "execute_result"
    }
   ],
   "source": [
    "prompt = 'generate pivot table of gender and profession, with the values being average annual income'\n",
    "\n",
    "pandas_ai.run(df, \n",
    "              prompt=prompt, \n",
    "              show_code=False,\n",
    "              is_conversational_answer=False)"
   ]
  },
  {
   "cell_type": "markdown",
   "id": "0a9545dc",
   "metadata": {},
   "source": [
    "### Data Cleaning"
   ]
  },
  {
   "cell_type": "code",
   "execution_count": 26,
   "id": "ad8dbcd1",
   "metadata": {},
   "outputs": [
    {
     "data": {
      "text/html": [
       "<div>\n",
       "<style scoped>\n",
       "    .dataframe tbody tr th:only-of-type {\n",
       "        vertical-align: middle;\n",
       "    }\n",
       "\n",
       "    .dataframe tbody tr th {\n",
       "        vertical-align: top;\n",
       "    }\n",
       "\n",
       "    .dataframe thead th {\n",
       "        text-align: right;\n",
       "    }\n",
       "</style>\n",
       "<table border=\"1\" class=\"dataframe\">\n",
       "  <thead>\n",
       "    <tr style=\"text-align: right;\">\n",
       "      <th></th>\n",
       "      <th>Gender</th>\n",
       "      <th>Age</th>\n",
       "      <th>AnnualIncome</th>\n",
       "      <th>SpendingScore</th>\n",
       "      <th>Profession</th>\n",
       "      <th>WorkExperience</th>\n",
       "      <th>FamilySize</th>\n",
       "    </tr>\n",
       "    <tr>\n",
       "      <th>CustomerID</th>\n",
       "      <th></th>\n",
       "      <th></th>\n",
       "      <th></th>\n",
       "      <th></th>\n",
       "      <th></th>\n",
       "      <th></th>\n",
       "      <th></th>\n",
       "    </tr>\n",
       "  </thead>\n",
       "  <tbody>\n",
       "    <tr>\n",
       "      <th>1</th>\n",
       "      <td>Male</td>\n",
       "      <td>19.0</td>\n",
       "      <td>NaN</td>\n",
       "      <td>39</td>\n",
       "      <td>Scientist</td>\n",
       "      <td>1</td>\n",
       "      <td>NaN</td>\n",
       "    </tr>\n",
       "    <tr>\n",
       "      <th>2</th>\n",
       "      <td>Male</td>\n",
       "      <td>NaN</td>\n",
       "      <td>35000.0</td>\n",
       "      <td>81</td>\n",
       "      <td>Engineer</td>\n",
       "      <td>3</td>\n",
       "      <td>3.0</td>\n",
       "    </tr>\n",
       "    <tr>\n",
       "      <th>3</th>\n",
       "      <td>Female</td>\n",
       "      <td>20.0</td>\n",
       "      <td>NaN</td>\n",
       "      <td>6</td>\n",
       "      <td>Engineer</td>\n",
       "      <td>1</td>\n",
       "      <td>1.0</td>\n",
       "    </tr>\n",
       "    <tr>\n",
       "      <th>4</th>\n",
       "      <td>Female</td>\n",
       "      <td>NaN</td>\n",
       "      <td>59000.0</td>\n",
       "      <td>77</td>\n",
       "      <td>NaN</td>\n",
       "      <td>0</td>\n",
       "      <td>2.0</td>\n",
       "    </tr>\n",
       "    <tr>\n",
       "      <th>5</th>\n",
       "      <td>NaN</td>\n",
       "      <td>31.0</td>\n",
       "      <td>38000.0</td>\n",
       "      <td>40</td>\n",
       "      <td>NaN</td>\n",
       "      <td>2</td>\n",
       "      <td>6.0</td>\n",
       "    </tr>\n",
       "    <tr>\n",
       "      <th>6</th>\n",
       "      <td>Female</td>\n",
       "      <td>22.0</td>\n",
       "      <td>58000.0</td>\n",
       "      <td>76</td>\n",
       "      <td>Engineer</td>\n",
       "      <td>0</td>\n",
       "      <td>2.0</td>\n",
       "    </tr>\n",
       "    <tr>\n",
       "      <th>7</th>\n",
       "      <td>NaN</td>\n",
       "      <td>35.0</td>\n",
       "      <td>31000.0</td>\n",
       "      <td>6</td>\n",
       "      <td>Scientist</td>\n",
       "      <td>1</td>\n",
       "      <td>3.0</td>\n",
       "    </tr>\n",
       "  </tbody>\n",
       "</table>\n",
       "</div>"
      ],
      "text/plain": [
       "            Gender   Age  AnnualIncome  SpendingScore Profession  \\\n",
       "CustomerID                                                         \n",
       "1             Male  19.0           NaN             39  Scientist   \n",
       "2             Male   NaN       35000.0             81   Engineer   \n",
       "3           Female  20.0           NaN              6   Engineer   \n",
       "4           Female   NaN       59000.0             77        NaN   \n",
       "5              NaN  31.0       38000.0             40        NaN   \n",
       "6           Female  22.0       58000.0             76   Engineer   \n",
       "7              NaN  35.0       31000.0              6  Scientist   \n",
       "\n",
       "            WorkExperience  FamilySize  \n",
       "CustomerID                              \n",
       "1                        1         NaN  \n",
       "2                        3         3.0  \n",
       "3                        1         1.0  \n",
       "4                        0         2.0  \n",
       "5                        2         6.0  \n",
       "6                        0         2.0  \n",
       "7                        1         3.0  "
      ]
     },
     "execution_count": 26,
     "metadata": {},
     "output_type": "execute_result"
    }
   ],
   "source": [
    "# Introduce 10 random NaN values into our DataFrame\n",
    "n = 10 \n",
    "df_with_nan = df.copy()\n",
    "\n",
    "# Create a list of random row indices\n",
    "row_indices = np.random.randint(low=0, high=df.shape[0], size=n)\n",
    "\n",
    "# Create a list of random column indices\n",
    "col_indices = np.random.randint(low=0, high=df.shape[1], size=n)\n",
    "\n",
    "# Use the indices to replace elements with NaN\n",
    "for i in range(n):\n",
    "    df_with_nan.iat[row_indices[i], col_indices[i]] = np.nan\n",
    "    \n",
    "# View df with NaN values\n",
    "df_with_nan"
   ]
  },
  {
   "cell_type": "code",
   "execution_count": 27,
   "id": "febdaadc",
   "metadata": {},
   "outputs": [
    {
     "data": {
      "text/plain": [
       "\"Unfortunately, I was not able to answer your question, because of the following error:\\n\\n'tuple' object has no attribute 'encode'\\n\""
      ]
     },
     "execution_count": 27,
     "metadata": {},
     "output_type": "execute_result"
    }
   ],
   "source": [
    "prompt = 'Return dataframe where NaN values are filled with the string \"Missing\"',\n",
    "\n",
    "pandas_ai.run(df_with_nan, \n",
    "              prompt=prompt,\n",
    "              show_code=False,\n",
    "              is_conversational_answer=False)"
   ]
  },
  {
   "cell_type": "markdown",
   "id": "4ac5634c",
   "metadata": {},
   "source": [
    "### Merging"
   ]
  },
  {
   "cell_type": "code",
   "execution_count": 28,
   "id": "2cbb72ba",
   "metadata": {},
   "outputs": [],
   "source": [
    "# Generate a second DataFrame (postal codes) for merging\n",
    "data = [[1, 532342],\n",
    "        [2, 342668],\n",
    "        [3, 434758],\n",
    "        [4, 948674],\n",
    "        [5, 520250],\n",
    "        [6, 778385],\n",
    "        [7, 448873]]\n",
    "\n",
    "df_postal = pd.DataFrame(data, columns=['CustomerID', 'PostalCode'])\n",
    "df_postal.set_index('CustomerID', inplace=True)"
   ]
  },
  {
   "cell_type": "code",
   "execution_count": 29,
   "id": "a7aab8c2",
   "metadata": {},
   "outputs": [
    {
     "data": {
      "text/html": [
       "<div>\n",
       "<style scoped>\n",
       "    .dataframe tbody tr th:only-of-type {\n",
       "        vertical-align: middle;\n",
       "    }\n",
       "\n",
       "    .dataframe tbody tr th {\n",
       "        vertical-align: top;\n",
       "    }\n",
       "\n",
       "    .dataframe thead th {\n",
       "        text-align: right;\n",
       "    }\n",
       "</style>\n",
       "<table border=\"1\" class=\"dataframe\">\n",
       "  <thead>\n",
       "    <tr style=\"text-align: right;\">\n",
       "      <th></th>\n",
       "      <th>Gender</th>\n",
       "      <th>Age</th>\n",
       "      <th>AnnualIncome</th>\n",
       "      <th>SpendingScore</th>\n",
       "      <th>Profession</th>\n",
       "      <th>WorkExperience</th>\n",
       "      <th>FamilySize</th>\n",
       "      <th>PostalCode</th>\n",
       "    </tr>\n",
       "    <tr>\n",
       "      <th>CustomerID</th>\n",
       "      <th></th>\n",
       "      <th></th>\n",
       "      <th></th>\n",
       "      <th></th>\n",
       "      <th></th>\n",
       "      <th></th>\n",
       "      <th></th>\n",
       "      <th></th>\n",
       "    </tr>\n",
       "  </thead>\n",
       "  <tbody>\n",
       "    <tr>\n",
       "      <th>1</th>\n",
       "      <td>Male</td>\n",
       "      <td>19</td>\n",
       "      <td>15000</td>\n",
       "      <td>39</td>\n",
       "      <td>Scientist</td>\n",
       "      <td>1</td>\n",
       "      <td>4</td>\n",
       "      <td>532342</td>\n",
       "    </tr>\n",
       "    <tr>\n",
       "      <th>2</th>\n",
       "      <td>Male</td>\n",
       "      <td>21</td>\n",
       "      <td>35000</td>\n",
       "      <td>81</td>\n",
       "      <td>Engineer</td>\n",
       "      <td>3</td>\n",
       "      <td>3</td>\n",
       "      <td>342668</td>\n",
       "    </tr>\n",
       "    <tr>\n",
       "      <th>3</th>\n",
       "      <td>Female</td>\n",
       "      <td>20</td>\n",
       "      <td>86000</td>\n",
       "      <td>6</td>\n",
       "      <td>Engineer</td>\n",
       "      <td>1</td>\n",
       "      <td>1</td>\n",
       "      <td>434758</td>\n",
       "    </tr>\n",
       "    <tr>\n",
       "      <th>4</th>\n",
       "      <td>Female</td>\n",
       "      <td>23</td>\n",
       "      <td>59000</td>\n",
       "      <td>77</td>\n",
       "      <td>Lawyer</td>\n",
       "      <td>0</td>\n",
       "      <td>2</td>\n",
       "      <td>948674</td>\n",
       "    </tr>\n",
       "    <tr>\n",
       "      <th>5</th>\n",
       "      <td>Female</td>\n",
       "      <td>31</td>\n",
       "      <td>38000</td>\n",
       "      <td>40</td>\n",
       "      <td>Artist</td>\n",
       "      <td>2</td>\n",
       "      <td>6</td>\n",
       "      <td>520250</td>\n",
       "    </tr>\n",
       "  </tbody>\n",
       "</table>\n",
       "</div>"
      ],
      "text/plain": [
       "            Gender  Age  AnnualIncome  SpendingScore Profession  \\\n",
       "CustomerID                                                        \n",
       "1             Male   19         15000             39  Scientist   \n",
       "2             Male   21         35000             81   Engineer   \n",
       "3           Female   20         86000              6   Engineer   \n",
       "4           Female   23         59000             77     Lawyer   \n",
       "5           Female   31         38000             40     Artist   \n",
       "\n",
       "            WorkExperience  FamilySize  PostalCode  \n",
       "CustomerID                                          \n",
       "1                        1           4      532342  \n",
       "2                        3           3      342668  \n",
       "3                        1           1      434758  \n",
       "4                        0           2      948674  \n",
       "5                        2           6      520250  "
      ]
     },
     "execution_count": 29,
     "metadata": {},
     "output_type": "execute_result"
    }
   ],
   "source": [
    "prompt = 'Merge these two dataframes based on the index CustomerID'\n",
    "\n",
    "pandas_ai.run([df, df_postal], \n",
    "              prompt=prompt, \n",
    "              show_code=False,\n",
    "              is_conversational_answer=False)"
   ]
  },
  {
   "cell_type": "markdown",
   "id": "f86e52bf",
   "metadata": {},
   "source": [
    "### Arithmetic operations"
   ]
  },
  {
   "cell_type": "code",
   "execution_count": 30,
   "id": "c03b9e92",
   "metadata": {},
   "outputs": [
    {
     "data": {
      "text/html": [
       "<div>\n",
       "<style scoped>\n",
       "    .dataframe tbody tr th:only-of-type {\n",
       "        vertical-align: middle;\n",
       "    }\n",
       "\n",
       "    .dataframe tbody tr th {\n",
       "        vertical-align: top;\n",
       "    }\n",
       "\n",
       "    .dataframe thead th {\n",
       "        text-align: right;\n",
       "    }\n",
       "</style>\n",
       "<table border=\"1\" class=\"dataframe\">\n",
       "  <thead>\n",
       "    <tr style=\"text-align: right;\">\n",
       "      <th></th>\n",
       "      <th>Gender</th>\n",
       "      <th>Age</th>\n",
       "      <th>AnnualIncome</th>\n",
       "      <th>SpendingScore</th>\n",
       "      <th>Profession</th>\n",
       "      <th>WorkExperience</th>\n",
       "      <th>FamilySize</th>\n",
       "    </tr>\n",
       "    <tr>\n",
       "      <th>CustomerID</th>\n",
       "      <th></th>\n",
       "      <th></th>\n",
       "      <th></th>\n",
       "      <th></th>\n",
       "      <th></th>\n",
       "      <th></th>\n",
       "      <th></th>\n",
       "    </tr>\n",
       "  </thead>\n",
       "  <tbody>\n",
       "    <tr>\n",
       "      <th>1</th>\n",
       "      <td>Male</td>\n",
       "      <td>19</td>\n",
       "      <td>150.0</td>\n",
       "      <td>39</td>\n",
       "      <td>Scientist</td>\n",
       "      <td>1</td>\n",
       "      <td>4</td>\n",
       "    </tr>\n",
       "    <tr>\n",
       "      <th>2</th>\n",
       "      <td>Male</td>\n",
       "      <td>21</td>\n",
       "      <td>350.0</td>\n",
       "      <td>81</td>\n",
       "      <td>Engineer</td>\n",
       "      <td>3</td>\n",
       "      <td>3</td>\n",
       "    </tr>\n",
       "    <tr>\n",
       "      <th>3</th>\n",
       "      <td>Female</td>\n",
       "      <td>20</td>\n",
       "      <td>860.0</td>\n",
       "      <td>6</td>\n",
       "      <td>Engineer</td>\n",
       "      <td>1</td>\n",
       "      <td>1</td>\n",
       "    </tr>\n",
       "    <tr>\n",
       "      <th>4</th>\n",
       "      <td>Female</td>\n",
       "      <td>23</td>\n",
       "      <td>590.0</td>\n",
       "      <td>77</td>\n",
       "      <td>Lawyer</td>\n",
       "      <td>0</td>\n",
       "      <td>2</td>\n",
       "    </tr>\n",
       "    <tr>\n",
       "      <th>5</th>\n",
       "      <td>Female</td>\n",
       "      <td>31</td>\n",
       "      <td>380.0</td>\n",
       "      <td>40</td>\n",
       "      <td>Artist</td>\n",
       "      <td>2</td>\n",
       "      <td>6</td>\n",
       "    </tr>\n",
       "    <tr>\n",
       "      <th>6</th>\n",
       "      <td>Female</td>\n",
       "      <td>22</td>\n",
       "      <td>580.0</td>\n",
       "      <td>76</td>\n",
       "      <td>Engineer</td>\n",
       "      <td>0</td>\n",
       "      <td>2</td>\n",
       "    </tr>\n",
       "    <tr>\n",
       "      <th>7</th>\n",
       "      <td>Female</td>\n",
       "      <td>35</td>\n",
       "      <td>310.0</td>\n",
       "      <td>6</td>\n",
       "      <td>Scientist</td>\n",
       "      <td>1</td>\n",
       "      <td>3</td>\n",
       "    </tr>\n",
       "  </tbody>\n",
       "</table>\n",
       "</div>"
      ],
      "text/plain": [
       "            Gender  Age  AnnualIncome  SpendingScore Profession  \\\n",
       "CustomerID                                                        \n",
       "1             Male   19         150.0             39  Scientist   \n",
       "2             Male   21         350.0             81   Engineer   \n",
       "3           Female   20         860.0              6   Engineer   \n",
       "4           Female   23         590.0             77     Lawyer   \n",
       "5           Female   31         380.0             40     Artist   \n",
       "6           Female   22         580.0             76   Engineer   \n",
       "7           Female   35         310.0              6  Scientist   \n",
       "\n",
       "            WorkExperience  FamilySize  \n",
       "CustomerID                              \n",
       "1                        1           4  \n",
       "2                        3           3  \n",
       "3                        1           1  \n",
       "4                        0           2  \n",
       "5                        2           6  \n",
       "6                        0           2  \n",
       "7                        1           3  "
      ]
     },
     "execution_count": 30,
     "metadata": {},
     "output_type": "execute_result"
    }
   ],
   "source": [
    "prompt = 'return me a dataframe where the annual income is divided by 100'\n",
    "\n",
    "pandas_ai.run(df,\n",
    "              prompt=prompt, \n",
    "              show_code=False,\n",
    "              is_conversational_answer=False)"
   ]
  },
  {
   "cell_type": "markdown",
   "id": "fd76f411",
   "metadata": {},
   "source": [
    "These examples showcase the versatility of using LLMs (via `pandasAI`) to simplify our use of `pandas`. The prompts used need to be carefully designed as not all text can be interpreted accurately by the LLMs. To improve the interpretation accuracy, we can leverage more powerful LLMs like OpenAI's GPT4 model."
   ]
  }
 ],
 "metadata": {
  "kernelspec": {
   "display_name": "educative_pandas_2",
   "language": "python",
   "name": "venv"
  },
  "language_info": {
   "codemirror_mode": {
    "name": "ipython",
    "version": 3
   },
   "file_extension": ".py",
   "mimetype": "text/x-python",
   "name": "python",
   "nbconvert_exporter": "python",
   "pygments_lexer": "ipython3",
   "version": "3.9.12"
  }
 },
 "nbformat": 4,
 "nbformat_minor": 5
}
