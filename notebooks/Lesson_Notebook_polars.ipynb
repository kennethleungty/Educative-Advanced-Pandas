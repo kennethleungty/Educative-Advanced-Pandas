{
 "cells": [
  {
   "cell_type": "markdown",
   "id": "fd283992-b38e-49b5-92e0-84330745f9c3",
   "metadata": {},
   "source": [
    "# Advanced pandas - Going Beyond the Basics\n",
    "\n",
    "## polars\n",
    "___\n",
    "\n",
    "### Table of Contents\n",
    "1. [Import dependencies](#section1)\n",
    "2. [Read data into polars](#section2)\n",
    "3. [Expressions and operations](#section3)"
   ]
  },
  {
   "cell_type": "markdown",
   "id": "13c899d9",
   "metadata": {},
   "source": [
    "https://towardsdatascience.com/pandas-dataframe-but-much-faster-f475d6be4cd4\n",
    "\n",
    "https://medium.com/towards-data-science/measuring-the-speed-of-new-pandas-2-0-against-polars-and-datatable-still-not-good-enough-e44dc78f6585\n",
    "\n",
    "https://towardsdatascience.com/getting-started-with-the-polars-dataframe-library-6f9e1c014c5c\n",
    "\n",
    "https://towardsdatascience.com/understanding-lazy-evaluation-in-polars-b85ccb864d0c"
   ]
  },
  {
   "cell_type": "markdown",
   "id": "2c795658-ab3c-450f-8fcc-73a3614dd687",
   "metadata": {},
   "source": [
    "___\n",
    "<a id='section1'></a>\n",
    "# (1) Import dependencies"
   ]
  },
  {
   "cell_type": "code",
   "execution_count": 1,
   "id": "a9bfaea1",
   "metadata": {},
   "outputs": [],
   "source": [
    "# Install dependencies (if not already done so)\n",
    "# !pip install pandas==2.0.3\n",
    "# !pip install polars==0.18.7"
   ]
  },
  {
   "cell_type": "code",
   "execution_count": 1,
   "id": "ea1df48b-45b1-4eae-92b5-fcec359b530d",
   "metadata": {},
   "outputs": [],
   "source": [
    "import numpy as np\n",
    "import pandas as pd\n",
    "import polars as pl"
   ]
  },
  {
   "cell_type": "markdown",
   "id": "2f75c7ff",
   "metadata": {},
   "source": [
    "___\n",
    "<a id='section2'></a>\n",
    "# (2) Read data into `polars`\n",
    "- Data Source: https://archive.ics.uci.edu/dataset/352/online+retail ((CC BY 4.0) license)"
   ]
  },
  {
   "cell_type": "markdown",
   "id": "ea67636d",
   "metadata": {},
   "source": [
    "`polars` supports reading and writing to all common file formats (e.g. CSV, JSON, Parquet), cloud storage (S3, Azure Blob, BigQuery) and databases (e.g. PostgreSQL, MySQL etc.).\n",
    "\n",
    "In this example, we will use the fast CSV reading function of `polars`, as shown below:"
   ]
  },
  {
   "cell_type": "code",
   "execution_count": 16,
   "id": "072149af",
   "metadata": {},
   "outputs": [
    {
     "data": {
      "text/html": [
       "<div><style>\n",
       ".dataframe > thead > tr > th,\n",
       ".dataframe > tbody > tr > td {\n",
       "  text-align: right;\n",
       "}\n",
       "</style>\n",
       "<small>shape: (5, 8)</small><table border=\"1\" class=\"dataframe\"><thead><tr><th>InvoiceNo</th><th>StockCode</th><th>Description</th><th>Quantity</th><th>InvoiceDate</th><th>UnitPrice</th><th>CustomerID</th><th>Country</th></tr><tr><td>i64</td><td>str</td><td>str</td><td>i64</td><td>str</td><td>f64</td><td>i64</td><td>str</td></tr></thead><tbody><tr><td>536365</td><td>&quot;85123A&quot;</td><td>&quot;WHITE HANGING …</td><td>6</td><td>&quot;1/12/2010 8:26…</td><td>2.55</td><td>17850</td><td>&quot;United Kingdom…</td></tr><tr><td>536365</td><td>&quot;71053&quot;</td><td>&quot;WHITE METAL LA…</td><td>6</td><td>&quot;1/12/2010 8:26…</td><td>3.39</td><td>17850</td><td>&quot;United Kingdom…</td></tr><tr><td>536365</td><td>&quot;84406B&quot;</td><td>&quot;CREAM CUPID HE…</td><td>8</td><td>&quot;1/12/2010 8:26…</td><td>2.75</td><td>17850</td><td>&quot;United Kingdom…</td></tr><tr><td>536365</td><td>&quot;84029G&quot;</td><td>&quot;KNITTED UNION …</td><td>6</td><td>&quot;1/12/2010 8:26…</td><td>3.39</td><td>17850</td><td>&quot;United Kingdom…</td></tr><tr><td>536365</td><td>&quot;84029E&quot;</td><td>&quot;RED WOOLLY HOT…</td><td>6</td><td>&quot;1/12/2010 8:26…</td><td>3.39</td><td>17850</td><td>&quot;United Kingdom…</td></tr></tbody></table></div>"
      ],
      "text/plain": [
       "shape: (5, 8)\n",
       "┌───────────┬───────────┬────────────────────────┬──────────┬────────────────┬───────────┬────────────┬────────────────┐\n",
       "│ InvoiceNo ┆ StockCode ┆ Description            ┆ Quantity ┆ InvoiceDate    ┆ UnitPrice ┆ CustomerID ┆ Country        │\n",
       "│ ---       ┆ ---       ┆ ---                    ┆ ---      ┆ ---            ┆ ---       ┆ ---        ┆ ---            │\n",
       "│ i64       ┆ str       ┆ str                    ┆ i64      ┆ str            ┆ f64       ┆ i64        ┆ str            │\n",
       "╞═══════════╪═══════════╪════════════════════════╪══════════╪════════════════╪═══════════╪════════════╪════════════════╡\n",
       "│ 536365    ┆ 85123A    ┆ WHITE HANGING HEART    ┆ 6        ┆ 1/12/2010 8:26 ┆ 2.55      ┆ 17850      ┆ United Kingdom │\n",
       "│           ┆           ┆ T-LIGHT HOLD…          ┆          ┆                ┆           ┆            ┆                │\n",
       "│ 536365    ┆ 71053     ┆ WHITE METAL LANTERN    ┆ 6        ┆ 1/12/2010 8:26 ┆ 3.39      ┆ 17850      ┆ United Kingdom │\n",
       "│ 536365    ┆ 84406B    ┆ CREAM CUPID HEARTS     ┆ 8        ┆ 1/12/2010 8:26 ┆ 2.75      ┆ 17850      ┆ United Kingdom │\n",
       "│           ┆           ┆ COAT HANGER            ┆          ┆                ┆           ┆            ┆                │\n",
       "│ 536365    ┆ 84029G    ┆ KNITTED UNION FLAG HOT ┆ 6        ┆ 1/12/2010 8:26 ┆ 3.39      ┆ 17850      ┆ United Kingdom │\n",
       "│           ┆           ┆ WATER BOT…             ┆          ┆                ┆           ┆            ┆                │\n",
       "│ 536365    ┆ 84029E    ┆ RED WOOLLY HOTTIE      ┆ 6        ┆ 1/12/2010 8:26 ┆ 3.39      ┆ 17850      ┆ United Kingdom │\n",
       "│           ┆           ┆ WHITE HEART.           ┆          ┆                ┆           ┆            ┆                │\n",
       "└───────────┴───────────┴────────────────────────┴──────────┴────────────────┴───────────┴────────────┴────────────────┘"
      ]
     },
     "execution_count": 16,
     "metadata": {},
     "output_type": "execute_result"
    }
   ],
   "source": [
    "# Read CSV in polars\n",
    "df = pl.read_csv('https://raw.githubusercontent.com/kennethleungty/Educative-Advanced-Pandas/main/data/csv/online_retail_dataset.csv',\n",
    "                 encoding='utf-8', # Ensure values are encoded appropriately\n",
    "                 ignore_errors=True # Hide errors first since dtypes not specified\n",
    "                )\n",
    "\n",
    "# View output\n",
    "df.head()"
   ]
  },
  {
   "cell_type": "markdown",
   "id": "21af7ac5",
   "metadata": {},
   "source": [
    "`polars` has a strict schema, meaning that data types should be known before running the query. In the above case, because we did not specify the `dtypes`, the data type inference was done automatically and the output DataFrame indicates the inferred `dtype` for each column.\n",
    "\n",
    "To specify the data types appropriately for `polars` to work optimally, we can use the `dtypes` and `columns` parameters, as illustrated below:"
   ]
  },
  {
   "cell_type": "code",
   "execution_count": 15,
   "id": "63b165ec",
   "metadata": {
    "scrolled": true
   },
   "outputs": [
    {
     "data": {
      "text/html": [
       "<div><style>\n",
       ".dataframe > thead > tr > th,\n",
       ".dataframe > tbody > tr > td {\n",
       "  text-align: right;\n",
       "}\n",
       "</style>\n",
       "<small>shape: (5, 8)</small><table border=\"1\" class=\"dataframe\"><thead><tr><th>InvoiceNo</th><th>StockCode</th><th>Description</th><th>Quantity</th><th>InvoiceDate</th><th>UnitPrice</th><th>CustomerID</th><th>Country</th></tr><tr><td>str</td><td>str</td><td>str</td><td>i64</td><td>datetime[μs]</td><td>f64</td><td>i64</td><td>cat</td></tr></thead><tbody><tr><td>&quot;536365&quot;</td><td>&quot;85123A&quot;</td><td>&quot;WHITE HANGING …</td><td>6</td><td>null</td><td>2.55</td><td>17850</td><td>&quot;United Kingdom…</td></tr><tr><td>&quot;536365&quot;</td><td>&quot;71053&quot;</td><td>&quot;WHITE METAL LA…</td><td>6</td><td>null</td><td>3.39</td><td>17850</td><td>&quot;United Kingdom…</td></tr><tr><td>&quot;536365&quot;</td><td>&quot;84406B&quot;</td><td>&quot;CREAM CUPID HE…</td><td>8</td><td>null</td><td>2.75</td><td>17850</td><td>&quot;United Kingdom…</td></tr><tr><td>&quot;536365&quot;</td><td>&quot;84029G&quot;</td><td>&quot;KNITTED UNION …</td><td>6</td><td>null</td><td>3.39</td><td>17850</td><td>&quot;United Kingdom…</td></tr><tr><td>&quot;536365&quot;</td><td>&quot;84029E&quot;</td><td>&quot;RED WOOLLY HOT…</td><td>6</td><td>null</td><td>3.39</td><td>17850</td><td>&quot;United Kingdom…</td></tr></tbody></table></div>"
      ],
      "text/plain": [
       "shape: (5, 8)\n",
       "┌───────────┬───────────┬──────────────────────────┬──────────┬──────────────┬───────────┬────────────┬────────────────┐\n",
       "│ InvoiceNo ┆ StockCode ┆ Description              ┆ Quantity ┆ InvoiceDate  ┆ UnitPrice ┆ CustomerID ┆ Country        │\n",
       "│ ---       ┆ ---       ┆ ---                      ┆ ---      ┆ ---          ┆ ---       ┆ ---        ┆ ---            │\n",
       "│ str       ┆ str       ┆ str                      ┆ i64      ┆ datetime[μs] ┆ f64       ┆ i64        ┆ cat            │\n",
       "╞═══════════╪═══════════╪══════════════════════════╪══════════╪══════════════╪═══════════╪════════════╪════════════════╡\n",
       "│ 536365    ┆ 85123A    ┆ WHITE HANGING HEART      ┆ 6        ┆ null         ┆ 2.55      ┆ 17850      ┆ United Kingdom │\n",
       "│           ┆           ┆ T-LIGHT HOLD…            ┆          ┆              ┆           ┆            ┆                │\n",
       "│ 536365    ┆ 71053     ┆ WHITE METAL LANTERN      ┆ 6        ┆ null         ┆ 3.39      ┆ 17850      ┆ United Kingdom │\n",
       "│ 536365    ┆ 84406B    ┆ CREAM CUPID HEARTS COAT  ┆ 8        ┆ null         ┆ 2.75      ┆ 17850      ┆ United Kingdom │\n",
       "│           ┆           ┆ HANGER                   ┆          ┆              ┆           ┆            ┆                │\n",
       "│ 536365    ┆ 84029G    ┆ KNITTED UNION FLAG HOT   ┆ 6        ┆ null         ┆ 3.39      ┆ 17850      ┆ United Kingdom │\n",
       "│           ┆           ┆ WATER BOT…               ┆          ┆              ┆           ┆            ┆                │\n",
       "│ 536365    ┆ 84029E    ┆ RED WOOLLY HOTTIE WHITE  ┆ 6        ┆ null         ┆ 3.39      ┆ 17850      ┆ United Kingdom │\n",
       "│           ┆           ┆ HEART.                   ┆          ┆              ┆           ┆            ┆                │\n",
       "└───────────┴───────────┴──────────────────────────┴──────────┴──────────────┴───────────┴────────────┴────────────────┘"
      ]
     },
     "execution_count": 15,
     "metadata": {},
     "output_type": "execute_result"
    }
   ],
   "source": [
    "# Specify column names\n",
    "columns=[\"InvoiceNo\", \"StockCode\", \"Description\", \"Quantity\", \"InvoiceDate\", \n",
    "         \"UnitPrice\", \"CustomerID\", \"Country\"]\n",
    "\n",
    "# Define list of data types in the same sequence as the columns\n",
    "dtypes_list = [pl.Utf8, pl.Utf8, pl.Utf8, pl.Int64, pl.Datetime,\n",
    "               pl.Float64, pl.Int64, pl.Categorical]\n",
    "\n",
    "# Read CSV in polars with dtypes specified\n",
    "df = pl.read_csv('https://raw.githubusercontent.com/kennethleungty/Educative-Advanced-Pandas/main/data/csv/online_retail_dataset.csv',\n",
    "                 encoding='utf-8', # Ensure values are encoded appropriately\n",
    "                 dtypes=dtypes_list,\n",
    "                 columns=columns\n",
    "                 )\n",
    "\n",
    "# View output\n",
    "df.head()"
   ]
  },
  {
   "cell_type": "markdown",
   "id": "d2692ea4",
   "metadata": {},
   "source": [
    "> **Note**: `pl.Utf8` represents the UTF-8 encoded string type in `polars`.The complete list of `polars` data types can be found in the section below on the Educative lesson page."
   ]
  },
  {
   "cell_type": "markdown",
   "id": "7b8ac5a1",
   "metadata": {},
   "source": [
    "If we do not wish to read the entire large dataset directly, we can do scanning with `scan_csv()` instead. `scan_csv()` delays the parsing of the dataset, and instead lazily reads it and returns a holder known as a `LazyFrame` (rather than a DataFrame). A `LazyFrame` is a representation of a lazy computation graph/query against a DataFrame. \n",
    "\n",
    "The purpose of this is to let `polars` generate an optimal execution plan before actually executing the transformation, so that `polars` can skip over certain columns if they are not needed in the computation. The actual computation takes place when the `collect()` is called, as shown below:"
   ]
  },
  {
   "cell_type": "code",
   "execution_count": 19,
   "id": "5a317b31",
   "metadata": {},
   "outputs": [
    {
     "data": {
      "text/plain": [
       "polars.lazyframe.frame.LazyFrame"
      ]
     },
     "execution_count": 19,
     "metadata": {},
     "output_type": "execute_result"
    }
   ],
   "source": [
    "lazy_df = pl.scan_csv('../data/csv/online_retail_dataset.csv', # Must be read from local file, not external URL\n",
    "                      encoding='utf8',\n",
    "                      ignore_errors = True)\n",
    "type(lazy_df)"
   ]
  },
  {
   "cell_type": "code",
   "execution_count": 25,
   "id": "06cbc6ec",
   "metadata": {},
   "outputs": [
    {
     "data": {
      "text/html": [
       "<div><style>\n",
       ".dataframe > thead > tr > th,\n",
       ".dataframe > tbody > tr > td {\n",
       "  text-align: right;\n",
       "}\n",
       "</style>\n",
       "<small>shape: (5, 8)</small><table border=\"1\" class=\"dataframe\"><thead><tr><th>InvoiceNo</th><th>StockCode</th><th>Description</th><th>Quantity</th><th>InvoiceDate</th><th>UnitPrice</th><th>CustomerID</th><th>Country</th></tr><tr><td>i64</td><td>str</td><td>str</td><td>i64</td><td>str</td><td>f64</td><td>i64</td><td>str</td></tr></thead><tbody><tr><td>536365</td><td>&quot;85123A&quot;</td><td>&quot;WHITE HANGING …</td><td>6</td><td>&quot;1/12/2010 8:26…</td><td>2.55</td><td>17850</td><td>&quot;United Kingdom…</td></tr><tr><td>536365</td><td>&quot;71053&quot;</td><td>&quot;WHITE METAL LA…</td><td>6</td><td>&quot;1/12/2010 8:26…</td><td>3.39</td><td>17850</td><td>&quot;United Kingdom…</td></tr><tr><td>536365</td><td>&quot;84406B&quot;</td><td>&quot;CREAM CUPID HE…</td><td>8</td><td>&quot;1/12/2010 8:26…</td><td>2.75</td><td>17850</td><td>&quot;United Kingdom…</td></tr><tr><td>536365</td><td>&quot;84029G&quot;</td><td>&quot;KNITTED UNION …</td><td>6</td><td>&quot;1/12/2010 8:26…</td><td>3.39</td><td>17850</td><td>&quot;United Kingdom…</td></tr><tr><td>536365</td><td>&quot;84029E&quot;</td><td>&quot;RED WOOLLY HOT…</td><td>6</td><td>&quot;1/12/2010 8:26…</td><td>3.39</td><td>17850</td><td>&quot;United Kingdom…</td></tr></tbody></table></div>"
      ],
      "text/plain": [
       "shape: (5, 8)\n",
       "┌───────────┬───────────┬────────────────────────┬──────────┬────────────────┬───────────┬────────────┬────────────────┐\n",
       "│ InvoiceNo ┆ StockCode ┆ Description            ┆ Quantity ┆ InvoiceDate    ┆ UnitPrice ┆ CustomerID ┆ Country        │\n",
       "│ ---       ┆ ---       ┆ ---                    ┆ ---      ┆ ---            ┆ ---       ┆ ---        ┆ ---            │\n",
       "│ i64       ┆ str       ┆ str                    ┆ i64      ┆ str            ┆ f64       ┆ i64        ┆ str            │\n",
       "╞═══════════╪═══════════╪════════════════════════╪══════════╪════════════════╪═══════════╪════════════╪════════════════╡\n",
       "│ 536365    ┆ 85123A    ┆ WHITE HANGING HEART    ┆ 6        ┆ 1/12/2010 8:26 ┆ 2.55      ┆ 17850      ┆ United Kingdom │\n",
       "│           ┆           ┆ T-LIGHT HOLD…          ┆          ┆                ┆           ┆            ┆                │\n",
       "│ 536365    ┆ 71053     ┆ WHITE METAL LANTERN    ┆ 6        ┆ 1/12/2010 8:26 ┆ 3.39      ┆ 17850      ┆ United Kingdom │\n",
       "│ 536365    ┆ 84406B    ┆ CREAM CUPID HEARTS     ┆ 8        ┆ 1/12/2010 8:26 ┆ 2.75      ┆ 17850      ┆ United Kingdom │\n",
       "│           ┆           ┆ COAT HANGER            ┆          ┆                ┆           ┆            ┆                │\n",
       "│ 536365    ┆ 84029G    ┆ KNITTED UNION FLAG HOT ┆ 6        ┆ 1/12/2010 8:26 ┆ 3.39      ┆ 17850      ┆ United Kingdom │\n",
       "│           ┆           ┆ WATER BOT…             ┆          ┆                ┆           ┆            ┆                │\n",
       "│ 536365    ┆ 84029E    ┆ RED WOOLLY HOTTIE      ┆ 6        ┆ 1/12/2010 8:26 ┆ 3.39      ┆ 17850      ┆ United Kingdom │\n",
       "│           ┆           ┆ WHITE HEART.           ┆          ┆                ┆           ┆            ┆                │\n",
       "└───────────┴───────────┴────────────────────────┴──────────┴────────────────┴───────────┴────────────┴────────────────┘"
      ]
     },
     "execution_count": 25,
     "metadata": {},
     "output_type": "execute_result"
    }
   ],
   "source": [
    "# Retrieve full data when run collect()\n",
    "df = lazy_df.collect(streaming = True)\n",
    "\n",
    "# View output\n",
    "df.head()"
   ]
  },
  {
   "cell_type": "markdown",
   "id": "ab28083e",
   "metadata": {},
   "source": [
    "As opposed to the lazy execution in `scan_csv()`, the `read_csv()` method uses an eager execution mode.\n",
    "\n",
    "For debugging purposes, sometimes it is useful to just return a few rows to examine the output. We can use the fetch() method to return the first n rows, as shown below:"
   ]
  },
  {
   "cell_type": "code",
   "execution_count": 24,
   "id": "d2de5a5a",
   "metadata": {},
   "outputs": [
    {
     "data": {
      "text/html": [
       "<div><style>\n",
       ".dataframe > thead > tr > th,\n",
       ".dataframe > tbody > tr > td {\n",
       "  text-align: right;\n",
       "}\n",
       "</style>\n",
       "<small>shape: (3, 8)</small><table border=\"1\" class=\"dataframe\"><thead><tr><th>InvoiceNo</th><th>StockCode</th><th>Description</th><th>Quantity</th><th>InvoiceDate</th><th>UnitPrice</th><th>CustomerID</th><th>Country</th></tr><tr><td>i64</td><td>str</td><td>str</td><td>i64</td><td>str</td><td>f64</td><td>i64</td><td>str</td></tr></thead><tbody><tr><td>536365</td><td>&quot;85123A&quot;</td><td>&quot;WHITE HANGING …</td><td>6</td><td>&quot;1/12/2010 8:26…</td><td>2.55</td><td>17850</td><td>&quot;United Kingdom…</td></tr><tr><td>536365</td><td>&quot;71053&quot;</td><td>&quot;WHITE METAL LA…</td><td>6</td><td>&quot;1/12/2010 8:26…</td><td>3.39</td><td>17850</td><td>&quot;United Kingdom…</td></tr><tr><td>536365</td><td>&quot;84406B&quot;</td><td>&quot;CREAM CUPID HE…</td><td>8</td><td>&quot;1/12/2010 8:26…</td><td>2.75</td><td>17850</td><td>&quot;United Kingdom…</td></tr></tbody></table></div>"
      ],
      "text/plain": [
       "shape: (3, 8)\n",
       "┌───────────┬───────────┬─────────────────────┬──────────┬────────────────┬───────────┬────────────┬────────────────┐\n",
       "│ InvoiceNo ┆ StockCode ┆ Description         ┆ Quantity ┆ InvoiceDate    ┆ UnitPrice ┆ CustomerID ┆ Country        │\n",
       "│ ---       ┆ ---       ┆ ---                 ┆ ---      ┆ ---            ┆ ---       ┆ ---        ┆ ---            │\n",
       "│ i64       ┆ str       ┆ str                 ┆ i64      ┆ str            ┆ f64       ┆ i64        ┆ str            │\n",
       "╞═══════════╪═══════════╪═════════════════════╪══════════╪════════════════╪═══════════╪════════════╪════════════════╡\n",
       "│ 536365    ┆ 85123A    ┆ WHITE HANGING HEART ┆ 6        ┆ 1/12/2010 8:26 ┆ 2.55      ┆ 17850      ┆ United Kingdom │\n",
       "│           ┆           ┆ T-LIGHT HOLD…       ┆          ┆                ┆           ┆            ┆                │\n",
       "│ 536365    ┆ 71053     ┆ WHITE METAL LANTERN ┆ 6        ┆ 1/12/2010 8:26 ┆ 3.39      ┆ 17850      ┆ United Kingdom │\n",
       "│ 536365    ┆ 84406B    ┆ CREAM CUPID HEARTS  ┆ 8        ┆ 1/12/2010 8:26 ┆ 2.75      ┆ 17850      ┆ United Kingdom │\n",
       "│           ┆           ┆ COAT HANGER         ┆          ┆                ┆           ┆            ┆                │\n",
       "└───────────┴───────────┴─────────────────────┴──────────┴────────────────┴───────────┴────────────┴────────────────┘"
      ]
     },
     "execution_count": 24,
     "metadata": {},
     "output_type": "execute_result"
    }
   ],
   "source": [
    "lazy_df.fetch(3)"
   ]
  },
  {
   "cell_type": "markdown",
   "id": "4784e272",
   "metadata": {},
   "source": [
    "> **Note**: To showcase the lazy evaluation capabilities of `polars`, we will load the dataset locally for the subsequent examples, instead of retrieving it from the GitHub repo link."
   ]
  },
  {
   "cell_type": "markdown",
   "id": "de595719",
   "metadata": {},
   "source": [
    "___\n",
    "<a id='section3'></a>\n",
    "# (3) Expressions and operations"
   ]
  },
  {
   "cell_type": "markdown",
   "id": "ff870c95",
   "metadata": {},
   "source": [
    "`polars` has a powerful concept called expressions, and it is central to its fast performance. Expressions are at the core of many data science operations as they are used to represent operations performed on one or more columns in a DataFrame. \n",
    "\n",
    "They can include basic arithmetic, aggregations, comparisons, and other more complex transformations. When using `polars`, expressions allow users to create concise, readable code for data manipulation.\n",
    "\n",
    "In this lesson, let us focus on four of these expression methods, namely:\n",
    "1. `select()`\n",
    "2. `filter()`\n",
    "3. `groupby()`\n",
    "4. `with_columns()`"
   ]
  },
  {
   "cell_type": "markdown",
   "id": "0255bea9",
   "metadata": {},
   "source": [
    "## `select()`"
   ]
  },
  {
   "cell_type": "code",
   "execution_count": null,
   "id": "18b1df49",
   "metadata": {},
   "outputs": [],
   "source": []
  },
  {
   "cell_type": "code",
   "execution_count": null,
   "id": "af5edbf9",
   "metadata": {},
   "outputs": [],
   "source": []
  },
  {
   "cell_type": "markdown",
   "id": "d0ccad0b",
   "metadata": {},
   "source": [
    "## `filter()`"
   ]
  },
  {
   "cell_type": "code",
   "execution_count": null,
   "id": "b2efac68",
   "metadata": {},
   "outputs": [],
   "source": []
  },
  {
   "cell_type": "code",
   "execution_count": null,
   "id": "104d2b8c",
   "metadata": {},
   "outputs": [],
   "source": []
  },
  {
   "cell_type": "code",
   "execution_count": null,
   "id": "a60358d9",
   "metadata": {},
   "outputs": [],
   "source": []
  },
  {
   "cell_type": "markdown",
   "id": "39a3e042",
   "metadata": {},
   "source": [
    "## `groupby()`"
   ]
  },
  {
   "cell_type": "code",
   "execution_count": null,
   "id": "efb0270b",
   "metadata": {},
   "outputs": [],
   "source": []
  },
  {
   "cell_type": "code",
   "execution_count": null,
   "id": "a37838b4",
   "metadata": {},
   "outputs": [],
   "source": []
  },
  {
   "cell_type": "code",
   "execution_count": null,
   "id": "910e611b",
   "metadata": {},
   "outputs": [],
   "source": []
  },
  {
   "cell_type": "code",
   "execution_count": null,
   "id": "2788a2f1",
   "metadata": {},
   "outputs": [],
   "source": []
  },
  {
   "cell_type": "markdown",
   "id": "10d6db7c",
   "metadata": {},
   "source": [
    "## `with_columns()`"
   ]
  },
  {
   "cell_type": "code",
   "execution_count": null,
   "id": "f3c3644e",
   "metadata": {},
   "outputs": [],
   "source": []
  },
  {
   "cell_type": "code",
   "execution_count": null,
   "id": "5b4b9623",
   "metadata": {},
   "outputs": [],
   "source": []
  },
  {
   "cell_type": "markdown",
   "id": "5286ae3f",
   "metadata": {},
   "source": [
    "https://pola-rs.github.io/polars-book/getting-started/expressions/"
   ]
  },
  {
   "cell_type": "code",
   "execution_count": null,
   "id": "feef5478",
   "metadata": {},
   "outputs": [],
   "source": []
  },
  {
   "cell_type": "code",
   "execution_count": null,
   "id": "2ca88f83",
   "metadata": {},
   "outputs": [],
   "source": []
  },
  {
   "cell_type": "markdown",
   "id": "cdc288a5",
   "metadata": {},
   "source": [
    "## Chaining expressions"
   ]
  },
  {
   "cell_type": "markdown",
   "id": "0b773941",
   "metadata": {},
   "source": [
    "The power of expressions is that every expression produces a new expression, which means that they can be chained together in a form of pipeline. For example, ____"
   ]
  },
  {
   "cell_type": "code",
   "execution_count": null,
   "id": "c1c14946",
   "metadata": {},
   "outputs": [],
   "source": []
  },
  {
   "cell_type": "code",
   "execution_count": null,
   "id": "7423991a",
   "metadata": {},
   "outputs": [],
   "source": []
  },
  {
   "cell_type": "markdown",
   "id": "d846c71e",
   "metadata": {},
   "source": [
    "https://pola-rs.github.io/polars-book/getting-started/expressions/"
   ]
  },
  {
   "cell_type": "code",
   "execution_count": null,
   "id": "cf22a711",
   "metadata": {},
   "outputs": [],
   "source": []
  },
  {
   "cell_type": "code",
   "execution_count": null,
   "id": "83ec48bb",
   "metadata": {},
   "outputs": [],
   "source": []
  },
  {
   "cell_type": "markdown",
   "id": "5d5c3eb1",
   "metadata": {},
   "source": [
    "We generally want to stay in lazy mode for as long as possible (ideally for our entire query) so that Polars can apply query optimisation. \n",
    "\n",
    "**SHOW EXAMPLE of lazy()**: https://towardsdatascience.com/understanding-lazy-evaluation-in-polars-b85ccb864d0c#:~:text=Explicit%20Lazy%20Evaluation"
   ]
  },
  {
   "cell_type": "code",
   "execution_count": null,
   "id": "cdd1dc6f",
   "metadata": {},
   "outputs": [],
   "source": []
  },
  {
   "cell_type": "code",
   "execution_count": null,
   "id": "22b5715c",
   "metadata": {},
   "outputs": [],
   "source": []
  },
  {
   "cell_type": "code",
   "execution_count": null,
   "id": "1d6703bb",
   "metadata": {},
   "outputs": [],
   "source": []
  },
  {
   "cell_type": "markdown",
   "id": "37ba68f5",
   "metadata": {},
   "source": [
    "So this is not only much faster and more scalable, it’s also much easier to read and write! From: https://www.rhosignal.com/posts/polars-glob-csvs/"
   ]
  },
  {
   "cell_type": "code",
   "execution_count": null,
   "id": "c93012da",
   "metadata": {},
   "outputs": [],
   "source": [
    "polars_df = (\n",
    "    pl.scan_csv(\"data_files/*.csv\")\n",
    "    # Select a subset of columns\n",
    "    .select([\"date\",\"temperature\",\"humdity\"])\n",
    "    ...\n",
    "    .collect(streaming=True)\n",
    ")"
   ]
  },
  {
   "cell_type": "markdown",
   "id": "3e836ee6",
   "metadata": {},
   "source": [
    "I called collect with the streaming = True argument to tell Polars I want it to evaluate the dataset in chunks\n",
    "There are some caveats here:\n",
    "\n",
    "streaming does not work for all operations (but does for core operations like filter,groupby and join). If streaming is not available for some of your operations Polars will default to non-streaming and you may run out of memory with a large dataset"
   ]
  },
  {
   "cell_type": "code",
   "execution_count": null,
   "id": "5b20d07a",
   "metadata": {},
   "outputs": [],
   "source": []
  },
  {
   "cell_type": "markdown",
   "id": "84592825",
   "metadata": {},
   "source": [
    "Want to add a table of polars data types?"
   ]
  }
 ],
 "metadata": {
  "kernelspec": {
   "display_name": "educative",
   "language": "python",
   "name": "venv"
  },
  "language_info": {
   "codemirror_mode": {
    "name": "ipython",
    "version": 3
   },
   "file_extension": ".py",
   "mimetype": "text/x-python",
   "name": "python",
   "nbconvert_exporter": "python",
   "pygments_lexer": "ipython3",
   "version": "3.11.4"
  }
 },
 "nbformat": 4,
 "nbformat_minor": 5
}
