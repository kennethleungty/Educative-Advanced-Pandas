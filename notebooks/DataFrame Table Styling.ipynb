{
 "cells": [
  {
   "cell_type": "markdown",
   "id": "fd283992-b38e-49b5-92e0-84330745f9c3",
   "metadata": {},
   "source": [
    "# Advanced pandas - Going Beyond the Basics\n",
    "\n",
    "## DataFrame Table Visualization\n",
    "___"
   ]
  },
  {
   "cell_type": "markdown",
   "id": "20f02b58-cfc5-411d-b101-68831bd04d44",
   "metadata": {},
   "source": [
    "Ask Kainat for support on the following:\n",
    "- Setup new Docker job specifically for ipynb of this lesson\n",
    "\n",
    "https://pandas.pydata.org/docs/user_guide/style.html\n",
    "\n",
    "https://nbviewer.org/github/pandas-dev/pandas/blob/main/doc/source/user_guide/style.ipynb\n",
    "\n",
    "https://pbpython.com/styling-pandas.html\n",
    "\n",
    "https://pandas.pydata.org/docs/reference/api/pandas.io.formats.style.Styler.html"
   ]
  },
  {
   "cell_type": "markdown",
   "id": "2c795658-ab3c-450f-8fcc-73a3614dd687",
   "metadata": {},
   "source": [
    "___\n",
    "## Import dependencies"
   ]
  },
  {
   "cell_type": "code",
   "execution_count": 1,
   "id": "ea1df48b-45b1-4eae-92b5-fcec359b530d",
   "metadata": {},
   "outputs": [],
   "source": [
    "import pandas as pd\n",
    "import numpy as np"
   ]
  },
  {
   "cell_type": "code",
   "execution_count": 2,
   "id": "b6c69371-b53c-4feb-aea8-012f9b4631f5",
   "metadata": {
    "scrolled": true
   },
   "outputs": [
    {
     "data": {
      "text/plain": [
       "'2.0.2'"
      ]
     },
     "execution_count": 2,
     "metadata": {},
     "output_type": "execute_result"
    }
   ],
   "source": [
    "# Check pandas version\n",
    "pd.__version__"
   ]
  },
  {
   "cell_type": "markdown",
   "id": "7c0c8605",
   "metadata": {},
   "source": [
    "## Import dataset\n",
    "- Source: https://www.kaggle.com/datasets/datascientistanna/customers-dataset (Database Contents License (DbCL) v1.0)"
   ]
  },
  {
   "cell_type": "code",
   "execution_count": null,
   "id": "2f5d519d",
   "metadata": {},
   "outputs": [],
   "source": [
    "m"
   ]
  },
  {
   "cell_type": "code",
   "execution_count": null,
   "id": "d7d44cab",
   "metadata": {},
   "outputs": [],
   "source": []
  },
  {
   "cell_type": "markdown",
   "id": "5fe11f7c-ee76-4470-9fea-8e4e848e5385",
   "metadata": {},
   "source": [
    "___\n",
    "## Styler object"
   ]
  },
  {
   "cell_type": "markdown",
   "id": "2ffbf59d-8ac9-45af-a71d-11c5a6a884e0",
   "metadata": {},
   "source": [
    "https://pandas.pydata.org/docs/user_guide/style.html#Formatting-Values\n",
    "https://pandas.pydata.org/docs/user_guide/style.html#Styler-Object-and-Customising-the-Display"
   ]
  },
  {
   "cell_type": "code",
   "execution_count": null,
   "id": "c76651cd-e2d7-4bca-b866-ee25bfdcd835",
   "metadata": {},
   "outputs": [],
   "source": [
    "df = pd.DataFrame({\n",
    "    \"strings\": [\"Adam\", \"Mike\"],\n",
    "    \"ints\": [1, 3],\n",
    "    \"floats\": [1.123, 1000.23]\n",
    "})\n",
    "\n",
    "df.style \\\n",
    "  .format(precision=3, thousands=\".\", decimal=\",\") \\\n",
    "  .format_index(str.upper, axis=1) \\\n",
    "  .relabel_index([\"row 1\", \"row 2\"], axis=0)"
   ]
  },
  {
   "cell_type": "code",
   "execution_count": null,
   "id": "d7741c5e-894c-4669-bd56-55abab8786a6",
   "metadata": {},
   "outputs": [],
   "source": []
  },
  {
   "cell_type": "markdown",
   "id": "02821cf6-cac8-464b-abb6-19f4d1fe8f8d",
   "metadata": {},
   "source": [
    "___\n",
    "## Data formatting"
   ]
  },
  {
   "cell_type": "markdown",
   "id": "1e36f99e-3a26-424a-8a32-1cda29957cc2",
   "metadata": {},
   "source": [
    "Before jumping to fancy colors, focus on the data in the dataframe first\n",
    "\n",
    "https://pandas.pydata.org/docs/user_guide/style.html#Formatting-Values\n",
    "\n",
    "format()\n",
    "format_index()\n",
    "relabel_index()\n",
    "hide()\n",
    "concat()"
   ]
  },
  {
   "cell_type": "code",
   "execution_count": null,
   "id": "94d62ff5-0b0a-4a99-8083-e5c25ccb3e54",
   "metadata": {},
   "outputs": [],
   "source": []
  },
  {
   "cell_type": "code",
   "execution_count": null,
   "id": "d12dc63e-1ad9-483a-bab7-e2164be909b9",
   "metadata": {},
   "outputs": [],
   "source": []
  },
  {
   "cell_type": "markdown",
   "id": "f130a668-5cea-41d0-bb71-23325d7f0e4b",
   "metadata": {},
   "source": [
    "___\n",
    "## Built-in styles"
   ]
  },
  {
   "cell_type": "markdown",
   "id": "098a628d-1d21-4521-bacb-fe5033ec5269",
   "metadata": {},
   "source": [
    "From here, talk about color"
   ]
  },
  {
   "cell_type": "markdown",
   "id": "fae1d1c3-b562-4417-a403-8aca0d1a3f1d",
   "metadata": {},
   "source": [
    "### Null"
   ]
  },
  {
   "cell_type": "markdown",
   "id": "7996d3fd-d959-4f07-abae-cd9594c2d86b",
   "metadata": {},
   "source": [
    ".highlight_null: for use with identifying missing data."
   ]
  },
  {
   "cell_type": "code",
   "execution_count": null,
   "id": "333ba326-d7cb-4ee8-9e5d-512ba187fd89",
   "metadata": {},
   "outputs": [],
   "source": []
  },
  {
   "cell_type": "markdown",
   "id": "bc366045-7aef-4d3e-bb9f-7117f2c15700",
   "metadata": {},
   "source": [
    "### Minimum and maximum"
   ]
  },
  {
   "cell_type": "markdown",
   "id": "c0c6e1c3-1c28-4a9f-9f2e-2581c85dea4f",
   "metadata": {},
   "source": [
    ".highlight_min and .highlight_max: for use with identifying extremities in data."
   ]
  },
  {
   "cell_type": "code",
   "execution_count": null,
   "id": "fb58bc1c-8368-48a3-bd46-0a89c43190bc",
   "metadata": {},
   "outputs": [],
   "source": []
  },
  {
   "cell_type": "code",
   "execution_count": null,
   "id": "50f5fdd6-d089-49c3-8ea2-2d9b4892133a",
   "metadata": {},
   "outputs": [],
   "source": []
  },
  {
   "cell_type": "code",
   "execution_count": null,
   "id": "e5d6360f-c091-4897-b934-7345edd010f7",
   "metadata": {},
   "outputs": [],
   "source": []
  },
  {
   "cell_type": "markdown",
   "id": "952cc8d7-50b4-4bb1-b567-443116428298",
   "metadata": {},
   "source": [
    "### Quantiles and between"
   ]
  },
  {
   "cell_type": "markdown",
   "id": "05b917b8-eb32-4683-bd5f-793ca6190e52",
   "metadata": {},
   "source": [
    ".highlight_between and .highlight_quantile: for use with identifying classes within data."
   ]
  },
  {
   "cell_type": "code",
   "execution_count": null,
   "id": "2219b12b-46dd-49d3-bb0e-a0579c65559f",
   "metadata": {},
   "outputs": [],
   "source": []
  },
  {
   "cell_type": "code",
   "execution_count": null,
   "id": "b58b2f88-e8b6-4cda-8362-bb4afbe46a61",
   "metadata": {},
   "outputs": [],
   "source": []
  },
  {
   "cell_type": "markdown",
   "id": "dd3e03a0-cea1-479e-83b2-2a6042bfb731",
   "metadata": {},
   "source": [
    "### Gradients"
   ]
  },
  {
   "cell_type": "markdown",
   "id": "26fc46da-ae95-4c07-ab31-31ed0c7ce627",
   "metadata": {},
   "source": [
    ".background_gradient: a flexible method for highlighting cells based on their, or other, values on a numeric scale."
   ]
  },
  {
   "cell_type": "code",
   "execution_count": null,
   "id": "573bf580-f1dc-4dd8-8694-6f0462b3f81e",
   "metadata": {},
   "outputs": [],
   "source": []
  },
  {
   "cell_type": "code",
   "execution_count": null,
   "id": "32b42d68-dfb2-4eab-a490-475240cf5055",
   "metadata": {},
   "outputs": [],
   "source": []
  },
  {
   "cell_type": "markdown",
   "id": "1455869d-b55e-412a-8953-5e220aa0758d",
   "metadata": {},
   "source": [
    "___\n",
    "## Basic style customization"
   ]
  },
  {
   "cell_type": "markdown",
   "id": "252552c0-ebed-4895-8aef-1d18a51ad9a5",
   "metadata": {},
   "source": [
    "https://pandas.pydata.org/docs/user_guide/style.html#Acting-on-Data"
   ]
  },
  {
   "cell_type": "code",
   "execution_count": null,
   "id": "b7cf8713-5908-4fc5-b095-1ce33b4746b3",
   "metadata": {},
   "outputs": [],
   "source": []
  },
  {
   "cell_type": "markdown",
   "id": "cb9fa8af-0974-4379-a708-9581fc1284bc",
   "metadata": {},
   "source": [
    "### Data"
   ]
  },
  {
   "cell_type": "markdown",
   "id": "f9fb424b-e85a-4d2c-9631-bbfdfb8a26d6",
   "metadata": {},
   "source": [
    "applymap()\n",
    "apply()"
   ]
  },
  {
   "cell_type": "code",
   "execution_count": null,
   "id": "ddf5e399-8e3d-4ba9-b939-3241f1ffd3fe",
   "metadata": {},
   "outputs": [],
   "source": []
  },
  {
   "cell_type": "markdown",
   "id": "f58296b0-f3d1-49b4-99c8-979d482dcd01",
   "metadata": {},
   "source": [
    "### Index and column headers"
   ]
  },
  {
   "cell_type": "markdown",
   "id": "db656bdc-6244-40fd-8e16-556d7f7be20a",
   "metadata": {},
   "source": [
    "applymap_index()\n",
    "apply_index() "
   ]
  },
  {
   "cell_type": "code",
   "execution_count": null,
   "id": "f6a94e72-6efd-4735-8534-6f823c2a9862",
   "metadata": {},
   "outputs": [],
   "source": []
  },
  {
   "cell_type": "markdown",
   "id": "a439ff13-7b20-491d-adc0-31689e433b0c",
   "metadata": {},
   "source": [
    "___\n",
    "## Advanced style customization"
   ]
  },
  {
   "cell_type": "code",
   "execution_count": null,
   "id": "c94d5e17-d74d-490f-ac80-591bbeb18601",
   "metadata": {},
   "outputs": [],
   "source": []
  },
  {
   "cell_type": "code",
   "execution_count": null,
   "id": "e1b88db3-2374-43ff-a5cb-3969245000a1",
   "metadata": {},
   "outputs": [],
   "source": []
  },
  {
   "cell_type": "code",
   "execution_count": null,
   "id": "f36ce37e-0556-428f-8a6d-40e5fce30507",
   "metadata": {},
   "outputs": [],
   "source": []
  },
  {
   "cell_type": "code",
   "execution_count": null,
   "id": "8448bf77-ac56-4b6e-bcf2-f3d66c9ed993",
   "metadata": {},
   "outputs": [],
   "source": []
  },
  {
   "cell_type": "markdown",
   "id": "6dcd3792-9e5e-4378-ac9a-eab810dd60b5",
   "metadata": {},
   "source": [
    "___\n",
    "## Custom styles"
   ]
  },
  {
   "cell_type": "markdown",
   "id": "701d6f84-1e3c-476b-9452-c19ffb161bab",
   "metadata": {},
   "source": [
    "https://pandas.pydata.org/docs/user_guide/style.html#Table-Styles\n",
    "https://pandas.pydata.org/docs/user_guide/style.html#Methods-to-Add-Styles"
   ]
  },
  {
   "cell_type": "code",
   "execution_count": null,
   "id": "29b5cd0b-1856-4914-9379-74ffdbc6aa16",
   "metadata": {},
   "outputs": [],
   "source": []
  },
  {
   "cell_type": "code",
   "execution_count": null,
   "id": "649f0441-890d-4353-99e0-5f16423b9d1c",
   "metadata": {},
   "outputs": [],
   "source": []
  },
  {
   "cell_type": "code",
   "execution_count": null,
   "id": "401742fa-885f-4083-b4c3-1c3b7aba8cca",
   "metadata": {},
   "outputs": [],
   "source": []
  },
  {
   "cell_type": "code",
   "execution_count": null,
   "id": "33277119-2a8f-4e22-86f6-7877469f953d",
   "metadata": {},
   "outputs": [],
   "source": []
  },
  {
   "cell_type": "code",
   "execution_count": null,
   "id": "ad13b81d-cb79-40f9-8bbe-b4046872d771",
   "metadata": {},
   "outputs": [],
   "source": []
  },
  {
   "cell_type": "code",
   "execution_count": null,
   "id": "064e7f28-6885-44a4-8ade-11636f158c06",
   "metadata": {},
   "outputs": [],
   "source": []
  },
  {
   "cell_type": "markdown",
   "id": "ddb1811e-4fbd-4c4e-bf45-2137666c0942",
   "metadata": {},
   "source": [
    "___\n",
    "## Export styled tables"
   ]
  },
  {
   "cell_type": "code",
   "execution_count": null,
   "id": "5985ad12-6586-4c36-9217-8652d44637c2",
   "metadata": {},
   "outputs": [],
   "source": []
  },
  {
   "cell_type": "code",
   "execution_count": null,
   "id": "acd5ab47-f224-49f1-96db-2213027ed391",
   "metadata": {},
   "outputs": [],
   "source": []
  },
  {
   "cell_type": "code",
   "execution_count": null,
   "id": "300c4032-e566-4478-9e6e-e4720452dae3",
   "metadata": {},
   "outputs": [],
   "source": []
  },
  {
   "cell_type": "markdown",
   "id": "5385a691-0c23-4e36-8fa0-8e54862be382",
   "metadata": {},
   "source": [
    "Many other styles that are out of scope of this lesson, like tooltips and captions (https://pandas.pydata.org/docs/user_guide/style.html#Tooltips-and-Captions)\n",
    "\n",
    "and optimization https://pandas.pydata.org/docs/user_guide/style.html#Optimization"
   ]
  },
  {
   "cell_type": "code",
   "execution_count": null,
   "id": "38f3741e-df50-4eac-9848-7873c70fc81f",
   "metadata": {},
   "outputs": [],
   "source": []
  }
 ],
 "metadata": {
  "kernelspec": {
   "display_name": "gpter",
   "language": "python",
   "name": "gpter"
  },
  "language_info": {
   "codemirror_mode": {
    "name": "ipython",
    "version": 3
   },
   "file_extension": ".py",
   "mimetype": "text/x-python",
   "name": "python",
   "nbconvert_exporter": "python",
   "pygments_lexer": "ipython3",
   "version": "3.11.4"
  }
 },
 "nbformat": 4,
 "nbformat_minor": 5
}
