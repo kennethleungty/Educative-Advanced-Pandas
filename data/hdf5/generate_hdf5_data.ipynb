{
 "cells": [
  {
   "cell_type": "markdown",
   "id": "eac98410",
   "metadata": {},
   "source": [
    "## Generate HDF5 Mock Data"
   ]
  },
  {
   "cell_type": "code",
   "execution_count": 2,
   "id": "7629c220",
   "metadata": {},
   "outputs": [],
   "source": [
    "import pandas as pd"
   ]
  },
  {
   "cell_type": "code",
   "execution_count": 2,
   "id": "19fe5fa9",
   "metadata": {},
   "outputs": [
    {
     "name": "stderr",
     "output_type": "stream",
     "text": [
      "C:\\Users\\kenne\\Google Drive\\Data Vault\\GitHub\\Educative-Advanced-Pandas\\adv_pandas_venv\\lib\\site-packages\\pandas\\util\\__init__.py:16: FutureWarning: pandas.util.testing is deprecated. Use the functions in the public API at pandas.testing instead.\n",
      "  import pandas.util.testing\n"
     ]
    }
   ],
   "source": [
    "df1 = pd.util.testing.makeDataFrame()"
   ]
  },
  {
   "cell_type": "code",
   "execution_count": 3,
   "id": "31a878fc",
   "metadata": {
    "scrolled": false
   },
   "outputs": [
    {
     "data": {
      "text/html": [
       "<div>\n",
       "<style scoped>\n",
       "    .dataframe tbody tr th:only-of-type {\n",
       "        vertical-align: middle;\n",
       "    }\n",
       "\n",
       "    .dataframe tbody tr th {\n",
       "        vertical-align: top;\n",
       "    }\n",
       "\n",
       "    .dataframe thead th {\n",
       "        text-align: right;\n",
       "    }\n",
       "</style>\n",
       "<table border=\"1\" class=\"dataframe\">\n",
       "  <thead>\n",
       "    <tr style=\"text-align: right;\">\n",
       "      <th></th>\n",
       "      <th>A</th>\n",
       "      <th>B</th>\n",
       "      <th>C</th>\n",
       "      <th>D</th>\n",
       "    </tr>\n",
       "  </thead>\n",
       "  <tbody>\n",
       "    <tr>\n",
       "      <th>gMQHq2fnCb</th>\n",
       "      <td>1.186074</td>\n",
       "      <td>-1.357741</td>\n",
       "      <td>0.201251</td>\n",
       "      <td>1.479924</td>\n",
       "    </tr>\n",
       "    <tr>\n",
       "      <th>Y26xNpPaqV</th>\n",
       "      <td>-1.981245</td>\n",
       "      <td>-0.527744</td>\n",
       "      <td>-0.506953</td>\n",
       "      <td>1.570476</td>\n",
       "    </tr>\n",
       "    <tr>\n",
       "      <th>lPKTEASOAL</th>\n",
       "      <td>2.733528</td>\n",
       "      <td>-0.152921</td>\n",
       "      <td>-2.199485</td>\n",
       "      <td>0.467001</td>\n",
       "    </tr>\n",
       "    <tr>\n",
       "      <th>jN1vjvYzhI</th>\n",
       "      <td>-0.016582</td>\n",
       "      <td>0.101883</td>\n",
       "      <td>0.729991</td>\n",
       "      <td>0.597424</td>\n",
       "    </tr>\n",
       "    <tr>\n",
       "      <th>2MsUMCpUJO</th>\n",
       "      <td>1.219564</td>\n",
       "      <td>-2.692658</td>\n",
       "      <td>-1.940980</td>\n",
       "      <td>1.046695</td>\n",
       "    </tr>\n",
       "  </tbody>\n",
       "</table>\n",
       "</div>"
      ],
      "text/plain": [
       "                   A         B         C         D\n",
       "gMQHq2fnCb  1.186074 -1.357741  0.201251  1.479924\n",
       "Y26xNpPaqV -1.981245 -0.527744 -0.506953  1.570476\n",
       "lPKTEASOAL  2.733528 -0.152921 -2.199485  0.467001\n",
       "jN1vjvYzhI -0.016582  0.101883  0.729991  0.597424\n",
       "2MsUMCpUJO  1.219564 -2.692658 -1.940980  1.046695"
      ]
     },
     "execution_count": 3,
     "metadata": {},
     "output_type": "execute_result"
    }
   ],
   "source": [
    "df1.head()"
   ]
  },
  {
   "cell_type": "code",
   "execution_count": 4,
   "id": "b8e494c1",
   "metadata": {},
   "outputs": [],
   "source": [
    "df2 = pd.util.testing.makeDataFrame()"
   ]
  },
  {
   "cell_type": "code",
   "execution_count": 5,
   "id": "5fcbe6b1",
   "metadata": {},
   "outputs": [
    {
     "data": {
      "text/html": [
       "<div>\n",
       "<style scoped>\n",
       "    .dataframe tbody tr th:only-of-type {\n",
       "        vertical-align: middle;\n",
       "    }\n",
       "\n",
       "    .dataframe tbody tr th {\n",
       "        vertical-align: top;\n",
       "    }\n",
       "\n",
       "    .dataframe thead th {\n",
       "        text-align: right;\n",
       "    }\n",
       "</style>\n",
       "<table border=\"1\" class=\"dataframe\">\n",
       "  <thead>\n",
       "    <tr style=\"text-align: right;\">\n",
       "      <th></th>\n",
       "      <th>A</th>\n",
       "      <th>B</th>\n",
       "      <th>C</th>\n",
       "      <th>D</th>\n",
       "    </tr>\n",
       "  </thead>\n",
       "  <tbody>\n",
       "    <tr>\n",
       "      <th>PgnwthUEJi</th>\n",
       "      <td>1.232732</td>\n",
       "      <td>-0.187266</td>\n",
       "      <td>-0.756517</td>\n",
       "      <td>1.664979</td>\n",
       "    </tr>\n",
       "    <tr>\n",
       "      <th>7ue55ovN1m</th>\n",
       "      <td>-0.935272</td>\n",
       "      <td>0.217103</td>\n",
       "      <td>0.377266</td>\n",
       "      <td>-0.771104</td>\n",
       "    </tr>\n",
       "    <tr>\n",
       "      <th>DZhupfBOKW</th>\n",
       "      <td>0.661486</td>\n",
       "      <td>-0.738875</td>\n",
       "      <td>2.652743</td>\n",
       "      <td>0.427305</td>\n",
       "    </tr>\n",
       "    <tr>\n",
       "      <th>KqhCSv1gSe</th>\n",
       "      <td>-0.803123</td>\n",
       "      <td>-1.887771</td>\n",
       "      <td>0.845601</td>\n",
       "      <td>-1.126714</td>\n",
       "    </tr>\n",
       "    <tr>\n",
       "      <th>8AAkXCBFhq</th>\n",
       "      <td>-1.337643</td>\n",
       "      <td>-1.084606</td>\n",
       "      <td>0.448301</td>\n",
       "      <td>0.277181</td>\n",
       "    </tr>\n",
       "  </tbody>\n",
       "</table>\n",
       "</div>"
      ],
      "text/plain": [
       "                   A         B         C         D\n",
       "PgnwthUEJi  1.232732 -0.187266 -0.756517  1.664979\n",
       "7ue55ovN1m -0.935272  0.217103  0.377266 -0.771104\n",
       "DZhupfBOKW  0.661486 -0.738875  2.652743  0.427305\n",
       "KqhCSv1gSe -0.803123 -1.887771  0.845601 -1.126714\n",
       "8AAkXCBFhq -1.337643 -1.084606  0.448301  0.277181"
      ]
     },
     "execution_count": 5,
     "metadata": {},
     "output_type": "execute_result"
    }
   ],
   "source": [
    "df2.head()"
   ]
  },
  {
   "cell_type": "code",
   "execution_count": 4,
   "id": "8cf7b240",
   "metadata": {},
   "outputs": [],
   "source": [
    "h5_file_name = 'dummy_hdf5_store.h5'"
   ]
  },
  {
   "cell_type": "code",
   "execution_count": 8,
   "id": "47e4253b",
   "metadata": {},
   "outputs": [],
   "source": [
    "store['part_1'] = df1"
   ]
  },
  {
   "cell_type": "code",
   "execution_count": 9,
   "id": "1f359b1f",
   "metadata": {},
   "outputs": [],
   "source": [
    "store['part_2'] = df2"
   ]
  },
  {
   "cell_type": "code",
   "execution_count": 10,
   "id": "7d962b42",
   "metadata": {},
   "outputs": [
    {
     "data": {
      "text/html": [
       "<div>\n",
       "<style scoped>\n",
       "    .dataframe tbody tr th:only-of-type {\n",
       "        vertical-align: middle;\n",
       "    }\n",
       "\n",
       "    .dataframe tbody tr th {\n",
       "        vertical-align: top;\n",
       "    }\n",
       "\n",
       "    .dataframe thead th {\n",
       "        text-align: right;\n",
       "    }\n",
       "</style>\n",
       "<table border=\"1\" class=\"dataframe\">\n",
       "  <thead>\n",
       "    <tr style=\"text-align: right;\">\n",
       "      <th></th>\n",
       "      <th>A</th>\n",
       "      <th>B</th>\n",
       "      <th>C</th>\n",
       "      <th>D</th>\n",
       "    </tr>\n",
       "  </thead>\n",
       "  <tbody>\n",
       "    <tr>\n",
       "      <th>gMQHq2fnCb</th>\n",
       "      <td>1.186074</td>\n",
       "      <td>-1.357741</td>\n",
       "      <td>0.201251</td>\n",
       "      <td>1.479924</td>\n",
       "    </tr>\n",
       "    <tr>\n",
       "      <th>Y26xNpPaqV</th>\n",
       "      <td>-1.981245</td>\n",
       "      <td>-0.527744</td>\n",
       "      <td>-0.506953</td>\n",
       "      <td>1.570476</td>\n",
       "    </tr>\n",
       "    <tr>\n",
       "      <th>lPKTEASOAL</th>\n",
       "      <td>2.733528</td>\n",
       "      <td>-0.152921</td>\n",
       "      <td>-2.199485</td>\n",
       "      <td>0.467001</td>\n",
       "    </tr>\n",
       "    <tr>\n",
       "      <th>jN1vjvYzhI</th>\n",
       "      <td>-0.016582</td>\n",
       "      <td>0.101883</td>\n",
       "      <td>0.729991</td>\n",
       "      <td>0.597424</td>\n",
       "    </tr>\n",
       "    <tr>\n",
       "      <th>2MsUMCpUJO</th>\n",
       "      <td>1.219564</td>\n",
       "      <td>-2.692658</td>\n",
       "      <td>-1.940980</td>\n",
       "      <td>1.046695</td>\n",
       "    </tr>\n",
       "  </tbody>\n",
       "</table>\n",
       "</div>"
      ],
      "text/plain": [
       "                   A         B         C         D\n",
       "gMQHq2fnCb  1.186074 -1.357741  0.201251  1.479924\n",
       "Y26xNpPaqV -1.981245 -0.527744 -0.506953  1.570476\n",
       "lPKTEASOAL  2.733528 -0.152921 -2.199485  0.467001\n",
       "jN1vjvYzhI -0.016582  0.101883  0.729991  0.597424\n",
       "2MsUMCpUJO  1.219564 -2.692658 -1.940980  1.046695"
      ]
     },
     "execution_count": 10,
     "metadata": {},
     "output_type": "execute_result"
    }
   ],
   "source": [
    "store['part_1'].head()"
   ]
  },
  {
   "cell_type": "code",
   "execution_count": 11,
   "id": "49d65cd2",
   "metadata": {},
   "outputs": [],
   "source": [
    "store.close()"
   ]
  },
  {
   "cell_type": "markdown",
   "id": "d706d841",
   "metadata": {},
   "source": [
    "___\n",
    "## View H5 file structure"
   ]
  },
  {
   "cell_type": "code",
   "execution_count": 12,
   "id": "99128ae5",
   "metadata": {},
   "outputs": [],
   "source": [
    "import nexusformat.nexus as nx"
   ]
  },
  {
   "cell_type": "code",
   "execution_count": 13,
   "id": "ab6532db",
   "metadata": {},
   "outputs": [],
   "source": [
    "f = nx.nxload(h5_file_name)"
   ]
  },
  {
   "cell_type": "code",
   "execution_count": 14,
   "id": "11b2f0b6",
   "metadata": {},
   "outputs": [
    {
     "name": "stdout",
     "output_type": "stream",
     "text": [
      "root:NXroot\n",
      "  @CLASS = 'GROUP'\n",
      "  @PYTABLES_FORMAT_VERSION = '2.1'\n",
      "  @TITLE = 'Empty(dtype=dtype('S1'))'\n",
      "  @VERSION = '1.0'\n",
      "  part_1:NXgroup\n",
      "    @CLASS = 'GROUP'\n",
      "    @TITLE = 'Empty(dtype=dtype('S1'))'\n",
      "    @VERSION = '1.0'\n",
      "    @axis0_variety = 'regular'\n",
      "    @axis1_variety = 'regular'\n",
      "    @block0_items_variety = 'regular'\n",
      "    @encoding = 'UTF-8'\n",
      "    @errors = 'strict'\n",
      "    @nblocks = 1\n",
      "    @ndim = 2\n",
      "    @pandas_type = 'frame'\n",
      "    @pandas_version = '0.15.2'\n",
      "    axis0 = ['A', 'B', 'C', 'D']\n",
      "      @CLASS = 'ARRAY'\n",
      "      @FLAVOR = 'numpy'\n",
      "      @TITLE = 'Empty(dtype=dtype('S1'))'\n",
      "      @VERSION = '2.4'\n",
      "      @kind = 'string'\n",
      "      @name = 'N.'\n",
      "      @transposed = 1\n",
      "    axis1 = ['gMQHq2fnCb', 'Y26xNpPaqV', 'lPKTEASOAL', 'jN1vjvYzhI',...\n",
      "      @CLASS = 'ARRAY'\n",
      "      @FLAVOR = 'numpy'\n",
      "      @TITLE = 'Empty(dtype=dtype('S1'))'\n",
      "      @VERSION = '2.4'\n",
      "      @kind = 'string'\n",
      "      @name = 'N.'\n",
      "      @transposed = 1\n",
      "    block0_items = ['A', 'B', 'C', 'D']\n",
      "      @CLASS = 'ARRAY'\n",
      "      @FLAVOR = 'numpy'\n",
      "      @TITLE = 'Empty(dtype=dtype('S1'))'\n",
      "      @VERSION = '2.4'\n",
      "      @kind = 'string'\n",
      "      @name = 'N.'\n",
      "      @transposed = 1\n",
      "    block0_values = float64(30x4)\n",
      "      @CLASS = 'ARRAY'\n",
      "      @FLAVOR = 'numpy'\n",
      "      @TITLE = 'Empty(dtype=dtype('S1'))'\n",
      "      @VERSION = '2.4'\n",
      "      @transposed = 1\n",
      "  part_2:NXgroup\n",
      "    @CLASS = 'GROUP'\n",
      "    @TITLE = 'Empty(dtype=dtype('S1'))'\n",
      "    @VERSION = '1.0'\n",
      "    @axis0_variety = 'regular'\n",
      "    @axis1_variety = 'regular'\n",
      "    @block0_items_variety = 'regular'\n",
      "    @encoding = 'UTF-8'\n",
      "    @errors = 'strict'\n",
      "    @nblocks = 1\n",
      "    @ndim = 2\n",
      "    @pandas_type = 'frame'\n",
      "    @pandas_version = '0.15.2'\n",
      "    axis0 = ['A', 'B', 'C', 'D']\n",
      "      @CLASS = 'ARRAY'\n",
      "      @FLAVOR = 'numpy'\n",
      "      @TITLE = 'Empty(dtype=dtype('S1'))'\n",
      "      @VERSION = '2.4'\n",
      "      @kind = 'string'\n",
      "      @name = 'N.'\n",
      "      @transposed = 1\n",
      "    axis1 = ['PgnwthUEJi', '7ue55ovN1m', 'DZhupfBOKW', 'KqhCSv1gSe',...\n",
      "      @CLASS = 'ARRAY'\n",
      "      @FLAVOR = 'numpy'\n",
      "      @TITLE = 'Empty(dtype=dtype('S1'))'\n",
      "      @VERSION = '2.4'\n",
      "      @kind = 'string'\n",
      "      @name = 'N.'\n",
      "      @transposed = 1\n",
      "    block0_items = ['A', 'B', 'C', 'D']\n",
      "      @CLASS = 'ARRAY'\n",
      "      @FLAVOR = 'numpy'\n",
      "      @TITLE = 'Empty(dtype=dtype('S1'))'\n",
      "      @VERSION = '2.4'\n",
      "      @kind = 'string'\n",
      "      @name = 'N.'\n",
      "      @transposed = 1\n",
      "    block0_values = float64(30x4)\n",
      "      @CLASS = 'ARRAY'\n",
      "      @FLAVOR = 'numpy'\n",
      "      @TITLE = 'Empty(dtype=dtype('S1'))'\n",
      "      @VERSION = '2.4'\n",
      "      @transposed = 1\n"
     ]
    }
   ],
   "source": [
    "print(f.tree)"
   ]
  }
 ],
 "metadata": {
  "kernelspec": {
   "display_name": "adv-pandas_venv",
   "language": "python",
   "name": "adv_pandas_venv"
  },
  "language_info": {
   "codemirror_mode": {
    "name": "ipython",
    "version": 3
   },
   "file_extension": ".py",
   "mimetype": "text/x-python",
   "name": "python",
   "nbconvert_exporter": "python",
   "pygments_lexer": "ipython3",
   "version": "3.10.4"
  }
 },
 "nbformat": 4,
 "nbformat_minor": 5
}
