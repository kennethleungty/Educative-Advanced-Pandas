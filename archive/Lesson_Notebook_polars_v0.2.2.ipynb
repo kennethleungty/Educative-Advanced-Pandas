{
 "cells": [
  {
   "cell_type": "markdown",
   "id": "fd283992-b38e-49b5-92e0-84330745f9c3",
   "metadata": {},
   "source": [
    "# Advanced pandas - Going Beyond the Basics\n",
    "\n",
    "## polars\n",
    "___\n",
    "\n",
    "### Table of Contents\n",
    "1. [Import dependencies](#section1)\n",
    "2. [Read data into polars](#section2)\n",
    "3. [Expressions and operations](#section3)  \n",
    "    3.1 [select()](#section3.1)  \n",
    "    3.2 [with_columns()](#section3.2)  \n",
    "    3.3 [filter()](#section3.3)  \n",
    "    3.4 [groupby()](#section3.4)  \n",
    "    3.5 [Chaining expressions](#section3.5)  \n",
    "4. [Joining and Concatenating DataFrames](#section4)"
   ]
  },
  {
   "cell_type": "markdown",
   "id": "2c795658-ab3c-450f-8fcc-73a3614dd687",
   "metadata": {},
   "source": [
    "___\n",
    "<a id='section1'></a>\n",
    "# (1) Import dependencies"
   ]
  },
  {
   "cell_type": "code",
   "execution_count": 1,
   "id": "a9bfaea1",
   "metadata": {},
   "outputs": [],
   "source": [
    "# Install dependencies (if not already done so)\n",
    "# !pip install pandas==2.0.3\n",
    "# !pip install polars==0.18.7"
   ]
  },
  {
   "cell_type": "code",
   "execution_count": 1,
   "id": "ea1df48b-45b1-4eae-92b5-fcec359b530d",
   "metadata": {},
   "outputs": [],
   "source": [
    "import numpy as np\n",
    "import pandas as pd\n",
    "import polars as pl\n",
    "from datetime import datetime"
   ]
  },
  {
   "cell_type": "markdown",
   "id": "2f75c7ff",
   "metadata": {},
   "source": [
    "___\n",
    "<a id='section2'></a>\n",
    "# (2) Read data into `polars`\n",
    "- Data Source: https://archive.ics.uci.edu/dataset/352/online+retail ((CC BY 4.0) license)"
   ]
  },
  {
   "cell_type": "markdown",
   "id": "ea67636d",
   "metadata": {},
   "source": [
    "`polars` supports reading and writing to all common file formats (e.g. CSV, JSON, Parquet), cloud storage (S3, Azure Blob, BigQuery) and databases (e.g. PostgreSQL, MySQL etc.).\n",
    "\n",
    "In this example, we will use the fast CSV reading function of `polars`, as shown below:"
   ]
  },
  {
   "cell_type": "code",
   "execution_count": 32,
   "id": "072149af",
   "metadata": {},
   "outputs": [
    {
     "data": {
      "text/html": [
       "<div><style>\n",
       ".dataframe > thead > tr > th,\n",
       ".dataframe > tbody > tr > td {\n",
       "  text-align: right;\n",
       "}\n",
       "</style>\n",
       "<small>shape: (5, 8)</small><table border=\"1\" class=\"dataframe\"><thead><tr><th>InvoiceNo</th><th>StockCode</th><th>Description</th><th>Quantity</th><th>InvoiceDate</th><th>UnitPrice</th><th>CustomerID</th><th>Country</th></tr><tr><td>i64</td><td>str</td><td>str</td><td>i64</td><td>str</td><td>f64</td><td>i64</td><td>str</td></tr></thead><tbody><tr><td>536365</td><td>&quot;85123A&quot;</td><td>&quot;WHITE HANGING …</td><td>6</td><td>&quot;1/12/2010 8:26…</td><td>2.55</td><td>17850</td><td>&quot;United Kingdom…</td></tr><tr><td>536365</td><td>&quot;71053&quot;</td><td>&quot;WHITE METAL LA…</td><td>6</td><td>&quot;1/12/2010 8:26…</td><td>3.39</td><td>17850</td><td>&quot;United Kingdom…</td></tr><tr><td>536365</td><td>&quot;84406B&quot;</td><td>&quot;CREAM CUPID HE…</td><td>8</td><td>&quot;1/12/2010 8:26…</td><td>2.75</td><td>17850</td><td>&quot;United Kingdom…</td></tr><tr><td>536365</td><td>&quot;84029G&quot;</td><td>&quot;KNITTED UNION …</td><td>6</td><td>&quot;1/12/2010 8:26…</td><td>3.39</td><td>17850</td><td>&quot;United Kingdom…</td></tr><tr><td>536365</td><td>&quot;84029E&quot;</td><td>&quot;RED WOOLLY HOT…</td><td>6</td><td>&quot;1/12/2010 8:26…</td><td>3.39</td><td>17850</td><td>&quot;United Kingdom…</td></tr></tbody></table></div>"
      ],
      "text/plain": [
       "shape: (5, 8)\n",
       "┌───────────┬───────────┬────────────────────────┬──────────┬────────────────┬───────────┬────────────┬────────────────┐\n",
       "│ InvoiceNo ┆ StockCode ┆ Description            ┆ Quantity ┆ InvoiceDate    ┆ UnitPrice ┆ CustomerID ┆ Country        │\n",
       "│ ---       ┆ ---       ┆ ---                    ┆ ---      ┆ ---            ┆ ---       ┆ ---        ┆ ---            │\n",
       "│ i64       ┆ str       ┆ str                    ┆ i64      ┆ str            ┆ f64       ┆ i64        ┆ str            │\n",
       "╞═══════════╪═══════════╪════════════════════════╪══════════╪════════════════╪═══════════╪════════════╪════════════════╡\n",
       "│ 536365    ┆ 85123A    ┆ WHITE HANGING HEART    ┆ 6        ┆ 1/12/2010 8:26 ┆ 2.55      ┆ 17850      ┆ United Kingdom │\n",
       "│           ┆           ┆ T-LIGHT HOLD…          ┆          ┆                ┆           ┆            ┆                │\n",
       "│ 536365    ┆ 71053     ┆ WHITE METAL LANTERN    ┆ 6        ┆ 1/12/2010 8:26 ┆ 3.39      ┆ 17850      ┆ United Kingdom │\n",
       "│ 536365    ┆ 84406B    ┆ CREAM CUPID HEARTS     ┆ 8        ┆ 1/12/2010 8:26 ┆ 2.75      ┆ 17850      ┆ United Kingdom │\n",
       "│           ┆           ┆ COAT HANGER            ┆          ┆                ┆           ┆            ┆                │\n",
       "│ 536365    ┆ 84029G    ┆ KNITTED UNION FLAG HOT ┆ 6        ┆ 1/12/2010 8:26 ┆ 3.39      ┆ 17850      ┆ United Kingdom │\n",
       "│           ┆           ┆ WATER BOT…             ┆          ┆                ┆           ┆            ┆                │\n",
       "│ 536365    ┆ 84029E    ┆ RED WOOLLY HOTTIE      ┆ 6        ┆ 1/12/2010 8:26 ┆ 3.39      ┆ 17850      ┆ United Kingdom │\n",
       "│           ┆           ┆ WHITE HEART.           ┆          ┆                ┆           ┆            ┆                │\n",
       "└───────────┴───────────┴────────────────────────┴──────────┴────────────────┴───────────┴────────────┴────────────────┘"
      ]
     },
     "execution_count": 32,
     "metadata": {},
     "output_type": "execute_result"
    }
   ],
   "source": [
    "# Read CSV in polars\n",
    "df = pl.read_csv('https://raw.githubusercontent.com/kennethleungty/Educative-Advanced-Pandas/main/data/csv/online_retail_dataset.csv',\n",
    "                 encoding='utf-8', # Ensure values are encoded appropriately\n",
    "                 ignore_errors=True # Hide errors first since dtypes not specified\n",
    "                )\n",
    "\n",
    "# View output\n",
    "df.head()"
   ]
  },
  {
   "cell_type": "markdown",
   "id": "21af7ac5",
   "metadata": {},
   "source": [
    "`polars` has a strict schema, meaning that data types should be known before running the query. In the above case, because we did not specify the `dtypes`, the data type inference was done automatically and the output DataFrame indicates the inferred `dtype` for each column.\n",
    "\n",
    "To specify the data types appropriately for `polars` to work optimally, we can use the `dtypes` and `columns` parameters, as illustrated below:"
   ]
  },
  {
   "cell_type": "code",
   "execution_count": 3,
   "id": "63b165ec",
   "metadata": {
    "scrolled": true
   },
   "outputs": [
    {
     "data": {
      "text/html": [
       "<div><style>\n",
       ".dataframe > thead > tr > th,\n",
       ".dataframe > tbody > tr > td {\n",
       "  text-align: right;\n",
       "}\n",
       "</style>\n",
       "<small>shape: (5, 8)</small><table border=\"1\" class=\"dataframe\"><thead><tr><th>InvoiceNo</th><th>StockCode</th><th>Description</th><th>Quantity</th><th>InvoiceDate</th><th>UnitPrice</th><th>CustomerID</th><th>Country</th></tr><tr><td>str</td><td>str</td><td>str</td><td>i64</td><td>datetime[μs]</td><td>f64</td><td>i64</td><td>cat</td></tr></thead><tbody><tr><td>&quot;536365&quot;</td><td>&quot;85123A&quot;</td><td>&quot;WHITE HANGING …</td><td>6</td><td>null</td><td>2.55</td><td>17850</td><td>&quot;United Kingdom…</td></tr><tr><td>&quot;536365&quot;</td><td>&quot;71053&quot;</td><td>&quot;WHITE METAL LA…</td><td>6</td><td>null</td><td>3.39</td><td>17850</td><td>&quot;United Kingdom…</td></tr><tr><td>&quot;536365&quot;</td><td>&quot;84406B&quot;</td><td>&quot;CREAM CUPID HE…</td><td>8</td><td>null</td><td>2.75</td><td>17850</td><td>&quot;United Kingdom…</td></tr><tr><td>&quot;536365&quot;</td><td>&quot;84029G&quot;</td><td>&quot;KNITTED UNION …</td><td>6</td><td>null</td><td>3.39</td><td>17850</td><td>&quot;United Kingdom…</td></tr><tr><td>&quot;536365&quot;</td><td>&quot;84029E&quot;</td><td>&quot;RED WOOLLY HOT…</td><td>6</td><td>null</td><td>3.39</td><td>17850</td><td>&quot;United Kingdom…</td></tr></tbody></table></div>"
      ],
      "text/plain": [
       "shape: (5, 8)\n",
       "┌───────────┬───────────┬──────────────────────────┬──────────┬──────────────┬───────────┬────────────┬────────────────┐\n",
       "│ InvoiceNo ┆ StockCode ┆ Description              ┆ Quantity ┆ InvoiceDate  ┆ UnitPrice ┆ CustomerID ┆ Country        │\n",
       "│ ---       ┆ ---       ┆ ---                      ┆ ---      ┆ ---          ┆ ---       ┆ ---        ┆ ---            │\n",
       "│ str       ┆ str       ┆ str                      ┆ i64      ┆ datetime[μs] ┆ f64       ┆ i64        ┆ cat            │\n",
       "╞═══════════╪═══════════╪══════════════════════════╪══════════╪══════════════╪═══════════╪════════════╪════════════════╡\n",
       "│ 536365    ┆ 85123A    ┆ WHITE HANGING HEART      ┆ 6        ┆ null         ┆ 2.55      ┆ 17850      ┆ United Kingdom │\n",
       "│           ┆           ┆ T-LIGHT HOLD…            ┆          ┆              ┆           ┆            ┆                │\n",
       "│ 536365    ┆ 71053     ┆ WHITE METAL LANTERN      ┆ 6        ┆ null         ┆ 3.39      ┆ 17850      ┆ United Kingdom │\n",
       "│ 536365    ┆ 84406B    ┆ CREAM CUPID HEARTS COAT  ┆ 8        ┆ null         ┆ 2.75      ┆ 17850      ┆ United Kingdom │\n",
       "│           ┆           ┆ HANGER                   ┆          ┆              ┆           ┆            ┆                │\n",
       "│ 536365    ┆ 84029G    ┆ KNITTED UNION FLAG HOT   ┆ 6        ┆ null         ┆ 3.39      ┆ 17850      ┆ United Kingdom │\n",
       "│           ┆           ┆ WATER BOT…               ┆          ┆              ┆           ┆            ┆                │\n",
       "│ 536365    ┆ 84029E    ┆ RED WOOLLY HOTTIE WHITE  ┆ 6        ┆ null         ┆ 3.39      ┆ 17850      ┆ United Kingdom │\n",
       "│           ┆           ┆ HEART.                   ┆          ┆              ┆           ┆            ┆                │\n",
       "└───────────┴───────────┴──────────────────────────┴──────────┴──────────────┴───────────┴────────────┴────────────────┘"
      ]
     },
     "execution_count": 3,
     "metadata": {},
     "output_type": "execute_result"
    }
   ],
   "source": [
    "# Specify column names\n",
    "columns = [\"InvoiceNo\", \"StockCode\", \"Description\", \"Quantity\", \"InvoiceDate\", \n",
    "           \"UnitPrice\", \"CustomerID\", \"Country\"]\n",
    "\n",
    "# Define list of data types in the same sequence as the columns\n",
    "dtypes_list = [pl.Utf8, pl.Utf8, pl.Utf8, pl.Int64, pl.Datetime,\n",
    "               pl.Float64, pl.Int64, pl.Categorical]\n",
    "\n",
    "# Read CSV in polars with dtypes specified\n",
    "df = pl.read_csv('https://raw.githubusercontent.com/kennethleungty/Educative-Advanced-Pandas/main/data/csv/online_retail_dataset.csv',\n",
    "                 encoding='utf-8', # Ensure values are encoded appropriately\n",
    "                 dtypes=dtypes_list,\n",
    "                 columns=columns\n",
    "                 )\n",
    "\n",
    "# View output\n",
    "df.head()"
   ]
  },
  {
   "cell_type": "markdown",
   "id": "d2692ea4",
   "metadata": {},
   "source": [
    "> **Note**: `pl.Utf8` represents the UTF-8 encoded string type in `polars`.The complete list of `polars` data types can be found in the section below on the Educative lesson page."
   ]
  },
  {
   "cell_type": "markdown",
   "id": "7b8ac5a1",
   "metadata": {},
   "source": [
    "If we do not wish to read the entire large dataset directly, we can do scanning with `scan_csv()` instead. `scan_csv()` delays the parsing of the dataset, and instead lazily reads it and returns a holder known as a `LazyFrame` (rather than a DataFrame). A `LazyFrame` is a representation of a lazy computation graph/query against a DataFrame. \n",
    "\n",
    "The purpose of this is to let `polars` generate an optimal execution plan before actually executing the transformation, so that `polars` can skip over certain columns if they are not needed in the computation. The actual computation takes place when the `collect()` is called, as shown below:"
   ]
  },
  {
   "cell_type": "code",
   "execution_count": 26,
   "id": "5a317b31",
   "metadata": {},
   "outputs": [
    {
     "data": {
      "text/plain": [
       "polars.lazyframe.frame.LazyFrame"
      ]
     },
     "execution_count": 26,
     "metadata": {},
     "output_type": "execute_result"
    }
   ],
   "source": [
    "lazy_df = pl.scan_csv('data/online_retail_dataset.csv', # Lazy read must be from local file, not external URL\n",
    "                      encoding='utf8',\n",
    "                      ignore_errors = True)\n",
    "type(lazy_df)"
   ]
  },
  {
   "cell_type": "code",
   "execution_count": 27,
   "id": "06cbc6ec",
   "metadata": {},
   "outputs": [
    {
     "data": {
      "text/html": [
       "<div><style>\n",
       ".dataframe > thead > tr > th,\n",
       ".dataframe > tbody > tr > td {\n",
       "  text-align: right;\n",
       "}\n",
       "</style>\n",
       "<small>shape: (5, 8)</small><table border=\"1\" class=\"dataframe\"><thead><tr><th>InvoiceNo</th><th>StockCode</th><th>Description</th><th>Quantity</th><th>InvoiceDate</th><th>UnitPrice</th><th>CustomerID</th><th>Country</th></tr><tr><td>i64</td><td>str</td><td>str</td><td>i64</td><td>str</td><td>f64</td><td>i64</td><td>str</td></tr></thead><tbody><tr><td>536365</td><td>&quot;85123A&quot;</td><td>&quot;WHITE HANGING …</td><td>6</td><td>&quot;1/12/2010 8:26…</td><td>2.55</td><td>17850</td><td>&quot;United Kingdom…</td></tr><tr><td>536365</td><td>&quot;71053&quot;</td><td>&quot;WHITE METAL LA…</td><td>6</td><td>&quot;1/12/2010 8:26…</td><td>3.39</td><td>17850</td><td>&quot;United Kingdom…</td></tr><tr><td>536365</td><td>&quot;84406B&quot;</td><td>&quot;CREAM CUPID HE…</td><td>8</td><td>&quot;1/12/2010 8:26…</td><td>2.75</td><td>17850</td><td>&quot;United Kingdom…</td></tr><tr><td>536365</td><td>&quot;84029G&quot;</td><td>&quot;KNITTED UNION …</td><td>6</td><td>&quot;1/12/2010 8:26…</td><td>3.39</td><td>17850</td><td>&quot;United Kingdom…</td></tr><tr><td>536365</td><td>&quot;84029E&quot;</td><td>&quot;RED WOOLLY HOT…</td><td>6</td><td>&quot;1/12/2010 8:26…</td><td>3.39</td><td>17850</td><td>&quot;United Kingdom…</td></tr></tbody></table></div>"
      ],
      "text/plain": [
       "shape: (5, 8)\n",
       "┌───────────┬───────────┬────────────────────────┬──────────┬────────────────┬───────────┬────────────┬────────────────┐\n",
       "│ InvoiceNo ┆ StockCode ┆ Description            ┆ Quantity ┆ InvoiceDate    ┆ UnitPrice ┆ CustomerID ┆ Country        │\n",
       "│ ---       ┆ ---       ┆ ---                    ┆ ---      ┆ ---            ┆ ---       ┆ ---        ┆ ---            │\n",
       "│ i64       ┆ str       ┆ str                    ┆ i64      ┆ str            ┆ f64       ┆ i64        ┆ str            │\n",
       "╞═══════════╪═══════════╪════════════════════════╪══════════╪════════════════╪═══════════╪════════════╪════════════════╡\n",
       "│ 536365    ┆ 85123A    ┆ WHITE HANGING HEART    ┆ 6        ┆ 1/12/2010 8:26 ┆ 2.55      ┆ 17850      ┆ United Kingdom │\n",
       "│           ┆           ┆ T-LIGHT HOLD…          ┆          ┆                ┆           ┆            ┆                │\n",
       "│ 536365    ┆ 71053     ┆ WHITE METAL LANTERN    ┆ 6        ┆ 1/12/2010 8:26 ┆ 3.39      ┆ 17850      ┆ United Kingdom │\n",
       "│ 536365    ┆ 84406B    ┆ CREAM CUPID HEARTS     ┆ 8        ┆ 1/12/2010 8:26 ┆ 2.75      ┆ 17850      ┆ United Kingdom │\n",
       "│           ┆           ┆ COAT HANGER            ┆          ┆                ┆           ┆            ┆                │\n",
       "│ 536365    ┆ 84029G    ┆ KNITTED UNION FLAG HOT ┆ 6        ┆ 1/12/2010 8:26 ┆ 3.39      ┆ 17850      ┆ United Kingdom │\n",
       "│           ┆           ┆ WATER BOT…             ┆          ┆                ┆           ┆            ┆                │\n",
       "│ 536365    ┆ 84029E    ┆ RED WOOLLY HOTTIE      ┆ 6        ┆ 1/12/2010 8:26 ┆ 3.39      ┆ 17850      ┆ United Kingdom │\n",
       "│           ┆           ┆ WHITE HEART.           ┆          ┆                ┆           ┆            ┆                │\n",
       "└───────────┴───────────┴────────────────────────┴──────────┴────────────────┴───────────┴────────────┴────────────────┘"
      ]
     },
     "execution_count": 27,
     "metadata": {},
     "output_type": "execute_result"
    }
   ],
   "source": [
    "# Retrieve data when run collect()\n",
    "df = lazy_df.collect(streaming=True)\n",
    "\n",
    "# View output\n",
    "df.head()"
   ]
  },
  {
   "cell_type": "markdown",
   "id": "ddf133e4",
   "metadata": {},
   "source": [
    "Lazy loading with `scan_csv()` is as opposed to the eager loading with `read_csv()` we use in `pandas`."
   ]
  },
  {
   "cell_type": "markdown",
   "id": "01e43856",
   "metadata": {},
   "source": [
    "> **Note**: An additional benefit of lazy evaluation is that it allows queries to be executed in a streaming manner. Instead of processing the data all-at-once, `polars` can execute the query in batches so that we can process datasets that are larger-than-memory. To tell `polars` we want to execute a query in streaming mode, we pass the `streaming=True` argument as shown above."
   ]
  },
  {
   "cell_type": "markdown",
   "id": "237016b2",
   "metadata": {},
   "source": [
    "> **Note**: One caveat about streaming is that it does not work for all operations (although it does for core operations like filter, groupby and join). If streaming is not available for some operations, `polars` will default to non-streaming and we may run out of memory with a large dataset."
   ]
  },
  {
   "cell_type": "markdown",
   "id": "ab28083e",
   "metadata": {},
   "source": [
    "For debugging purposes, sometimes it is useful to just return a few rows to examine the output. We can use the `fetch()` method to return the first n rows, as shown below:"
   ]
  },
  {
   "cell_type": "code",
   "execution_count": 6,
   "id": "d2de5a5a",
   "metadata": {},
   "outputs": [
    {
     "data": {
      "text/html": [
       "<div><style>\n",
       ".dataframe > thead > tr > th,\n",
       ".dataframe > tbody > tr > td {\n",
       "  text-align: right;\n",
       "}\n",
       "</style>\n",
       "<small>shape: (3, 8)</small><table border=\"1\" class=\"dataframe\"><thead><tr><th>InvoiceNo</th><th>StockCode</th><th>Description</th><th>Quantity</th><th>InvoiceDate</th><th>UnitPrice</th><th>CustomerID</th><th>Country</th></tr><tr><td>i64</td><td>str</td><td>str</td><td>i64</td><td>str</td><td>f64</td><td>i64</td><td>str</td></tr></thead><tbody><tr><td>536365</td><td>&quot;85123A&quot;</td><td>&quot;WHITE HANGING …</td><td>6</td><td>&quot;1/12/2010 8:26…</td><td>2.55</td><td>17850</td><td>&quot;United Kingdom…</td></tr><tr><td>536365</td><td>&quot;71053&quot;</td><td>&quot;WHITE METAL LA…</td><td>6</td><td>&quot;1/12/2010 8:26…</td><td>3.39</td><td>17850</td><td>&quot;United Kingdom…</td></tr><tr><td>536365</td><td>&quot;84406B&quot;</td><td>&quot;CREAM CUPID HE…</td><td>8</td><td>&quot;1/12/2010 8:26…</td><td>2.75</td><td>17850</td><td>&quot;United Kingdom…</td></tr></tbody></table></div>"
      ],
      "text/plain": [
       "shape: (3, 8)\n",
       "┌───────────┬───────────┬─────────────────────┬──────────┬────────────────┬───────────┬────────────┬────────────────┐\n",
       "│ InvoiceNo ┆ StockCode ┆ Description         ┆ Quantity ┆ InvoiceDate    ┆ UnitPrice ┆ CustomerID ┆ Country        │\n",
       "│ ---       ┆ ---       ┆ ---                 ┆ ---      ┆ ---            ┆ ---       ┆ ---        ┆ ---            │\n",
       "│ i64       ┆ str       ┆ str                 ┆ i64      ┆ str            ┆ f64       ┆ i64        ┆ str            │\n",
       "╞═══════════╪═══════════╪═════════════════════╪══════════╪════════════════╪═══════════╪════════════╪════════════════╡\n",
       "│ 536365    ┆ 85123A    ┆ WHITE HANGING HEART ┆ 6        ┆ 1/12/2010 8:26 ┆ 2.55      ┆ 17850      ┆ United Kingdom │\n",
       "│           ┆           ┆ T-LIGHT HOLD…       ┆          ┆                ┆           ┆            ┆                │\n",
       "│ 536365    ┆ 71053     ┆ WHITE METAL LANTERN ┆ 6        ┆ 1/12/2010 8:26 ┆ 3.39      ┆ 17850      ┆ United Kingdom │\n",
       "│ 536365    ┆ 84406B    ┆ CREAM CUPID HEARTS  ┆ 8        ┆ 1/12/2010 8:26 ┆ 2.75      ┆ 17850      ┆ United Kingdom │\n",
       "│           ┆           ┆ COAT HANGER         ┆          ┆                ┆           ┆            ┆                │\n",
       "└───────────┴───────────┴─────────────────────┴──────────┴────────────────┴───────────┴────────────┴────────────────┘"
      ]
     },
     "execution_count": 6,
     "metadata": {},
     "output_type": "execute_result"
    }
   ],
   "source": [
    "lazy_df.fetch(3)"
   ]
  },
  {
   "cell_type": "markdown",
   "id": "4784e272",
   "metadata": {},
   "source": [
    "> **Note**: To showcase the lazy evaluation capabilities of `polars`, we will load the dataset locally for the subsequent examples, instead of retrieving it from the GitHub repo link."
   ]
  },
  {
   "cell_type": "markdown",
   "id": "de595719",
   "metadata": {},
   "source": [
    "___\n",
    "<a id='section3'></a>\n",
    "# (3) Expressions and operations"
   ]
  },
  {
   "cell_type": "markdown",
   "id": "ff870c95",
   "metadata": {},
   "source": [
    "`polars` has a powerful concept called **expressions**, and it is central to its fast performance. Expressions are at the core of many data science operations as they are used to represent operations performed on one or more columns in a DataFrame. \n",
    "\n",
    "They can include basic arithmetic, aggregations, comparisons, and other more complex transformations. When using `polars`, expressions allow users to create concise, readable code for data manipulation. `polars` will also perform these core data transformations very quickly by automatic query optimization on each expression and automatic parallelization of expressions on many columns.\n",
    "\n",
    "In this lesson, let us focus on four of these expression methods, namely:\n",
    "1. `select()`\n",
    "2. `with_columns()`\n",
    "3. `filter()`\n",
    "4. `groupby()`\n",
    "___"
   ]
  },
  {
   "cell_type": "markdown",
   "id": "0255bea9",
   "metadata": {},
   "source": [
    "<a id='section3.1'></a>\n",
    "## (3.1) `select()`\n",
    "We can select all or specific columns using the `pl.col()` expression shown below:"
   ]
  },
  {
   "cell_type": "code",
   "execution_count": 7,
   "id": "18b1df49",
   "metadata": {},
   "outputs": [
    {
     "data": {
      "text/html": [
       "<div><style>\n",
       ".dataframe > thead > tr > th,\n",
       ".dataframe > tbody > tr > td {\n",
       "  text-align: right;\n",
       "}\n",
       "</style>\n",
       "<small>shape: (64_787, 8)</small><table border=\"1\" class=\"dataframe\"><thead><tr><th>InvoiceNo</th><th>StockCode</th><th>Description</th><th>Quantity</th><th>InvoiceDate</th><th>UnitPrice</th><th>CustomerID</th><th>Country</th></tr><tr><td>i64</td><td>str</td><td>str</td><td>i64</td><td>str</td><td>f64</td><td>i64</td><td>str</td></tr></thead><tbody><tr><td>536365</td><td>&quot;85123A&quot;</td><td>&quot;WHITE HANGING …</td><td>6</td><td>&quot;1/12/2010 8:26…</td><td>2.55</td><td>17850</td><td>&quot;United Kingdom…</td></tr><tr><td>536365</td><td>&quot;71053&quot;</td><td>&quot;WHITE METAL LA…</td><td>6</td><td>&quot;1/12/2010 8:26…</td><td>3.39</td><td>17850</td><td>&quot;United Kingdom…</td></tr><tr><td>536365</td><td>&quot;84406B&quot;</td><td>&quot;CREAM CUPID HE…</td><td>8</td><td>&quot;1/12/2010 8:26…</td><td>2.75</td><td>17850</td><td>&quot;United Kingdom…</td></tr><tr><td>536365</td><td>&quot;84029G&quot;</td><td>&quot;KNITTED UNION …</td><td>6</td><td>&quot;1/12/2010 8:26…</td><td>3.39</td><td>17850</td><td>&quot;United Kingdom…</td></tr><tr><td>536365</td><td>&quot;84029E&quot;</td><td>&quot;RED WOOLLY HOT…</td><td>6</td><td>&quot;1/12/2010 8:26…</td><td>3.39</td><td>17850</td><td>&quot;United Kingdom…</td></tr><tr><td>536365</td><td>&quot;22752&quot;</td><td>&quot;SET 7 BABUSHKA…</td><td>2</td><td>&quot;1/12/2010 8:26…</td><td>7.65</td><td>17850</td><td>&quot;United Kingdom…</td></tr><tr><td>536365</td><td>&quot;21730&quot;</td><td>&quot;GLASS STAR FRO…</td><td>6</td><td>&quot;1/12/2010 8:26…</td><td>4.25</td><td>17850</td><td>&quot;United Kingdom…</td></tr><tr><td>536366</td><td>&quot;22633&quot;</td><td>&quot;HAND WARMER UN…</td><td>6</td><td>&quot;1/12/2010 8:28…</td><td>1.85</td><td>17850</td><td>&quot;United Kingdom…</td></tr><tr><td>536366</td><td>&quot;22632&quot;</td><td>&quot;HAND WARMER RE…</td><td>6</td><td>&quot;1/12/2010 8:28…</td><td>1.85</td><td>17850</td><td>&quot;United Kingdom…</td></tr><tr><td>536367</td><td>&quot;84879&quot;</td><td>&quot;ASSORTED COLOU…</td><td>32</td><td>&quot;1/12/2010 8:34…</td><td>1.69</td><td>13047</td><td>&quot;United Kingdom…</td></tr><tr><td>536367</td><td>&quot;22745&quot;</td><td>&quot;POPPY&#x27;S PLAYHO…</td><td>6</td><td>&quot;1/12/2010 8:34…</td><td>2.1</td><td>13047</td><td>&quot;United Kingdom…</td></tr><tr><td>536367</td><td>&quot;22748&quot;</td><td>&quot;POPPY&#x27;S PLAYHO…</td><td>6</td><td>&quot;1/12/2010 8:34…</td><td>2.1</td><td>13047</td><td>&quot;United Kingdom…</td></tr><tr><td>&hellip;</td><td>&hellip;</td><td>&hellip;</td><td>&hellip;</td><td>&hellip;</td><td>&hellip;</td><td>&hellip;</td><td>&hellip;</td></tr><tr><td>544795</td><td>&quot;22851&quot;</td><td>&quot;SET 20 NAPKINS…</td><td>1</td><td>&quot;23/2/2011 13:2…</td><td>0.85</td><td>15858</td><td>&quot;United Kingdom…</td></tr><tr><td>544795</td><td>&quot;22908&quot;</td><td>&quot;PACK OF 20 NAP…</td><td>1</td><td>&quot;23/2/2011 13:2…</td><td>0.85</td><td>15858</td><td>&quot;United Kingdom…</td></tr><tr><td>544795</td><td>&quot;21078&quot;</td><td>&quot;SET/20 STRAWBE…</td><td>1</td><td>&quot;23/2/2011 13:2…</td><td>0.85</td><td>15858</td><td>&quot;United Kingdom…</td></tr><tr><td>544795</td><td>&quot;22907&quot;</td><td>&quot;PACK OF 20 NAP…</td><td>1</td><td>&quot;23/2/2011 13:2…</td><td>0.85</td><td>15858</td><td>&quot;United Kingdom…</td></tr><tr><td>544795</td><td>&quot;22616&quot;</td><td>&quot;PACK OF 12 LON…</td><td>12</td><td>&quot;23/2/2011 13:2…</td><td>0.29</td><td>15858</td><td>&quot;United Kingdom…</td></tr><tr><td>544795</td><td>&quot;84968F&quot;</td><td>&quot;SET OF 16 VINT…</td><td>1</td><td>&quot;23/2/2011 13:2…</td><td>12.75</td><td>15858</td><td>&quot;United Kingdom…</td></tr><tr><td>544795</td><td>&quot;21586&quot;</td><td>&quot;KINGS CHOICE G…</td><td>12</td><td>&quot;23/2/2011 13:2…</td><td>2.55</td><td>15858</td><td>&quot;United Kingdom…</td></tr><tr><td>544795</td><td>&quot;22716&quot;</td><td>&quot;CARD CIRCUS PA…</td><td>12</td><td>&quot;23/2/2011 13:2…</td><td>0.42</td><td>15858</td><td>&quot;United Kingdom…</td></tr><tr><td>544795</td><td>&quot;22815&quot;</td><td>&quot;CARD PSYCHEDEL…</td><td>12</td><td>&quot;23/2/2011 13:2…</td><td>0.42</td><td>15858</td><td>&quot;United Kingdom…</td></tr><tr><td>544795</td><td>&quot;22028&quot;</td><td>&quot;PENNY FARTHING…</td><td>12</td><td>&quot;23/2/2011 13:2…</td><td>0.42</td><td>15858</td><td>&quot;United Kingdom…</td></tr><tr><td>544795</td><td>&quot;22035&quot;</td><td>&quot;VINTAGE CARAVA…</td><td>12</td><td>&quot;23/2/2011 13:2…</td><td>0.42</td><td>15858</td><td>&quot;United Kingdom…</td></tr><tr><td>544795</td><td>&quot;22024&quot;</td><td>&quot;RAINY LADIES B…</td><td>12</td><td>&quot;23/2/2011 13:2…</td><td>0.42</td><td>15858</td><td>&quot;United Kingdom…</td></tr></tbody></table></div>"
      ],
      "text/plain": [
       "shape: (64_787, 8)\n",
       "┌───────────┬───────────┬───────────────────────┬──────────┬─────────────────┬───────────┬────────────┬────────────────┐\n",
       "│ InvoiceNo ┆ StockCode ┆ Description           ┆ Quantity ┆ InvoiceDate     ┆ UnitPrice ┆ CustomerID ┆ Country        │\n",
       "│ ---       ┆ ---       ┆ ---                   ┆ ---      ┆ ---             ┆ ---       ┆ ---        ┆ ---            │\n",
       "│ i64       ┆ str       ┆ str                   ┆ i64      ┆ str             ┆ f64       ┆ i64        ┆ str            │\n",
       "╞═══════════╪═══════════╪═══════════════════════╪══════════╪═════════════════╪═══════════╪════════════╪════════════════╡\n",
       "│ 536365    ┆ 85123A    ┆ WHITE HANGING HEART   ┆ 6        ┆ 1/12/2010 8:26  ┆ 2.55      ┆ 17850      ┆ United Kingdom │\n",
       "│           ┆           ┆ T-LIGHT HOLD…         ┆          ┆                 ┆           ┆            ┆                │\n",
       "│ 536365    ┆ 71053     ┆ WHITE METAL LANTERN   ┆ 6        ┆ 1/12/2010 8:26  ┆ 3.39      ┆ 17850      ┆ United Kingdom │\n",
       "│ 536365    ┆ 84406B    ┆ CREAM CUPID HEARTS    ┆ 8        ┆ 1/12/2010 8:26  ┆ 2.75      ┆ 17850      ┆ United Kingdom │\n",
       "│           ┆           ┆ COAT HANGER           ┆          ┆                 ┆           ┆            ┆                │\n",
       "│ 536365    ┆ 84029G    ┆ KNITTED UNION FLAG    ┆ 6        ┆ 1/12/2010 8:26  ┆ 3.39      ┆ 17850      ┆ United Kingdom │\n",
       "│           ┆           ┆ HOT WATER BOT…        ┆          ┆                 ┆           ┆            ┆                │\n",
       "│ …         ┆ …         ┆ …                     ┆ …        ┆ …               ┆ …         ┆ …          ┆ …              │\n",
       "│ 544795    ┆ 22815     ┆ CARD PSYCHEDELIC      ┆ 12       ┆ 23/2/2011 13:21 ┆ 0.42      ┆ 15858      ┆ United Kingdom │\n",
       "│           ┆           ┆ APPLES                ┆          ┆                 ┆           ┆            ┆                │\n",
       "│ 544795    ┆ 22028     ┆ PENNY FARTHING        ┆ 12       ┆ 23/2/2011 13:21 ┆ 0.42      ┆ 15858      ┆ United Kingdom │\n",
       "│           ┆           ┆ BIRTHDAY CARD         ┆          ┆                 ┆           ┆            ┆                │\n",
       "│ 544795    ┆ 22035     ┆ VINTAGE CARAVAN       ┆ 12       ┆ 23/2/2011 13:21 ┆ 0.42      ┆ 15858      ┆ United Kingdom │\n",
       "│           ┆           ┆ GREETING CARD         ┆          ┆                 ┆           ┆            ┆                │\n",
       "│ 544795    ┆ 22024     ┆ RAINY LADIES BIRTHDAY ┆ 12       ┆ 23/2/2011 13:21 ┆ 0.42      ┆ 15858      ┆ United Kingdom │\n",
       "│           ┆           ┆ CARD                  ┆          ┆                 ┆           ┆            ┆                │\n",
       "└───────────┴───────────┴───────────────────────┴──────────┴─────────────────┴───────────┴────────────┴────────────────┘"
      ]
     },
     "execution_count": 7,
     "metadata": {},
     "output_type": "execute_result"
    }
   ],
   "source": [
    "# Select all columns (asterisk * refers to all columns) (Option 1)\n",
    "df.select(pl.col('*'))"
   ]
  },
  {
   "cell_type": "code",
   "execution_count": 54,
   "id": "0a426342",
   "metadata": {},
   "outputs": [
    {
     "data": {
      "text/html": [
       "<div><style>\n",
       ".dataframe > thead > tr > th,\n",
       ".dataframe > tbody > tr > td {\n",
       "  text-align: right;\n",
       "}\n",
       "</style>\n",
       "<small>shape: (64_787, 8)</small><table border=\"1\" class=\"dataframe\"><thead><tr><th>InvoiceNo</th><th>StockCode</th><th>Description</th><th>Quantity</th><th>InvoiceDate</th><th>UnitPrice</th><th>CustomerID</th><th>Country</th></tr><tr><td>i64</td><td>str</td><td>str</td><td>i64</td><td>str</td><td>f64</td><td>i64</td><td>str</td></tr></thead><tbody><tr><td>536365</td><td>&quot;85123A&quot;</td><td>&quot;WHITE HANGING …</td><td>6</td><td>&quot;1/12/2010 8:26…</td><td>2.55</td><td>17850</td><td>&quot;United Kingdom…</td></tr><tr><td>536365</td><td>&quot;71053&quot;</td><td>&quot;WHITE METAL LA…</td><td>6</td><td>&quot;1/12/2010 8:26…</td><td>3.39</td><td>17850</td><td>&quot;United Kingdom…</td></tr><tr><td>536365</td><td>&quot;84406B&quot;</td><td>&quot;CREAM CUPID HE…</td><td>8</td><td>&quot;1/12/2010 8:26…</td><td>2.75</td><td>17850</td><td>&quot;United Kingdom…</td></tr><tr><td>536365</td><td>&quot;84029G&quot;</td><td>&quot;KNITTED UNION …</td><td>6</td><td>&quot;1/12/2010 8:26…</td><td>3.39</td><td>17850</td><td>&quot;United Kingdom…</td></tr><tr><td>536365</td><td>&quot;84029E&quot;</td><td>&quot;RED WOOLLY HOT…</td><td>6</td><td>&quot;1/12/2010 8:26…</td><td>3.39</td><td>17850</td><td>&quot;United Kingdom…</td></tr><tr><td>536365</td><td>&quot;22752&quot;</td><td>&quot;SET 7 BABUSHKA…</td><td>2</td><td>&quot;1/12/2010 8:26…</td><td>7.65</td><td>17850</td><td>&quot;United Kingdom…</td></tr><tr><td>536365</td><td>&quot;21730&quot;</td><td>&quot;GLASS STAR FRO…</td><td>6</td><td>&quot;1/12/2010 8:26…</td><td>4.25</td><td>17850</td><td>&quot;United Kingdom…</td></tr><tr><td>536366</td><td>&quot;22633&quot;</td><td>&quot;HAND WARMER UN…</td><td>6</td><td>&quot;1/12/2010 8:28…</td><td>1.85</td><td>17850</td><td>&quot;United Kingdom…</td></tr><tr><td>536366</td><td>&quot;22632&quot;</td><td>&quot;HAND WARMER RE…</td><td>6</td><td>&quot;1/12/2010 8:28…</td><td>1.85</td><td>17850</td><td>&quot;United Kingdom…</td></tr><tr><td>536367</td><td>&quot;84879&quot;</td><td>&quot;ASSORTED COLOU…</td><td>32</td><td>&quot;1/12/2010 8:34…</td><td>1.69</td><td>13047</td><td>&quot;United Kingdom…</td></tr><tr><td>536367</td><td>&quot;22745&quot;</td><td>&quot;POPPY&#x27;S PLAYHO…</td><td>6</td><td>&quot;1/12/2010 8:34…</td><td>2.1</td><td>13047</td><td>&quot;United Kingdom…</td></tr><tr><td>536367</td><td>&quot;22748&quot;</td><td>&quot;POPPY&#x27;S PLAYHO…</td><td>6</td><td>&quot;1/12/2010 8:34…</td><td>2.1</td><td>13047</td><td>&quot;United Kingdom…</td></tr><tr><td>&hellip;</td><td>&hellip;</td><td>&hellip;</td><td>&hellip;</td><td>&hellip;</td><td>&hellip;</td><td>&hellip;</td><td>&hellip;</td></tr><tr><td>544795</td><td>&quot;22851&quot;</td><td>&quot;SET 20 NAPKINS…</td><td>1</td><td>&quot;23/2/2011 13:2…</td><td>0.85</td><td>15858</td><td>&quot;United Kingdom…</td></tr><tr><td>544795</td><td>&quot;22908&quot;</td><td>&quot;PACK OF 20 NAP…</td><td>1</td><td>&quot;23/2/2011 13:2…</td><td>0.85</td><td>15858</td><td>&quot;United Kingdom…</td></tr><tr><td>544795</td><td>&quot;21078&quot;</td><td>&quot;SET/20 STRAWBE…</td><td>1</td><td>&quot;23/2/2011 13:2…</td><td>0.85</td><td>15858</td><td>&quot;United Kingdom…</td></tr><tr><td>544795</td><td>&quot;22907&quot;</td><td>&quot;PACK OF 20 NAP…</td><td>1</td><td>&quot;23/2/2011 13:2…</td><td>0.85</td><td>15858</td><td>&quot;United Kingdom…</td></tr><tr><td>544795</td><td>&quot;22616&quot;</td><td>&quot;PACK OF 12 LON…</td><td>12</td><td>&quot;23/2/2011 13:2…</td><td>0.29</td><td>15858</td><td>&quot;United Kingdom…</td></tr><tr><td>544795</td><td>&quot;84968F&quot;</td><td>&quot;SET OF 16 VINT…</td><td>1</td><td>&quot;23/2/2011 13:2…</td><td>12.75</td><td>15858</td><td>&quot;United Kingdom…</td></tr><tr><td>544795</td><td>&quot;21586&quot;</td><td>&quot;KINGS CHOICE G…</td><td>12</td><td>&quot;23/2/2011 13:2…</td><td>2.55</td><td>15858</td><td>&quot;United Kingdom…</td></tr><tr><td>544795</td><td>&quot;22716&quot;</td><td>&quot;CARD CIRCUS PA…</td><td>12</td><td>&quot;23/2/2011 13:2…</td><td>0.42</td><td>15858</td><td>&quot;United Kingdom…</td></tr><tr><td>544795</td><td>&quot;22815&quot;</td><td>&quot;CARD PSYCHEDEL…</td><td>12</td><td>&quot;23/2/2011 13:2…</td><td>0.42</td><td>15858</td><td>&quot;United Kingdom…</td></tr><tr><td>544795</td><td>&quot;22028&quot;</td><td>&quot;PENNY FARTHING…</td><td>12</td><td>&quot;23/2/2011 13:2…</td><td>0.42</td><td>15858</td><td>&quot;United Kingdom…</td></tr><tr><td>544795</td><td>&quot;22035&quot;</td><td>&quot;VINTAGE CARAVA…</td><td>12</td><td>&quot;23/2/2011 13:2…</td><td>0.42</td><td>15858</td><td>&quot;United Kingdom…</td></tr><tr><td>544795</td><td>&quot;22024&quot;</td><td>&quot;RAINY LADIES B…</td><td>12</td><td>&quot;23/2/2011 13:2…</td><td>0.42</td><td>15858</td><td>&quot;United Kingdom…</td></tr></tbody></table></div>"
      ],
      "text/plain": [
       "shape: (64_787, 8)\n",
       "┌───────────┬───────────┬───────────────────────┬──────────┬─────────────────┬───────────┬────────────┬────────────────┐\n",
       "│ InvoiceNo ┆ StockCode ┆ Description           ┆ Quantity ┆ InvoiceDate     ┆ UnitPrice ┆ CustomerID ┆ Country        │\n",
       "│ ---       ┆ ---       ┆ ---                   ┆ ---      ┆ ---             ┆ ---       ┆ ---        ┆ ---            │\n",
       "│ i64       ┆ str       ┆ str                   ┆ i64      ┆ str             ┆ f64       ┆ i64        ┆ str            │\n",
       "╞═══════════╪═══════════╪═══════════════════════╪══════════╪═════════════════╪═══════════╪════════════╪════════════════╡\n",
       "│ 536365    ┆ 85123A    ┆ WHITE HANGING HEART   ┆ 6        ┆ 1/12/2010 8:26  ┆ 2.55      ┆ 17850      ┆ United Kingdom │\n",
       "│           ┆           ┆ T-LIGHT HOLD…         ┆          ┆                 ┆           ┆            ┆                │\n",
       "│ 536365    ┆ 71053     ┆ WHITE METAL LANTERN   ┆ 6        ┆ 1/12/2010 8:26  ┆ 3.39      ┆ 17850      ┆ United Kingdom │\n",
       "│ 536365    ┆ 84406B    ┆ CREAM CUPID HEARTS    ┆ 8        ┆ 1/12/2010 8:26  ┆ 2.75      ┆ 17850      ┆ United Kingdom │\n",
       "│           ┆           ┆ COAT HANGER           ┆          ┆                 ┆           ┆            ┆                │\n",
       "│ 536365    ┆ 84029G    ┆ KNITTED UNION FLAG    ┆ 6        ┆ 1/12/2010 8:26  ┆ 3.39      ┆ 17850      ┆ United Kingdom │\n",
       "│           ┆           ┆ HOT WATER BOT…        ┆          ┆                 ┆           ┆            ┆                │\n",
       "│ …         ┆ …         ┆ …                     ┆ …        ┆ …               ┆ …         ┆ …          ┆ …              │\n",
       "│ 544795    ┆ 22815     ┆ CARD PSYCHEDELIC      ┆ 12       ┆ 23/2/2011 13:21 ┆ 0.42      ┆ 15858      ┆ United Kingdom │\n",
       "│           ┆           ┆ APPLES                ┆          ┆                 ┆           ┆            ┆                │\n",
       "│ 544795    ┆ 22028     ┆ PENNY FARTHING        ┆ 12       ┆ 23/2/2011 13:21 ┆ 0.42      ┆ 15858      ┆ United Kingdom │\n",
       "│           ┆           ┆ BIRTHDAY CARD         ┆          ┆                 ┆           ┆            ┆                │\n",
       "│ 544795    ┆ 22035     ┆ VINTAGE CARAVAN       ┆ 12       ┆ 23/2/2011 13:21 ┆ 0.42      ┆ 15858      ┆ United Kingdom │\n",
       "│           ┆           ┆ GREETING CARD         ┆          ┆                 ┆           ┆            ┆                │\n",
       "│ 544795    ┆ 22024     ┆ RAINY LADIES BIRTHDAY ┆ 12       ┆ 23/2/2011 13:21 ┆ 0.42      ┆ 15858      ┆ United Kingdom │\n",
       "│           ┆           ┆ CARD                  ┆          ┆                 ┆           ┆            ┆                │\n",
       "└───────────┴───────────┴───────────────────────┴──────────┴─────────────────┴───────────┴────────────┴────────────────┘"
      ]
     },
     "execution_count": 54,
     "metadata": {},
     "output_type": "execute_result"
    }
   ],
   "source": [
    "# Select all columns (Option 1)\n",
    "df.select(pl.all())"
   ]
  },
  {
   "cell_type": "code",
   "execution_count": 8,
   "id": "a4fd4b76",
   "metadata": {},
   "outputs": [
    {
     "data": {
      "text/html": [
       "<div><style>\n",
       ".dataframe > thead > tr > th,\n",
       ".dataframe > tbody > tr > td {\n",
       "  text-align: right;\n",
       "}\n",
       "</style>\n",
       "<small>shape: (64_787, 2)</small><table border=\"1\" class=\"dataframe\"><thead><tr><th>InvoiceNo</th><th>InvoiceDate</th></tr><tr><td>i64</td><td>str</td></tr></thead><tbody><tr><td>536365</td><td>&quot;1/12/2010 8:26…</td></tr><tr><td>536365</td><td>&quot;1/12/2010 8:26…</td></tr><tr><td>536365</td><td>&quot;1/12/2010 8:26…</td></tr><tr><td>536365</td><td>&quot;1/12/2010 8:26…</td></tr><tr><td>536365</td><td>&quot;1/12/2010 8:26…</td></tr><tr><td>536365</td><td>&quot;1/12/2010 8:26…</td></tr><tr><td>536365</td><td>&quot;1/12/2010 8:26…</td></tr><tr><td>536366</td><td>&quot;1/12/2010 8:28…</td></tr><tr><td>536366</td><td>&quot;1/12/2010 8:28…</td></tr><tr><td>536367</td><td>&quot;1/12/2010 8:34…</td></tr><tr><td>536367</td><td>&quot;1/12/2010 8:34…</td></tr><tr><td>536367</td><td>&quot;1/12/2010 8:34…</td></tr><tr><td>&hellip;</td><td>&hellip;</td></tr><tr><td>544795</td><td>&quot;23/2/2011 13:2…</td></tr><tr><td>544795</td><td>&quot;23/2/2011 13:2…</td></tr><tr><td>544795</td><td>&quot;23/2/2011 13:2…</td></tr><tr><td>544795</td><td>&quot;23/2/2011 13:2…</td></tr><tr><td>544795</td><td>&quot;23/2/2011 13:2…</td></tr><tr><td>544795</td><td>&quot;23/2/2011 13:2…</td></tr><tr><td>544795</td><td>&quot;23/2/2011 13:2…</td></tr><tr><td>544795</td><td>&quot;23/2/2011 13:2…</td></tr><tr><td>544795</td><td>&quot;23/2/2011 13:2…</td></tr><tr><td>544795</td><td>&quot;23/2/2011 13:2…</td></tr><tr><td>544795</td><td>&quot;23/2/2011 13:2…</td></tr><tr><td>544795</td><td>&quot;23/2/2011 13:2…</td></tr></tbody></table></div>"
      ],
      "text/plain": [
       "shape: (64_787, 2)\n",
       "┌───────────┬─────────────────┐\n",
       "│ InvoiceNo ┆ InvoiceDate     │\n",
       "│ ---       ┆ ---             │\n",
       "│ i64       ┆ str             │\n",
       "╞═══════════╪═════════════════╡\n",
       "│ 536365    ┆ 1/12/2010 8:26  │\n",
       "│ 536365    ┆ 1/12/2010 8:26  │\n",
       "│ 536365    ┆ 1/12/2010 8:26  │\n",
       "│ 536365    ┆ 1/12/2010 8:26  │\n",
       "│ …         ┆ …               │\n",
       "│ 544795    ┆ 23/2/2011 13:21 │\n",
       "│ 544795    ┆ 23/2/2011 13:21 │\n",
       "│ 544795    ┆ 23/2/2011 13:21 │\n",
       "│ 544795    ┆ 23/2/2011 13:21 │\n",
       "└───────────┴─────────────────┘"
      ]
     },
     "execution_count": 8,
     "metadata": {},
     "output_type": "execute_result"
    }
   ],
   "source": [
    "# Select specific columns (Option 1)\n",
    "df.select(pl.col(['InvoiceNo', 'InvoiceDate']))"
   ]
  },
  {
   "cell_type": "code",
   "execution_count": 9,
   "id": "de348aa4",
   "metadata": {},
   "outputs": [
    {
     "data": {
      "text/html": [
       "<div><style>\n",
       ".dataframe > thead > tr > th,\n",
       ".dataframe > tbody > tr > td {\n",
       "  text-align: right;\n",
       "}\n",
       "</style>\n",
       "<small>shape: (64_787, 2)</small><table border=\"1\" class=\"dataframe\"><thead><tr><th>InvoiceNo</th><th>InvoiceDate</th></tr><tr><td>i64</td><td>str</td></tr></thead><tbody><tr><td>536365</td><td>&quot;1/12/2010 8:26…</td></tr><tr><td>536365</td><td>&quot;1/12/2010 8:26…</td></tr><tr><td>536365</td><td>&quot;1/12/2010 8:26…</td></tr><tr><td>536365</td><td>&quot;1/12/2010 8:26…</td></tr><tr><td>536365</td><td>&quot;1/12/2010 8:26…</td></tr><tr><td>536365</td><td>&quot;1/12/2010 8:26…</td></tr><tr><td>536365</td><td>&quot;1/12/2010 8:26…</td></tr><tr><td>536366</td><td>&quot;1/12/2010 8:28…</td></tr><tr><td>536366</td><td>&quot;1/12/2010 8:28…</td></tr><tr><td>536367</td><td>&quot;1/12/2010 8:34…</td></tr><tr><td>536367</td><td>&quot;1/12/2010 8:34…</td></tr><tr><td>536367</td><td>&quot;1/12/2010 8:34…</td></tr><tr><td>&hellip;</td><td>&hellip;</td></tr><tr><td>544795</td><td>&quot;23/2/2011 13:2…</td></tr><tr><td>544795</td><td>&quot;23/2/2011 13:2…</td></tr><tr><td>544795</td><td>&quot;23/2/2011 13:2…</td></tr><tr><td>544795</td><td>&quot;23/2/2011 13:2…</td></tr><tr><td>544795</td><td>&quot;23/2/2011 13:2…</td></tr><tr><td>544795</td><td>&quot;23/2/2011 13:2…</td></tr><tr><td>544795</td><td>&quot;23/2/2011 13:2…</td></tr><tr><td>544795</td><td>&quot;23/2/2011 13:2…</td></tr><tr><td>544795</td><td>&quot;23/2/2011 13:2…</td></tr><tr><td>544795</td><td>&quot;23/2/2011 13:2…</td></tr><tr><td>544795</td><td>&quot;23/2/2011 13:2…</td></tr><tr><td>544795</td><td>&quot;23/2/2011 13:2…</td></tr></tbody></table></div>"
      ],
      "text/plain": [
       "shape: (64_787, 2)\n",
       "┌───────────┬─────────────────┐\n",
       "│ InvoiceNo ┆ InvoiceDate     │\n",
       "│ ---       ┆ ---             │\n",
       "│ i64       ┆ str             │\n",
       "╞═══════════╪═════════════════╡\n",
       "│ 536365    ┆ 1/12/2010 8:26  │\n",
       "│ 536365    ┆ 1/12/2010 8:26  │\n",
       "│ 536365    ┆ 1/12/2010 8:26  │\n",
       "│ 536365    ┆ 1/12/2010 8:26  │\n",
       "│ …         ┆ …               │\n",
       "│ 544795    ┆ 23/2/2011 13:21 │\n",
       "│ 544795    ┆ 23/2/2011 13:21 │\n",
       "│ 544795    ┆ 23/2/2011 13:21 │\n",
       "│ 544795    ┆ 23/2/2011 13:21 │\n",
       "└───────────┴─────────────────┘"
      ]
     },
     "execution_count": 9,
     "metadata": {},
     "output_type": "execute_result"
    }
   ],
   "source": [
    "# Select specific columns (Option 2). Useful if we want to apply specific transformations on each column separately\n",
    "df.select([pl.col('InvoiceNo'), pl.col('InvoiceDate')])"
   ]
  },
  {
   "cell_type": "markdown",
   "id": "3940ca44",
   "metadata": {},
   "source": [
    "We can easily combine the selection with other methods, such as `sort()` to sort the values and `limit()` to limit the number of rows returned, as illustrated below:"
   ]
  },
  {
   "cell_type": "code",
   "execution_count": 57,
   "id": "ecc05320",
   "metadata": {},
   "outputs": [
    {
     "data": {
      "text/html": [
       "<div><style>\n",
       ".dataframe > thead > tr > th,\n",
       ".dataframe > tbody > tr > td {\n",
       "  text-align: right;\n",
       "}\n",
       "</style>\n",
       "<small>shape: (5, 2)</small><table border=\"1\" class=\"dataframe\"><thead><tr><th>InvoiceNo</th><th>InvoiceDate</th></tr><tr><td>i64</td><td>str</td></tr></thead><tbody><tr><td>544795</td><td>&quot;23/2/2011 13:2…</td></tr><tr><td>544795</td><td>&quot;23/2/2011 13:2…</td></tr><tr><td>544795</td><td>&quot;23/2/2011 13:2…</td></tr><tr><td>544795</td><td>&quot;23/2/2011 13:2…</td></tr><tr><td>544795</td><td>&quot;23/2/2011 13:2…</td></tr></tbody></table></div>"
      ],
      "text/plain": [
       "shape: (5, 2)\n",
       "┌───────────┬─────────────────┐\n",
       "│ InvoiceNo ┆ InvoiceDate     │\n",
       "│ ---       ┆ ---             │\n",
       "│ i64       ┆ str             │\n",
       "╞═══════════╪═════════════════╡\n",
       "│ 544795    ┆ 23/2/2011 13:21 │\n",
       "│ 544795    ┆ 23/2/2011 13:21 │\n",
       "│ 544795    ┆ 23/2/2011 13:21 │\n",
       "│ 544795    ┆ 23/2/2011 13:21 │\n",
       "│ 544795    ┆ 23/2/2011 13:21 │\n",
       "└───────────┴─────────────────┘"
      ]
     },
     "execution_count": 57,
     "metadata": {},
     "output_type": "execute_result"
    }
   ],
   "source": [
    "df.select(\n",
    "          [pl.col('InvoiceNo'), \n",
    "           pl.col('InvoiceDate')]).sort('InvoiceNo', descending=True).limit(5)"
   ]
  },
  {
   "cell_type": "markdown",
   "id": "2972e223",
   "metadata": {},
   "source": [
    "If we want to exclude specific columns instead of specifying the ones we want to include, as we leverage `pl.exclude()` as shown below:"
   ]
  },
  {
   "cell_type": "code",
   "execution_count": 11,
   "id": "5aa9432b",
   "metadata": {},
   "outputs": [
    {
     "data": {
      "text/html": [
       "<div><style>\n",
       ".dataframe > thead > tr > th,\n",
       ".dataframe > tbody > tr > td {\n",
       "  text-align: right;\n",
       "}\n",
       "</style>\n",
       "<small>shape: (5, 5)</small><table border=\"1\" class=\"dataframe\"><thead><tr><th>InvoiceNo</th><th>StockCode</th><th>Quantity</th><th>UnitPrice</th><th>CustomerID</th></tr><tr><td>i64</td><td>str</td><td>i64</td><td>f64</td><td>i64</td></tr></thead><tbody><tr><td>536365</td><td>&quot;85123A&quot;</td><td>6</td><td>2.55</td><td>17850</td></tr><tr><td>536365</td><td>&quot;71053&quot;</td><td>6</td><td>3.39</td><td>17850</td></tr><tr><td>536365</td><td>&quot;84406B&quot;</td><td>8</td><td>2.75</td><td>17850</td></tr><tr><td>536365</td><td>&quot;84029G&quot;</td><td>6</td><td>3.39</td><td>17850</td></tr><tr><td>536365</td><td>&quot;84029E&quot;</td><td>6</td><td>3.39</td><td>17850</td></tr></tbody></table></div>"
      ],
      "text/plain": [
       "shape: (5, 5)\n",
       "┌───────────┬───────────┬──────────┬───────────┬────────────┐\n",
       "│ InvoiceNo ┆ StockCode ┆ Quantity ┆ UnitPrice ┆ CustomerID │\n",
       "│ ---       ┆ ---       ┆ ---      ┆ ---       ┆ ---        │\n",
       "│ i64       ┆ str       ┆ i64      ┆ f64       ┆ i64        │\n",
       "╞═══════════╪═══════════╪══════════╪═══════════╪════════════╡\n",
       "│ 536365    ┆ 85123A    ┆ 6        ┆ 2.55      ┆ 17850      │\n",
       "│ 536365    ┆ 71053     ┆ 6        ┆ 3.39      ┆ 17850      │\n",
       "│ 536365    ┆ 84406B    ┆ 8        ┆ 2.75      ┆ 17850      │\n",
       "│ 536365    ┆ 84029G    ┆ 6        ┆ 3.39      ┆ 17850      │\n",
       "│ 536365    ┆ 84029E    ┆ 6        ┆ 3.39      ┆ 17850      │\n",
       "└───────────┴───────────┴──────────┴───────────┴────────────┘"
      ]
     },
     "execution_count": 11,
     "metadata": {},
     "output_type": "execute_result"
    }
   ],
   "source": [
    "df.select([pl.exclude('Description', 'Country', 'InvoiceDate')]).limit(5)"
   ]
  },
  {
   "cell_type": "markdown",
   "id": "92195eb2",
   "metadata": {},
   "source": [
    "We can even select by data types:"
   ]
  },
  {
   "cell_type": "code",
   "execution_count": 12,
   "id": "1b3eec0f",
   "metadata": {
    "scrolled": true
   },
   "outputs": [
    {
     "data": {
      "text/html": [
       "<div><style>\n",
       ".dataframe > thead > tr > th,\n",
       ".dataframe > tbody > tr > td {\n",
       "  text-align: right;\n",
       "}\n",
       "</style>\n",
       "<small>shape: (5, 7)</small><table border=\"1\" class=\"dataframe\"><thead><tr><th>InvoiceNo</th><th>StockCode</th><th>Description</th><th>Quantity</th><th>InvoiceDate</th><th>CustomerID</th><th>Country</th></tr><tr><td>i64</td><td>str</td><td>str</td><td>i64</td><td>str</td><td>i64</td><td>str</td></tr></thead><tbody><tr><td>536365</td><td>&quot;85123A&quot;</td><td>&quot;WHITE HANGING …</td><td>6</td><td>&quot;1/12/2010 8:26…</td><td>17850</td><td>&quot;United Kingdom…</td></tr><tr><td>536365</td><td>&quot;71053&quot;</td><td>&quot;WHITE METAL LA…</td><td>6</td><td>&quot;1/12/2010 8:26…</td><td>17850</td><td>&quot;United Kingdom…</td></tr><tr><td>536365</td><td>&quot;84406B&quot;</td><td>&quot;CREAM CUPID HE…</td><td>8</td><td>&quot;1/12/2010 8:26…</td><td>17850</td><td>&quot;United Kingdom…</td></tr><tr><td>536365</td><td>&quot;84029G&quot;</td><td>&quot;KNITTED UNION …</td><td>6</td><td>&quot;1/12/2010 8:26…</td><td>17850</td><td>&quot;United Kingdom…</td></tr><tr><td>536365</td><td>&quot;84029E&quot;</td><td>&quot;RED WOOLLY HOT…</td><td>6</td><td>&quot;1/12/2010 8:26…</td><td>17850</td><td>&quot;United Kingdom…</td></tr></tbody></table></div>"
      ],
      "text/plain": [
       "shape: (5, 7)\n",
       "┌───────────┬───────────┬───────────────────────────────────┬──────────┬────────────────┬────────────┬────────────────┐\n",
       "│ InvoiceNo ┆ StockCode ┆ Description                       ┆ Quantity ┆ InvoiceDate    ┆ CustomerID ┆ Country        │\n",
       "│ ---       ┆ ---       ┆ ---                               ┆ ---      ┆ ---            ┆ ---        ┆ ---            │\n",
       "│ i64       ┆ str       ┆ str                               ┆ i64      ┆ str            ┆ i64        ┆ str            │\n",
       "╞═══════════╪═══════════╪═══════════════════════════════════╪══════════╪════════════════╪════════════╪════════════════╡\n",
       "│ 536365    ┆ 85123A    ┆ WHITE HANGING HEART T-LIGHT HOLD… ┆ 6        ┆ 1/12/2010 8:26 ┆ 17850      ┆ United Kingdom │\n",
       "│ 536365    ┆ 71053     ┆ WHITE METAL LANTERN               ┆ 6        ┆ 1/12/2010 8:26 ┆ 17850      ┆ United Kingdom │\n",
       "│ 536365    ┆ 84406B    ┆ CREAM CUPID HEARTS COAT HANGER    ┆ 8        ┆ 1/12/2010 8:26 ┆ 17850      ┆ United Kingdom │\n",
       "│ 536365    ┆ 84029G    ┆ KNITTED UNION FLAG HOT WATER BOT… ┆ 6        ┆ 1/12/2010 8:26 ┆ 17850      ┆ United Kingdom │\n",
       "│ 536365    ┆ 84029E    ┆ RED WOOLLY HOTTIE WHITE HEART.    ┆ 6        ┆ 1/12/2010 8:26 ┆ 17850      ┆ United Kingdom │\n",
       "└───────────┴───────────┴───────────────────────────────────┴──────────┴────────────────┴────────────┴────────────────┘"
      ]
     },
     "execution_count": 12,
     "metadata": {},
     "output_type": "execute_result"
    }
   ],
   "source": [
    "# Obtain columns that are int64 and string\n",
    "df.select(pl.col(pl.Int64, pl.Utf8)).limit(5)"
   ]
  },
  {
   "cell_type": "markdown",
   "id": "2763e695",
   "metadata": {},
   "source": [
    "As an additional demonstration of lazy loading, the following example shows how we can first scan and lazy load our dataset before running `collect()` to execute our `select()` expression:"
   ]
  },
  {
   "cell_type": "code",
   "execution_count": 31,
   "id": "df24ba52",
   "metadata": {},
   "outputs": [
    {
     "data": {
      "text/html": [
       "<div><style>\n",
       ".dataframe > thead > tr > th,\n",
       ".dataframe > tbody > tr > td {\n",
       "  text-align: right;\n",
       "}\n",
       "</style>\n",
       "<small>shape: (5, 2)</small><table border=\"1\" class=\"dataframe\"><thead><tr><th>InvoiceNo</th><th>InvoiceDate</th></tr><tr><td>i64</td><td>str</td></tr></thead><tbody><tr><td>536365</td><td>&quot;1/12/2010 8:26…</td></tr><tr><td>536365</td><td>&quot;1/12/2010 8:26…</td></tr><tr><td>536365</td><td>&quot;1/12/2010 8:26…</td></tr><tr><td>536365</td><td>&quot;1/12/2010 8:26…</td></tr><tr><td>536365</td><td>&quot;1/12/2010 8:26…</td></tr></tbody></table></div>"
      ],
      "text/plain": [
       "shape: (5, 2)\n",
       "┌───────────┬────────────────┐\n",
       "│ InvoiceNo ┆ InvoiceDate    │\n",
       "│ ---       ┆ ---            │\n",
       "│ i64       ┆ str            │\n",
       "╞═══════════╪════════════════╡\n",
       "│ 536365    ┆ 1/12/2010 8:26 │\n",
       "│ 536365    ┆ 1/12/2010 8:26 │\n",
       "│ 536365    ┆ 1/12/2010 8:26 │\n",
       "│ 536365    ┆ 1/12/2010 8:26 │\n",
       "│ 536365    ┆ 1/12/2010 8:26 │\n",
       "└───────────┴────────────────┘"
      ]
     },
     "execution_count": 31,
     "metadata": {},
     "output_type": "execute_result"
    }
   ],
   "source": [
    "# Lazy read (scan_csv)\n",
    "lazy_df = pl.scan_csv('data/online_retail_dataset.csv', # Must be read from local file, not external URL\n",
    "                      encoding='utf8',\n",
    "                      ignore_errors = True)\n",
    "\n",
    "# Select the inclusion of specific columns\n",
    "df_2 = lazy_df.select([pl.col('InvoiceNo'), pl.col('InvoiceDate')])\n",
    "\n",
    "# Execute selection with collect()\n",
    "df_2.collect().head()"
   ]
  },
  {
   "cell_type": "markdown",
   "id": "84149b5b",
   "metadata": {},
   "source": [
    "> **Note:** This lazy loading before execution with `collect()` applies to all the expressions mentioned in this lesson, beyond just the `select()` example shown here."
   ]
  },
  {
   "cell_type": "markdown",
   "id": "9ad0131c",
   "metadata": {},
   "source": [
    "___\n",
    "<a id='section3.2'></a>\n",
    "## (3.2) `with_columns()`\n",
    "We can create new columns using `with_columns()`, with the examples shown below where we apply basic operations together with the expressions. The `alias()` method is used to assign the new column an alias name."
   ]
  },
  {
   "cell_type": "code",
   "execution_count": 13,
   "id": "e933b09a",
   "metadata": {},
   "outputs": [
    {
     "data": {
      "text/html": [
       "<div><style>\n",
       ".dataframe > thead > tr > th,\n",
       ".dataframe > tbody > tr > td {\n",
       "  text-align: right;\n",
       "}\n",
       "</style>\n",
       "<small>shape: (5, 10)</small><table border=\"1\" class=\"dataframe\"><thead><tr><th>InvoiceNo</th><th>StockCode</th><th>Description</th><th>Quantity</th><th>InvoiceDate</th><th>UnitPrice</th><th>CustomerID</th><th>Country</th><th>Quantity + 10</th><th>Average Quantity</th></tr><tr><td>i64</td><td>str</td><td>str</td><td>i64</td><td>str</td><td>f64</td><td>i64</td><td>str</td><td>i64</td><td>f64</td></tr></thead><tbody><tr><td>536365</td><td>&quot;85123A&quot;</td><td>&quot;WHITE HANGING …</td><td>6</td><td>&quot;1/12/2010 8:26…</td><td>2.55</td><td>17850</td><td>&quot;United Kingdom…</td><td>16</td><td>12.206492</td></tr><tr><td>536365</td><td>&quot;71053&quot;</td><td>&quot;WHITE METAL LA…</td><td>6</td><td>&quot;1/12/2010 8:26…</td><td>3.39</td><td>17850</td><td>&quot;United Kingdom…</td><td>16</td><td>12.206492</td></tr><tr><td>536365</td><td>&quot;84406B&quot;</td><td>&quot;CREAM CUPID HE…</td><td>8</td><td>&quot;1/12/2010 8:26…</td><td>2.75</td><td>17850</td><td>&quot;United Kingdom…</td><td>18</td><td>12.206492</td></tr><tr><td>536365</td><td>&quot;84029G&quot;</td><td>&quot;KNITTED UNION …</td><td>6</td><td>&quot;1/12/2010 8:26…</td><td>3.39</td><td>17850</td><td>&quot;United Kingdom…</td><td>16</td><td>12.206492</td></tr><tr><td>536365</td><td>&quot;84029E&quot;</td><td>&quot;RED WOOLLY HOT…</td><td>6</td><td>&quot;1/12/2010 8:26…</td><td>3.39</td><td>17850</td><td>&quot;United Kingdom…</td><td>16</td><td>12.206492</td></tr></tbody></table></div>"
      ],
      "text/plain": [
       "shape: (5, 10)\n",
       "┌───────────┬───────────┬─────────────────────┬──────────┬───┬────────────┬────────────────┬───────────────┬───────────┐\n",
       "│ InvoiceNo ┆ StockCode ┆ Description         ┆ Quantity ┆ … ┆ CustomerID ┆ Country        ┆ Quantity + 10 ┆ Average   │\n",
       "│ ---       ┆ ---       ┆ ---                 ┆ ---      ┆   ┆ ---        ┆ ---            ┆ ---           ┆ Quantity  │\n",
       "│ i64       ┆ str       ┆ str                 ┆ i64      ┆   ┆ i64        ┆ str            ┆ i64           ┆ ---       │\n",
       "│           ┆           ┆                     ┆          ┆   ┆            ┆                ┆               ┆ f64       │\n",
       "╞═══════════╪═══════════╪═════════════════════╪══════════╪═══╪════════════╪════════════════╪═══════════════╪═══════════╡\n",
       "│ 536365    ┆ 85123A    ┆ WHITE HANGING HEART ┆ 6        ┆ … ┆ 17850      ┆ United Kingdom ┆ 16            ┆ 12.206492 │\n",
       "│           ┆           ┆ T-LIGHT HOLD…       ┆          ┆   ┆            ┆                ┆               ┆           │\n",
       "│ 536365    ┆ 71053     ┆ WHITE METAL LANTERN ┆ 6        ┆ … ┆ 17850      ┆ United Kingdom ┆ 16            ┆ 12.206492 │\n",
       "│ 536365    ┆ 84406B    ┆ CREAM CUPID HEARTS  ┆ 8        ┆ … ┆ 17850      ┆ United Kingdom ┆ 18            ┆ 12.206492 │\n",
       "│           ┆           ┆ COAT HANGER         ┆          ┆   ┆            ┆                ┆               ┆           │\n",
       "│ 536365    ┆ 84029G    ┆ KNITTED UNION FLAG  ┆ 6        ┆ … ┆ 17850      ┆ United Kingdom ┆ 16            ┆ 12.206492 │\n",
       "│           ┆           ┆ HOT WATER BOT…      ┆          ┆   ┆            ┆                ┆               ┆           │\n",
       "│ 536365    ┆ 84029E    ┆ RED WOOLLY HOTTIE   ┆ 6        ┆ … ┆ 17850      ┆ United Kingdom ┆ 16            ┆ 12.206492 │\n",
       "│           ┆           ┆ WHITE HEART.        ┆          ┆   ┆            ┆                ┆               ┆           │\n",
       "└───────────┴───────────┴─────────────────────┴──────────┴───┴────────────┴────────────────┴───────────────┴───────────┘"
      ]
     },
     "execution_count": 13,
     "metadata": {},
     "output_type": "execute_result"
    }
   ],
   "source": [
    "df.with_columns([\n",
    "                 (pl.col('Quantity') + 10).alias('Quantity + 10'), \\\n",
    "                 (pl.col('Quantity').mean()).alias('Average Quantity')\n",
    "                ]).limit(5)"
   ]
  },
  {
   "cell_type": "markdown",
   "id": "83b20cff",
   "metadata": {},
   "source": [
    "We also can use `with_columns()` to change the data type of a column. For example, we can convert the \"InvoiceDate\" column into the appropriate datetime format, as shown below:"
   ]
  },
  {
   "cell_type": "code",
   "execution_count": 14,
   "id": "ced04507",
   "metadata": {},
   "outputs": [
    {
     "data": {
      "text/html": [
       "<div><style>\n",
       ".dataframe > thead > tr > th,\n",
       ".dataframe > tbody > tr > td {\n",
       "  text-align: right;\n",
       "}\n",
       "</style>\n",
       "<small>shape: (5, 8)</small><table border=\"1\" class=\"dataframe\"><thead><tr><th>InvoiceNo</th><th>StockCode</th><th>Description</th><th>Quantity</th><th>InvoiceDate</th><th>UnitPrice</th><th>CustomerID</th><th>Country</th></tr><tr><td>i64</td><td>str</td><td>str</td><td>i64</td><td>datetime[μs]</td><td>f64</td><td>i64</td><td>str</td></tr></thead><tbody><tr><td>536365</td><td>&quot;85123A&quot;</td><td>&quot;WHITE HANGING …</td><td>6</td><td>2010-12-01 08:26:00</td><td>2.55</td><td>17850</td><td>&quot;United Kingdom…</td></tr><tr><td>536365</td><td>&quot;71053&quot;</td><td>&quot;WHITE METAL LA…</td><td>6</td><td>2010-12-01 08:26:00</td><td>3.39</td><td>17850</td><td>&quot;United Kingdom…</td></tr><tr><td>536365</td><td>&quot;84406B&quot;</td><td>&quot;CREAM CUPID HE…</td><td>8</td><td>2010-12-01 08:26:00</td><td>2.75</td><td>17850</td><td>&quot;United Kingdom…</td></tr><tr><td>536365</td><td>&quot;84029G&quot;</td><td>&quot;KNITTED UNION …</td><td>6</td><td>2010-12-01 08:26:00</td><td>3.39</td><td>17850</td><td>&quot;United Kingdom…</td></tr><tr><td>536365</td><td>&quot;84029E&quot;</td><td>&quot;RED WOOLLY HOT…</td><td>6</td><td>2010-12-01 08:26:00</td><td>3.39</td><td>17850</td><td>&quot;United Kingdom…</td></tr></tbody></table></div>"
      ],
      "text/plain": [
       "shape: (5, 8)\n",
       "┌───────────┬───────────┬──────────────────────────┬──────────┬──────────────┬───────────┬────────────┬────────────────┐\n",
       "│ InvoiceNo ┆ StockCode ┆ Description              ┆ Quantity ┆ InvoiceDate  ┆ UnitPrice ┆ CustomerID ┆ Country        │\n",
       "│ ---       ┆ ---       ┆ ---                      ┆ ---      ┆ ---          ┆ ---       ┆ ---        ┆ ---            │\n",
       "│ i64       ┆ str       ┆ str                      ┆ i64      ┆ datetime[μs] ┆ f64       ┆ i64        ┆ str            │\n",
       "╞═══════════╪═══════════╪══════════════════════════╪══════════╪══════════════╪═══════════╪════════════╪════════════════╡\n",
       "│ 536365    ┆ 85123A    ┆ WHITE HANGING HEART      ┆ 6        ┆ 2010-12-01   ┆ 2.55      ┆ 17850      ┆ United Kingdom │\n",
       "│           ┆           ┆ T-LIGHT HOLD…            ┆          ┆ 08:26:00     ┆           ┆            ┆                │\n",
       "│ 536365    ┆ 71053     ┆ WHITE METAL LANTERN      ┆ 6        ┆ 2010-12-01   ┆ 3.39      ┆ 17850      ┆ United Kingdom │\n",
       "│           ┆           ┆                          ┆          ┆ 08:26:00     ┆           ┆            ┆                │\n",
       "│ 536365    ┆ 84406B    ┆ CREAM CUPID HEARTS COAT  ┆ 8        ┆ 2010-12-01   ┆ 2.75      ┆ 17850      ┆ United Kingdom │\n",
       "│           ┆           ┆ HANGER                   ┆          ┆ 08:26:00     ┆           ┆            ┆                │\n",
       "│ 536365    ┆ 84029G    ┆ KNITTED UNION FLAG HOT   ┆ 6        ┆ 2010-12-01   ┆ 3.39      ┆ 17850      ┆ United Kingdom │\n",
       "│           ┆           ┆ WATER BOT…               ┆          ┆ 08:26:00     ┆           ┆            ┆                │\n",
       "│ 536365    ┆ 84029E    ┆ RED WOOLLY HOTTIE WHITE  ┆ 6        ┆ 2010-12-01   ┆ 3.39      ┆ 17850      ┆ United Kingdom │\n",
       "│           ┆           ┆ HEART.                   ┆          ┆ 08:26:00     ┆           ┆            ┆                │\n",
       "└───────────┴───────────┴──────────────────────────┴──────────┴──────────────┴───────────┴────────────┴────────────────┘"
      ]
     },
     "execution_count": 14,
     "metadata": {},
     "output_type": "execute_result"
    }
   ],
   "source": [
    "# Convert to InvoiceDate column from string to datetime format\n",
    "df = df.with_columns(pl.col('InvoiceDate').str.to_datetime(format=\"%d/%m/%Y %H:%M\"))\n",
    "\n",
    "# View first 5 rows\n",
    "df.head()"
   ]
  },
  {
   "cell_type": "markdown",
   "id": "d0ccad0b",
   "metadata": {},
   "source": [
    "___\n",
    "<a id='section3.3'></a>\n",
    "## (3.3) `filter()`"
   ]
  },
  {
   "cell_type": "markdown",
   "id": "75d1a476",
   "metadata": {},
   "source": [
    "We can apply conditional filtering on our DataFrames with the `filter()` method. For instance, we can filter our DataFrame to rows where the quantity is greater than 10, invoice number is not null, and unit price is less than or equal to $3.15, as shown below:"
   ]
  },
  {
   "cell_type": "code",
   "execution_count": 15,
   "id": "b2efac68",
   "metadata": {},
   "outputs": [
    {
     "data": {
      "text/html": [
       "<div><style>\n",
       ".dataframe > thead > tr > th,\n",
       ".dataframe > tbody > tr > td {\n",
       "  text-align: right;\n",
       "}\n",
       "</style>\n",
       "<small>shape: (5, 8)</small><table border=\"1\" class=\"dataframe\"><thead><tr><th>InvoiceNo</th><th>StockCode</th><th>Description</th><th>Quantity</th><th>InvoiceDate</th><th>UnitPrice</th><th>CustomerID</th><th>Country</th></tr><tr><td>i64</td><td>str</td><td>str</td><td>i64</td><td>datetime[μs]</td><td>f64</td><td>i64</td><td>str</td></tr></thead><tbody><tr><td>536367</td><td>&quot;84879&quot;</td><td>&quot;ASSORTED COLOU…</td><td>32</td><td>2010-12-01 08:34:00</td><td>1.69</td><td>13047</td><td>&quot;United Kingdom…</td></tr><tr><td>536370</td><td>&quot;21724&quot;</td><td>&quot;PANDA AND BUNN…</td><td>12</td><td>2010-12-01 08:45:00</td><td>0.85</td><td>12583</td><td>&quot;France&quot;</td></tr><tr><td>536370</td><td>&quot;21883&quot;</td><td>&quot;STARS GIFT TAP…</td><td>24</td><td>2010-12-01 08:45:00</td><td>0.65</td><td>12583</td><td>&quot;France&quot;</td></tr><tr><td>536370</td><td>&quot;10002&quot;</td><td>&quot;INFLATABLE POL…</td><td>48</td><td>2010-12-01 08:45:00</td><td>0.85</td><td>12583</td><td>&quot;France&quot;</td></tr><tr><td>536370</td><td>&quot;21791&quot;</td><td>&quot;VINTAGE HEADS …</td><td>24</td><td>2010-12-01 08:45:00</td><td>1.25</td><td>12583</td><td>&quot;France&quot;</td></tr></tbody></table></div>"
      ],
      "text/plain": [
       "shape: (5, 8)\n",
       "┌───────────┬───────────┬──────────────────────────┬──────────┬──────────────┬───────────┬────────────┬────────────────┐\n",
       "│ InvoiceNo ┆ StockCode ┆ Description              ┆ Quantity ┆ InvoiceDate  ┆ UnitPrice ┆ CustomerID ┆ Country        │\n",
       "│ ---       ┆ ---       ┆ ---                      ┆ ---      ┆ ---          ┆ ---       ┆ ---        ┆ ---            │\n",
       "│ i64       ┆ str       ┆ str                      ┆ i64      ┆ datetime[μs] ┆ f64       ┆ i64        ┆ str            │\n",
       "╞═══════════╪═══════════╪══════════════════════════╪══════════╪══════════════╪═══════════╪════════════╪════════════════╡\n",
       "│ 536367    ┆ 84879     ┆ ASSORTED COLOUR BIRD     ┆ 32       ┆ 2010-12-01   ┆ 1.69      ┆ 13047      ┆ United Kingdom │\n",
       "│           ┆           ┆ ORNAMENT                 ┆          ┆ 08:34:00     ┆           ┆            ┆                │\n",
       "│ 536370    ┆ 21724     ┆ PANDA AND BUNNIES        ┆ 12       ┆ 2010-12-01   ┆ 0.85      ┆ 12583      ┆ France         │\n",
       "│           ┆           ┆ STICKER SHEET            ┆          ┆ 08:45:00     ┆           ┆            ┆                │\n",
       "│ 536370    ┆ 21883     ┆ STARS GIFT TAPE          ┆ 24       ┆ 2010-12-01   ┆ 0.65      ┆ 12583      ┆ France         │\n",
       "│           ┆           ┆                          ┆          ┆ 08:45:00     ┆           ┆            ┆                │\n",
       "│ 536370    ┆ 10002     ┆ INFLATABLE POLITICAL     ┆ 48       ┆ 2010-12-01   ┆ 0.85      ┆ 12583      ┆ France         │\n",
       "│           ┆           ┆ GLOBE                    ┆          ┆ 08:45:00     ┆           ┆            ┆                │\n",
       "│ 536370    ┆ 21791     ┆ VINTAGE HEADS AND TAILS  ┆ 24       ┆ 2010-12-01   ┆ 1.25      ┆ 12583      ┆ France         │\n",
       "│           ┆           ┆ CARD GAM…                ┆          ┆ 08:45:00     ┆           ┆            ┆                │\n",
       "└───────────┴───────────┴──────────────────────────┴──────────┴──────────────┴───────────┴────────────┴────────────────┘"
      ]
     },
     "execution_count": 15,
     "metadata": {},
     "output_type": "execute_result"
    }
   ],
   "source": [
    "df.filter(\n",
    "          (pl.col('Quantity') > 10) & \\\n",
    "          (pl.col('InvoiceNo').is_not_nan()) & \\\n",
    "          (pl.col('UnitPrice') <= 3.15) \n",
    "          ).limit(5)"
   ]
  },
  {
   "cell_type": "markdown",
   "id": "c23634bd",
   "metadata": {},
   "source": [
    "Here is another example where we filter by a date range:"
   ]
  },
  {
   "cell_type": "code",
   "execution_count": 18,
   "id": "5b95952c",
   "metadata": {},
   "outputs": [
    {
     "data": {
      "text/html": [
       "<div><style>\n",
       ".dataframe > thead > tr > th,\n",
       ".dataframe > tbody > tr > td {\n",
       "  text-align: right;\n",
       "}\n",
       "</style>\n",
       "<small>shape: (10, 8)</small><table border=\"1\" class=\"dataframe\"><thead><tr><th>InvoiceNo</th><th>StockCode</th><th>Description</th><th>Quantity</th><th>InvoiceDate</th><th>UnitPrice</th><th>CustomerID</th><th>Country</th></tr><tr><td>i64</td><td>str</td><td>str</td><td>i64</td><td>datetime[μs]</td><td>f64</td><td>i64</td><td>str</td></tr></thead><tbody><tr><td>537037</td><td>&quot;22114&quot;</td><td>&quot;HOT WATER BOTT…</td><td>8</td><td>2010-12-05 10:03:00</td><td>3.95</td><td>17243</td><td>&quot;United Kingdom…</td></tr><tr><td>537037</td><td>&quot;21485&quot;</td><td>&quot;RETROSPOT HEAR…</td><td>6</td><td>2010-12-05 10:03:00</td><td>4.95</td><td>17243</td><td>&quot;United Kingdom…</td></tr><tr><td>537037</td><td>&quot;22835&quot;</td><td>&quot;HOT WATER BOTT…</td><td>3</td><td>2010-12-05 10:03:00</td><td>4.65</td><td>17243</td><td>&quot;United Kingdom…</td></tr><tr><td>537037</td><td>&quot;84029E&quot;</td><td>&quot;RED WOOLLY HOT…</td><td>6</td><td>2010-12-05 10:03:00</td><td>3.75</td><td>17243</td><td>&quot;United Kingdom…</td></tr><tr><td>537037</td><td>&quot;84029G&quot;</td><td>&quot;KNITTED UNION …</td><td>6</td><td>2010-12-05 10:03:00</td><td>3.75</td><td>17243</td><td>&quot;United Kingdom…</td></tr><tr><td>537037</td><td>&quot;22158&quot;</td><td>&quot;3 HEARTS HANGI…</td><td>8</td><td>2010-12-05 10:03:00</td><td>2.95</td><td>17243</td><td>&quot;United Kingdom…</td></tr><tr><td>537037</td><td>&quot;22633&quot;</td><td>&quot;HAND WARMER UN…</td><td>24</td><td>2010-12-05 10:03:00</td><td>2.1</td><td>17243</td><td>&quot;United Kingdom…</td></tr><tr><td>537037</td><td>&quot;22988&quot;</td><td>&quot;SOLDIERS EGG C…</td><td>12</td><td>2010-12-05 10:03:00</td><td>1.25</td><td>17243</td><td>&quot;United Kingdom…</td></tr><tr><td>537037</td><td>&quot;82494L&quot;</td><td>&quot;WOODEN FRAME A…</td><td>6</td><td>2010-12-05 10:03:00</td><td>2.95</td><td>17243</td><td>&quot;United Kingdom…</td></tr><tr><td>537037</td><td>&quot;72800E&quot;</td><td>&quot;4 IVORY DINNER…</td><td>11</td><td>2010-12-05 10:03:00</td><td>2.55</td><td>17243</td><td>&quot;United Kingdom…</td></tr></tbody></table></div>"
      ],
      "text/plain": [
       "shape: (10, 8)\n",
       "┌───────────┬───────────┬──────────────────────────┬──────────┬──────────────┬───────────┬────────────┬────────────────┐\n",
       "│ InvoiceNo ┆ StockCode ┆ Description              ┆ Quantity ┆ InvoiceDate  ┆ UnitPrice ┆ CustomerID ┆ Country        │\n",
       "│ ---       ┆ ---       ┆ ---                      ┆ ---      ┆ ---          ┆ ---       ┆ ---        ┆ ---            │\n",
       "│ i64       ┆ str       ┆ str                      ┆ i64      ┆ datetime[μs] ┆ f64       ┆ i64        ┆ str            │\n",
       "╞═══════════╪═══════════╪══════════════════════════╪══════════╪══════════════╪═══════════╪════════════╪════════════════╡\n",
       "│ 537037    ┆ 22114     ┆ HOT WATER BOTTLE TEA AND ┆ 8        ┆ 2010-12-05   ┆ 3.95      ┆ 17243      ┆ United Kingdom │\n",
       "│           ┆           ┆ SYMPATH…                 ┆          ┆ 10:03:00     ┆           ┆            ┆                │\n",
       "│ 537037    ┆ 21485     ┆ RETROSPOT HEART HOT      ┆ 6        ┆ 2010-12-05   ┆ 4.95      ┆ 17243      ┆ United Kingdom │\n",
       "│           ┆           ┆ WATER BOTTLE             ┆          ┆ 10:03:00     ┆           ┆            ┆                │\n",
       "│ 537037    ┆ 22835     ┆ HOT WATER BOTTLE I AM SO ┆ 3        ┆ 2010-12-05   ┆ 4.65      ┆ 17243      ┆ United Kingdom │\n",
       "│           ┆           ┆ POORLY                   ┆          ┆ 10:03:00     ┆           ┆            ┆                │\n",
       "│ 537037    ┆ 84029E    ┆ RED WOOLLY HOTTIE WHITE  ┆ 6        ┆ 2010-12-05   ┆ 3.75      ┆ 17243      ┆ United Kingdom │\n",
       "│           ┆           ┆ HEART.                   ┆          ┆ 10:03:00     ┆           ┆            ┆                │\n",
       "│ …         ┆ …         ┆ …                        ┆ …        ┆ …            ┆ …         ┆ …          ┆ …              │\n",
       "│ 537037    ┆ 22633     ┆ HAND WARMER UNION JACK   ┆ 24       ┆ 2010-12-05   ┆ 2.1       ┆ 17243      ┆ United Kingdom │\n",
       "│           ┆           ┆                          ┆          ┆ 10:03:00     ┆           ┆            ┆                │\n",
       "│ 537037    ┆ 22988     ┆ SOLDIERS EGG CUP         ┆ 12       ┆ 2010-12-05   ┆ 1.25      ┆ 17243      ┆ United Kingdom │\n",
       "│           ┆           ┆                          ┆          ┆ 10:03:00     ┆           ┆            ┆                │\n",
       "│ 537037    ┆ 82494L    ┆ WOODEN FRAME ANTIQUE     ┆ 6        ┆ 2010-12-05   ┆ 2.95      ┆ 17243      ┆ United Kingdom │\n",
       "│           ┆           ┆ WHITE                    ┆          ┆ 10:03:00     ┆           ┆            ┆                │\n",
       "│ 537037    ┆ 72800E    ┆ 4 IVORY DINNER CANDLES   ┆ 11       ┆ 2010-12-05   ┆ 2.55      ┆ 17243      ┆ United Kingdom │\n",
       "│           ┆           ┆ SILVER FL…               ┆          ┆ 10:03:00     ┆           ┆            ┆                │\n",
       "└───────────┴───────────┴──────────────────────────┴──────────┴──────────────┴───────────┴────────────┴────────────────┘"
      ]
     },
     "execution_count": 18,
     "metadata": {},
     "output_type": "execute_result"
    }
   ],
   "source": [
    "df.filter(pl.col('InvoiceDate').is_between(datetime(2010, 12, 5), datetime(2010, 12, 6))).limit(10)"
   ]
  },
  {
   "cell_type": "markdown",
   "id": "dbbb985b",
   "metadata": {},
   "source": [
    "> **Note**: There are many other expression methods in `polars` (e.g., `is_between()`, `is_not_nan()`) that are available and outside the scope of this lesson. Please refer to the `polars` documentation to discover the full list of methods available."
   ]
  },
  {
   "cell_type": "markdown",
   "id": "ca9a15ca",
   "metadata": {},
   "source": [
    "One more example on filtering based on string values:"
   ]
  },
  {
   "cell_type": "code",
   "execution_count": 40,
   "id": "5f2db4ce",
   "metadata": {},
   "outputs": [
    {
     "data": {
      "text/html": [
       "<div><style>\n",
       ".dataframe > thead > tr > th,\n",
       ".dataframe > tbody > tr > td {\n",
       "  text-align: right;\n",
       "}\n",
       "</style>\n",
       "<small>shape: (478, 8)</small><table border=\"1\" class=\"dataframe\"><thead><tr><th>InvoiceNo</th><th>StockCode</th><th>Description</th><th>Quantity</th><th>InvoiceDate</th><th>UnitPrice</th><th>CustomerID</th><th>Country</th></tr><tr><td>i64</td><td>str</td><td>str</td><td>i64</td><td>str</td><td>f64</td><td>i64</td><td>str</td></tr></thead><tbody><tr><td>536373</td><td>&quot;20679&quot;</td><td>&quot;EDWARDIAN PARA…</td><td>6</td><td>&quot;1/12/2010 9:02…</td><td>4.95</td><td>17850</td><td>&quot;United Kingdom…</td></tr><tr><td>536375</td><td>&quot;20679&quot;</td><td>&quot;EDWARDIAN PARA…</td><td>6</td><td>&quot;1/12/2010 9:32…</td><td>4.95</td><td>17850</td><td>&quot;United Kingdom…</td></tr><tr><td>536381</td><td>&quot;22774&quot;</td><td>&quot;RED DRAWER KNO…</td><td>24</td><td>&quot;1/12/2010 9:41…</td><td>1.25</td><td>15311</td><td>&quot;United Kingdom…</td></tr><tr><td>536381</td><td>&quot;22771&quot;</td><td>&quot;CLEAR DRAWER K…</td><td>24</td><td>&quot;1/12/2010 9:41…</td><td>1.25</td><td>15311</td><td>&quot;United Kingdom…</td></tr><tr><td>536381</td><td>&quot;15056BL&quot;</td><td>&quot;EDWARDIAN PARA…</td><td>2</td><td>&quot;1/12/2010 9:41…</td><td>5.95</td><td>15311</td><td>&quot;United Kingdom…</td></tr><tr><td>536381</td><td>&quot;15056N&quot;</td><td>&quot;EDWARDIAN PARA…</td><td>2</td><td>&quot;1/12/2010 9:41…</td><td>5.95</td><td>15311</td><td>&quot;United Kingdom…</td></tr><tr><td>536396</td><td>&quot;15056BL&quot;</td><td>&quot;EDWARDIAN PARA…</td><td>6</td><td>&quot;1/12/2010 10:5…</td><td>4.95</td><td>17850</td><td>&quot;United Kingdom…</td></tr><tr><td>536396</td><td>&quot;20679&quot;</td><td>&quot;EDWARDIAN PARA…</td><td>6</td><td>&quot;1/12/2010 10:5…</td><td>4.95</td><td>17850</td><td>&quot;United Kingdom…</td></tr><tr><td>536404</td><td>&quot;22771&quot;</td><td>&quot;CLEAR DRAWER K…</td><td>12</td><td>&quot;1/12/2010 11:2…</td><td>1.25</td><td>16218</td><td>&quot;United Kingdom…</td></tr><tr><td>536404</td><td>&quot;22772&quot;</td><td>&quot;PINK DRAWER KN…</td><td>12</td><td>&quot;1/12/2010 11:2…</td><td>1.25</td><td>16218</td><td>&quot;United Kingdom…</td></tr><tr><td>536404</td><td>&quot;22773&quot;</td><td>&quot;GREEN DRAWER K…</td><td>12</td><td>&quot;1/12/2010 11:2…</td><td>1.25</td><td>16218</td><td>&quot;United Kingdom…</td></tr><tr><td>536404</td><td>&quot;22805&quot;</td><td>&quot;BLUE DRAWER KN…</td><td>12</td><td>&quot;1/12/2010 11:2…</td><td>1.25</td><td>16218</td><td>&quot;United Kingdom…</td></tr><tr><td>&hellip;</td><td>&hellip;</td><td>&hellip;</td><td>&hellip;</td><td>&hellip;</td><td>&hellip;</td><td>&hellip;</td><td>&hellip;</td></tr><tr><td>544586</td><td>&quot;15056BL&quot;</td><td>&quot;EDWARDIAN PARA…</td><td>1</td><td>&quot;21/2/2011 15:0…</td><td>5.95</td><td>17338</td><td>&quot;United Kingdom…</td></tr><tr><td>544586</td><td>&quot;20679&quot;</td><td>&quot;EDWARDIAN PARA…</td><td>1</td><td>&quot;21/2/2011 15:0…</td><td>5.95</td><td>17338</td><td>&quot;United Kingdom…</td></tr><tr><td>544633</td><td>&quot;22805&quot;</td><td>&quot;BLUE DRAWER KN…</td><td>4</td><td>&quot;22/2/2011 10:5…</td><td>1.25</td><td>17315</td><td>&quot;United Kingdom…</td></tr><tr><td>544633</td><td>&quot;22773&quot;</td><td>&quot;GREEN DRAWER K…</td><td>4</td><td>&quot;22/2/2011 10:5…</td><td>1.25</td><td>17315</td><td>&quot;United Kingdom…</td></tr><tr><td>544662</td><td>&quot;20679&quot;</td><td>&quot;EDWARDIAN PARA…</td><td>1</td><td>&quot;22/2/2011 14:1…</td><td>5.95</td><td>12845</td><td>&quot;United Kingdom…</td></tr><tr><td>544675</td><td>&quot;22773&quot;</td><td>&quot;GREEN DRAWER K…</td><td>12</td><td>&quot;22/2/2011 15:5…</td><td>1.25</td><td>16011</td><td>&quot;United Kingdom…</td></tr><tr><td>544675</td><td>&quot;22771&quot;</td><td>&quot;CLEAR DRAWER K…</td><td>12</td><td>&quot;22/2/2011 15:5…</td><td>1.25</td><td>16011</td><td>&quot;United Kingdom…</td></tr><tr><td>544688</td><td>&quot;15056N&quot;</td><td>&quot;EDWARDIAN PARA…</td><td>4</td><td>&quot;23/2/2011 8:29…</td><td>5.95</td><td>18151</td><td>&quot;United Kingdom…</td></tr><tr><td>544688</td><td>&quot;15056BL&quot;</td><td>&quot;EDWARDIAN PARA…</td><td>4</td><td>&quot;23/2/2011 8:29…</td><td>5.95</td><td>18151</td><td>&quot;United Kingdom…</td></tr><tr><td>544688</td><td>&quot;15056P&quot;</td><td>&quot;EDWARDIAN PARA…</td><td>4</td><td>&quot;23/2/2011 8:29…</td><td>5.95</td><td>18151</td><td>&quot;United Kingdom…</td></tr><tr><td>544697</td><td>&quot;22771&quot;</td><td>&quot;CLEAR DRAWER K…</td><td>12</td><td>&quot;23/2/2011 9:44…</td><td>1.25</td><td>13453</td><td>&quot;United Kingdom…</td></tr><tr><td>544777</td><td>&quot;22772&quot;</td><td>&quot;PINK DRAWER KN…</td><td>192</td><td>&quot;23/2/2011 12:0…</td><td>1.06</td><td>15311</td><td>&quot;United Kingdom…</td></tr></tbody></table></div>"
      ],
      "text/plain": [
       "shape: (478, 8)\n",
       "┌───────────┬───────────┬───────────────────────┬──────────┬─────────────────┬───────────┬────────────┬────────────────┐\n",
       "│ InvoiceNo ┆ StockCode ┆ Description           ┆ Quantity ┆ InvoiceDate     ┆ UnitPrice ┆ CustomerID ┆ Country        │\n",
       "│ ---       ┆ ---       ┆ ---                   ┆ ---      ┆ ---             ┆ ---       ┆ ---        ┆ ---            │\n",
       "│ i64       ┆ str       ┆ str                   ┆ i64      ┆ str             ┆ f64       ┆ i64        ┆ str            │\n",
       "╞═══════════╪═══════════╪═══════════════════════╪══════════╪═════════════════╪═══════════╪════════════╪════════════════╡\n",
       "│ 536373    ┆ 20679     ┆ EDWARDIAN PARASOL RED ┆ 6        ┆ 1/12/2010 9:02  ┆ 4.95      ┆ 17850      ┆ United Kingdom │\n",
       "│ 536375    ┆ 20679     ┆ EDWARDIAN PARASOL RED ┆ 6        ┆ 1/12/2010 9:32  ┆ 4.95      ┆ 17850      ┆ United Kingdom │\n",
       "│ 536381    ┆ 22774     ┆ RED DRAWER KNOB       ┆ 24       ┆ 1/12/2010 9:41  ┆ 1.25      ┆ 15311      ┆ United Kingdom │\n",
       "│           ┆           ┆ ACRYLIC EDWARDIA…     ┆          ┆                 ┆           ┆            ┆                │\n",
       "│ 536381    ┆ 22771     ┆ CLEAR DRAWER KNOB     ┆ 24       ┆ 1/12/2010 9:41  ┆ 1.25      ┆ 15311      ┆ United Kingdom │\n",
       "│           ┆           ┆ ACRYLIC EDWARD…       ┆          ┆                 ┆           ┆            ┆                │\n",
       "│ …         ┆ …         ┆ …                     ┆ …        ┆ …               ┆ …         ┆ …          ┆ …              │\n",
       "│ 544688    ┆ 15056BL   ┆ EDWARDIAN PARASOL     ┆ 4        ┆ 23/2/2011 8:29  ┆ 5.95      ┆ 18151      ┆ United Kingdom │\n",
       "│           ┆           ┆ BLACK                 ┆          ┆                 ┆           ┆            ┆                │\n",
       "│ 544688    ┆ 15056P    ┆ EDWARDIAN PARASOL     ┆ 4        ┆ 23/2/2011 8:29  ┆ 5.95      ┆ 18151      ┆ United Kingdom │\n",
       "│           ┆           ┆ PINK                  ┆          ┆                 ┆           ┆            ┆                │\n",
       "│ 544697    ┆ 22771     ┆ CLEAR DRAWER KNOB     ┆ 12       ┆ 23/2/2011 9:44  ┆ 1.25      ┆ 13453      ┆ United Kingdom │\n",
       "│           ┆           ┆ ACRYLIC EDWARD…       ┆          ┆                 ┆           ┆            ┆                │\n",
       "│ 544777    ┆ 22772     ┆ PINK DRAWER KNOB      ┆ 192      ┆ 23/2/2011 12:00 ┆ 1.06      ┆ 15311      ┆ United Kingdom │\n",
       "│           ┆           ┆ ACRYLIC EDWARDI…      ┆          ┆                 ┆           ┆            ┆                │\n",
       "└───────────┴───────────┴───────────────────────┴──────────┴─────────────────┴───────────┴────────────┴────────────────┘"
      ]
     },
     "execution_count": 40,
     "metadata": {},
     "output_type": "execute_result"
    }
   ],
   "source": [
    "# Find all transactions with item descriptions that contain the word 'EDWARDIAN'\n",
    "df.filter(pl.col('Description').str.contains(r'EDWARDIAN'))"
   ]
  },
  {
   "cell_type": "markdown",
   "id": "39a3e042",
   "metadata": {},
   "source": [
    "___\n",
    "<a id='section3.4'></a>\n",
    "## (3.4) `groupby()`\n",
    "We can also easily perform the useful groupby operations coupled with aggregation functions, as shown in the examples below:"
   ]
  },
  {
   "cell_type": "code",
   "execution_count": 30,
   "id": "efb0270b",
   "metadata": {},
   "outputs": [
    {
     "data": {
      "text/html": [
       "<div><style>\n",
       ".dataframe > thead > tr > th,\n",
       ".dataframe > tbody > tr > td {\n",
       "  text-align: right;\n",
       "}\n",
       "</style>\n",
       "<small>shape: (10, 2)</small><table border=\"1\" class=\"dataframe\"><thead><tr><th>CustomerID</th><th>count</th></tr><tr><td>i64</td><td>u32</td></tr></thead><tbody><tr><td>17850</td><td>312</td></tr><tr><td>13047</td><td>44</td></tr><tr><td>12583</td><td>52</td></tr><tr><td>13748</td><td>1</td></tr><tr><td>15100</td><td>6</td></tr><tr><td>15291</td><td>35</td></tr><tr><td>14688</td><td>85</td></tr><tr><td>17809</td><td>17</td></tr><tr><td>15311</td><td>718</td></tr><tr><td>16098</td><td>19</td></tr></tbody></table></div>"
      ],
      "text/plain": [
       "shape: (10, 2)\n",
       "┌────────────┬───────┐\n",
       "│ CustomerID ┆ count │\n",
       "│ ---        ┆ ---   │\n",
       "│ i64        ┆ u32   │\n",
       "╞════════════╪═══════╡\n",
       "│ 17850      ┆ 312   │\n",
       "│ 13047      ┆ 44    │\n",
       "│ 12583      ┆ 52    │\n",
       "│ 13748      ┆ 1     │\n",
       "│ …          ┆ …     │\n",
       "│ 14688      ┆ 85    │\n",
       "│ 17809      ┆ 17    │\n",
       "│ 15311      ┆ 718   │\n",
       "│ 16098      ┆ 19    │\n",
       "└────────────┴───────┘"
      ]
     },
     "execution_count": 30,
     "metadata": {},
     "output_type": "execute_result"
    }
   ],
   "source": [
    "# Groupby each customer and count how many transactions each customer had\n",
    "df.groupby('CustomerID', maintain_order=True).count().limit(10)"
   ]
  },
  {
   "cell_type": "code",
   "execution_count": 37,
   "id": "a37838b4",
   "metadata": {},
   "outputs": [
    {
     "data": {
      "text/html": [
       "<div><style>\n",
       ".dataframe > thead > tr > th,\n",
       ".dataframe > tbody > tr > td {\n",
       "  text-align: right;\n",
       "}\n",
       "</style>\n",
       "<small>shape: (10, 4)</small><table border=\"1\" class=\"dataframe\"><thead><tr><th>CustomerID</th><th>Transaction Count</th><th>Average Unit Price</th><th>Total Item Quantity</th></tr><tr><td>i64</td><td>u32</td><td>f64</td><td>i64</td></tr></thead><tbody><tr><td>17850</td><td>312</td><td>3.924712</td><td>1693</td></tr><tr><td>13047</td><td>44</td><td>4.251136</td><td>311</td></tr><tr><td>12583</td><td>52</td><td>1.869038</td><td>1386</td></tr><tr><td>13748</td><td>1</td><td>2.55</td><td>80</td></tr><tr><td>15100</td><td>6</td><td>10.95</td><td>58</td></tr><tr><td>15291</td><td>35</td><td>6.209143</td><td>325</td></tr><tr><td>14688</td><td>85</td><td>1.758706</td><td>1245</td></tr><tr><td>17809</td><td>17</td><td>4.044118</td><td>442</td></tr><tr><td>15311</td><td>718</td><td>2.689694</td><td>7713</td></tr><tr><td>16098</td><td>19</td><td>6.144737</td><td>202</td></tr></tbody></table></div>"
      ],
      "text/plain": [
       "shape: (10, 4)\n",
       "┌────────────┬───────────────────┬────────────────────┬─────────────────────┐\n",
       "│ CustomerID ┆ Transaction Count ┆ Average Unit Price ┆ Total Item Quantity │\n",
       "│ ---        ┆ ---               ┆ ---                ┆ ---                 │\n",
       "│ i64        ┆ u32               ┆ f64                ┆ i64                 │\n",
       "╞════════════╪═══════════════════╪════════════════════╪═════════════════════╡\n",
       "│ 17850      ┆ 312               ┆ 3.924712           ┆ 1693                │\n",
       "│ 13047      ┆ 44                ┆ 4.251136           ┆ 311                 │\n",
       "│ 12583      ┆ 52                ┆ 1.869038           ┆ 1386                │\n",
       "│ 13748      ┆ 1                 ┆ 2.55               ┆ 80                  │\n",
       "│ …          ┆ …                 ┆ …                  ┆ …                   │\n",
       "│ 14688      ┆ 85                ┆ 1.758706           ┆ 1245                │\n",
       "│ 17809      ┆ 17                ┆ 4.044118           ┆ 442                 │\n",
       "│ 15311      ┆ 718               ┆ 2.689694           ┆ 7713                │\n",
       "│ 16098      ┆ 19                ┆ 6.144737           ┆ 202                 │\n",
       "└────────────┴───────────────────┴────────────────────┴─────────────────────┘"
      ]
     },
     "execution_count": 37,
     "metadata": {},
     "output_type": "execute_result"
    }
   ],
   "source": [
    "# Groupby customer ID and apply multiple aggregations with agg()\n",
    "df.groupby('CustomerID', maintain_order=True).agg([\n",
    "                pl.col('CustomerID').count().alias(\"Transaction Count\"),\n",
    "                pl.col('UnitPrice').mean().alias(\"Average Unit Price\"),\n",
    "                pl.col('Quantity').sum().alias(\"Total Item Quantity\"),\n",
    "                ]).limit(10)"
   ]
  },
  {
   "cell_type": "markdown",
   "id": "cdc288a5",
   "metadata": {},
   "source": [
    "___\n",
    "<a id='section3.5'></a>\n",
    "## (3.5) Chaining expressions"
   ]
  },
  {
   "cell_type": "markdown",
   "id": "0b773941",
   "metadata": {},
   "source": [
    "Finally, let us look at how we can combine expression. The power of expressions is that every expression produces a new expression, which means that they can be chained together in a form of pipeline. For example, we earlier saw how we can lazy load a dataset, apply a `select()` expression, before executing it with `collect()`. The following code shows how we can chain them together into a single expression:"
   ]
  },
  {
   "cell_type": "code",
   "execution_count": 43,
   "id": "12ee865c",
   "metadata": {},
   "outputs": [
    {
     "data": {
      "text/html": [
       "<div><style>\n",
       ".dataframe > thead > tr > th,\n",
       ".dataframe > tbody > tr > td {\n",
       "  text-align: right;\n",
       "}\n",
       "</style>\n",
       "<small>shape: (5, 2)</small><table border=\"1\" class=\"dataframe\"><thead><tr><th>InvoiceNo</th><th>InvoiceDate</th></tr><tr><td>i64</td><td>str</td></tr></thead><tbody><tr><td>536365</td><td>&quot;1/12/2010 8:26…</td></tr><tr><td>536365</td><td>&quot;1/12/2010 8:26…</td></tr><tr><td>536365</td><td>&quot;1/12/2010 8:26…</td></tr><tr><td>536365</td><td>&quot;1/12/2010 8:26…</td></tr><tr><td>536365</td><td>&quot;1/12/2010 8:26…</td></tr></tbody></table></div>"
      ],
      "text/plain": [
       "shape: (5, 2)\n",
       "┌───────────┬────────────────┐\n",
       "│ InvoiceNo ┆ InvoiceDate    │\n",
       "│ ---       ┆ ---            │\n",
       "│ i64       ┆ str            │\n",
       "╞═══════════╪════════════════╡\n",
       "│ 536365    ┆ 1/12/2010 8:26 │\n",
       "│ 536365    ┆ 1/12/2010 8:26 │\n",
       "│ 536365    ┆ 1/12/2010 8:26 │\n",
       "│ 536365    ┆ 1/12/2010 8:26 │\n",
       "│ 536365    ┆ 1/12/2010 8:26 │\n",
       "└───────────┴────────────────┘"
      ]
     },
     "execution_count": 43,
     "metadata": {},
     "output_type": "execute_result"
    }
   ],
   "source": [
    "pl.scan_csv('data/online_retail_dataset.csv', \n",
    "            encoding='utf8',\n",
    "            ignore_errors = True) \\\n",
    "  .select([pl.col('InvoiceNo'), pl.col('InvoiceDate')]) \\\n",
    "  .collect(streaming=True) \\\n",
    "  .limit(5)"
   ]
  },
  {
   "cell_type": "markdown",
   "id": "0b0c3553",
   "metadata": {},
   "source": [
    "> **Note**: We generally want to stay in lazy mode for as long as possible (ideally for our entire query) so that `polars` can apply query optimisation. It means that we should aim to place all our necessary data manipulation expressions and queries right up to the `collect()` method."
   ]
  },
  {
   "cell_type": "markdown",
   "id": "89c0f37c",
   "metadata": {},
   "source": [
    "We can also run a series of separate expressions for each column, as shown below where we have a column where we sort the unique \"CustomerID\" values and another column where we display the average unit price of items with the word 'RED' in their description:"
   ]
  },
  {
   "cell_type": "code",
   "execution_count": 50,
   "id": "cb6391c2",
   "metadata": {},
   "outputs": [
    {
     "data": {
      "text/html": [
       "<div><style>\n",
       ".dataframe > thead > tr > th,\n",
       ".dataframe > tbody > tr > td {\n",
       "  text-align: right;\n",
       "}\n",
       "</style>\n",
       "<small>shape: (5, 2)</small><table border=\"1\" class=\"dataframe\"><thead><tr><th>CustomerID</th><th>UnitPrice</th></tr><tr><td>i64</td><td>f64</td></tr></thead><tbody><tr><td>12346</td><td>4.06338</td></tr><tr><td>12347</td><td>4.06338</td></tr><tr><td>12348</td><td>4.06338</td></tr><tr><td>12350</td><td>4.06338</td></tr><tr><td>12352</td><td>4.06338</td></tr></tbody></table></div>"
      ],
      "text/plain": [
       "shape: (5, 2)\n",
       "┌────────────┬───────────┐\n",
       "│ CustomerID ┆ UnitPrice │\n",
       "│ ---        ┆ ---       │\n",
       "│ i64        ┆ f64       │\n",
       "╞════════════╪═══════════╡\n",
       "│ 12346      ┆ 4.06338   │\n",
       "│ 12347      ┆ 4.06338   │\n",
       "│ 12348      ┆ 4.06338   │\n",
       "│ 12350      ┆ 4.06338   │\n",
       "│ 12352      ┆ 4.06338   │\n",
       "└────────────┴───────────┘"
      ]
     },
     "execution_count": 50,
     "metadata": {},
     "output_type": "execute_result"
    }
   ],
   "source": [
    "df.select(pl.col('CustomerID').sort().unique().head(5), \n",
    "          pl.col('UnitPrice').filter(pl.col('Description').str.contains(r'RED')).mean()\n",
    "         )"
   ]
  },
  {
   "cell_type": "markdown",
   "id": "54168b87",
   "metadata": {},
   "source": [
    "> **Note**: All the expressions above are run in parallel, meaning that separate `polars` expressions are parallelized"
   ]
  },
  {
   "cell_type": "markdown",
   "id": "95d36275",
   "metadata": {},
   "source": [
    "Here is another example of chaining expressions, where we generate a new column for total price (calculated from quantity multiplied by unit price) and then select columns that exclude the \"Description\" and \"InvoiceDate\" columns:"
   ]
  },
  {
   "cell_type": "code",
   "execution_count": 53,
   "id": "83ec48bb",
   "metadata": {},
   "outputs": [
    {
     "data": {
      "text/html": [
       "<div><style>\n",
       ".dataframe > thead > tr > th,\n",
       ".dataframe > tbody > tr > td {\n",
       "  text-align: right;\n",
       "}\n",
       "</style>\n",
       "<small>shape: (10, 7)</small><table border=\"1\" class=\"dataframe\"><thead><tr><th>InvoiceNo</th><th>StockCode</th><th>Quantity</th><th>UnitPrice</th><th>CustomerID</th><th>Country</th><th>Total Price</th></tr><tr><td>i64</td><td>str</td><td>i64</td><td>f64</td><td>i64</td><td>str</td><td>f64</td></tr></thead><tbody><tr><td>536365</td><td>&quot;85123A&quot;</td><td>6</td><td>2.55</td><td>17850</td><td>&quot;United Kingdom…</td><td>15.3</td></tr><tr><td>536365</td><td>&quot;71053&quot;</td><td>6</td><td>3.39</td><td>17850</td><td>&quot;United Kingdom…</td><td>20.34</td></tr><tr><td>536365</td><td>&quot;84406B&quot;</td><td>8</td><td>2.75</td><td>17850</td><td>&quot;United Kingdom…</td><td>22.0</td></tr><tr><td>536365</td><td>&quot;84029G&quot;</td><td>6</td><td>3.39</td><td>17850</td><td>&quot;United Kingdom…</td><td>20.34</td></tr><tr><td>536365</td><td>&quot;84029E&quot;</td><td>6</td><td>3.39</td><td>17850</td><td>&quot;United Kingdom…</td><td>20.34</td></tr><tr><td>536365</td><td>&quot;22752&quot;</td><td>2</td><td>7.65</td><td>17850</td><td>&quot;United Kingdom…</td><td>15.3</td></tr><tr><td>536365</td><td>&quot;21730&quot;</td><td>6</td><td>4.25</td><td>17850</td><td>&quot;United Kingdom…</td><td>25.5</td></tr><tr><td>536366</td><td>&quot;22633&quot;</td><td>6</td><td>1.85</td><td>17850</td><td>&quot;United Kingdom…</td><td>11.1</td></tr><tr><td>536366</td><td>&quot;22632&quot;</td><td>6</td><td>1.85</td><td>17850</td><td>&quot;United Kingdom…</td><td>11.1</td></tr><tr><td>536367</td><td>&quot;84879&quot;</td><td>32</td><td>1.69</td><td>13047</td><td>&quot;United Kingdom…</td><td>54.08</td></tr></tbody></table></div>"
      ],
      "text/plain": [
       "shape: (10, 7)\n",
       "┌───────────┬───────────┬──────────┬───────────┬────────────┬────────────────┬─────────────┐\n",
       "│ InvoiceNo ┆ StockCode ┆ Quantity ┆ UnitPrice ┆ CustomerID ┆ Country        ┆ Total Price │\n",
       "│ ---       ┆ ---       ┆ ---      ┆ ---       ┆ ---        ┆ ---            ┆ ---         │\n",
       "│ i64       ┆ str       ┆ i64      ┆ f64       ┆ i64        ┆ str            ┆ f64         │\n",
       "╞═══════════╪═══════════╪══════════╪═══════════╪════════════╪════════════════╪═════════════╡\n",
       "│ 536365    ┆ 85123A    ┆ 6        ┆ 2.55      ┆ 17850      ┆ United Kingdom ┆ 15.3        │\n",
       "│ 536365    ┆ 71053     ┆ 6        ┆ 3.39      ┆ 17850      ┆ United Kingdom ┆ 20.34       │\n",
       "│ 536365    ┆ 84406B    ┆ 8        ┆ 2.75      ┆ 17850      ┆ United Kingdom ┆ 22.0        │\n",
       "│ 536365    ┆ 84029G    ┆ 6        ┆ 3.39      ┆ 17850      ┆ United Kingdom ┆ 20.34       │\n",
       "│ …         ┆ …         ┆ …        ┆ …         ┆ …          ┆ …              ┆ …           │\n",
       "│ 536365    ┆ 21730     ┆ 6        ┆ 4.25      ┆ 17850      ┆ United Kingdom ┆ 25.5        │\n",
       "│ 536366    ┆ 22633     ┆ 6        ┆ 1.85      ┆ 17850      ┆ United Kingdom ┆ 11.1        │\n",
       "│ 536366    ┆ 22632     ┆ 6        ┆ 1.85      ┆ 17850      ┆ United Kingdom ┆ 11.1        │\n",
       "│ 536367    ┆ 84879     ┆ 32       ┆ 1.69      ┆ 13047      ┆ United Kingdom ┆ 54.08       │\n",
       "└───────────┴───────────┴──────────┴───────────┴────────────┴────────────────┴─────────────┘"
      ]
     },
     "execution_count": 53,
     "metadata": {},
     "output_type": "execute_result"
    }
   ],
   "source": [
    "df.with_columns([(pl.col('Quantity') * pl.col('UnitPrice')).alias('Total Price')])\\\n",
    "                .select(\n",
    "                        [pl.all().exclude(['Description', 'InvoiceDate'])]\n",
    "                        )\\\n",
    "                .limit(10)"
   ]
  },
  {
   "cell_type": "markdown",
   "id": "b4d2ae99",
   "metadata": {},
   "source": [
    "___\n",
    "<a id='section4'></a>\n",
    "# (4) Joining and concatenating DataFrames"
   ]
  },
  {
   "cell_type": "markdown",
   "id": "c3581dca",
   "metadata": {},
   "source": [
    "Let us now take a look at how we can combine DataFrames in `polars`, starting with the join operation. `polars` supports all types of join (e.g. left, right, inner, outer). The table below shows the full set of join strategies we can adopt:"
   ]
  },
  {
   "cell_type": "markdown",
   "id": "bedae10d",
   "metadata": {},
   "source": [
    "| Strategy | Description                                                                                                                                           |\n",
    "|----------|-------------------------------------------------------------------------------------------------------------------------------------------------------|\n",
    "| inner    | Returns row with matching keys in both frames.                                        |\n",
    "| left     | Returns all rows in the left dataframe, whether or not a match in the right-frame is found.   |\n",
    "| outer    | Returns all rows from both left and right DataFrames. If no match is found in one frame, columns from the other frame are null-filled.               |\n",
    "| cross    | Returns Cartesian product of all rows from the left frame with all rows from the right frame. Duplicates rows are retained. |\n",
    "| asof     | A left-join in which the match is performed on the nearest key rather than on equal keys.                                                            |\n",
    "| semi     | Returns all rows from the left frame in which the join key is also present in the right frame.                                                        |\n",
    "| anti     | Returns all rows from the left frame in which the join key is not present in the right frame.                                                         |\n"
   ]
  },
  {
   "cell_type": "markdown",
   "id": "ea0d0a0d",
   "metadata": {},
   "source": [
    "For example, the code below shows how we can perform a left join of two `polars` DataFrames:"
   ]
  },
  {
   "cell_type": "code",
   "execution_count": 61,
   "id": "5af73a03",
   "metadata": {},
   "outputs": [],
   "source": [
    "# Generate two mock polars DataFrames\n",
    "df_customers = pl.DataFrame(\n",
    "    {\n",
    "        \"customer_id\": [100, 101, 102],\n",
    "        \"name\": [\"Jane\", \"Pauline\", \"Anderson\"],\n",
    "    })\n",
    "\n",
    "df_orders = pl.DataFrame(\n",
    "    {   \"customer_id\": [100, 101, 102],\n",
    "        \"order_id\": [\"a\", \"b\", \"c\"],\n",
    "        \"amount_paid\": [54.75, 22.3, 89.3],\n",
    "    })"
   ]
  },
  {
   "cell_type": "code",
   "execution_count": 62,
   "id": "889b5add",
   "metadata": {},
   "outputs": [
    {
     "data": {
      "text/html": [
       "<div><style>\n",
       ".dataframe > thead > tr > th,\n",
       ".dataframe > tbody > tr > td {\n",
       "  text-align: right;\n",
       "}\n",
       "</style>\n",
       "<small>shape: (3, 4)</small><table border=\"1\" class=\"dataframe\"><thead><tr><th>customer_id</th><th>name</th><th>order_id</th><th>amount_paid</th></tr><tr><td>i64</td><td>str</td><td>str</td><td>f64</td></tr></thead><tbody><tr><td>100</td><td>&quot;Jane&quot;</td><td>&quot;a&quot;</td><td>54.75</td></tr><tr><td>101</td><td>&quot;Pauline&quot;</td><td>&quot;b&quot;</td><td>22.3</td></tr><tr><td>102</td><td>&quot;Anderson&quot;</td><td>&quot;c&quot;</td><td>89.3</td></tr></tbody></table></div>"
      ],
      "text/plain": [
       "shape: (3, 4)\n",
       "┌─────────────┬──────────┬──────────┬─────────────┐\n",
       "│ customer_id ┆ name     ┆ order_id ┆ amount_paid │\n",
       "│ ---         ┆ ---      ┆ ---      ┆ ---         │\n",
       "│ i64         ┆ str      ┆ str      ┆ f64         │\n",
       "╞═════════════╪══════════╪══════════╪═════════════╡\n",
       "│ 100         ┆ Jane     ┆ a        ┆ 54.75       │\n",
       "│ 101         ┆ Pauline  ┆ b        ┆ 22.3        │\n",
       "│ 102         ┆ Anderson ┆ c        ┆ 89.3        │\n",
       "└─────────────┴──────────┴──────────┴─────────────┘"
      ]
     },
     "execution_count": 62,
     "metadata": {},
     "output_type": "execute_result"
    }
   ],
   "source": [
    "# Perform left join (syntax similar to pandas)\n",
    "df_left = df_customers.join(df_orders, \n",
    "                          on=\"customer_id\", \n",
    "                          how=\"left\")\n",
    "\n",
    "# View output\n",
    "df_left"
   ]
  },
  {
   "cell_type": "markdown",
   "id": "ab6e3ffd",
   "metadata": {},
   "source": [
    "We can also concatenate two `polars` DataFrames with the `concat()` method. Vertical concatenation will make the DataFrame longer, whereas horizontal concatenation will make the DataFrame wider. For instance, the example below shows how to perform horizontal concatenation of our two mock DataFrames:"
   ]
  },
  {
   "cell_type": "code",
   "execution_count": 66,
   "id": "4c2710d9",
   "metadata": {},
   "outputs": [
    {
     "data": {
      "text/html": [
       "<div><style>\n",
       ".dataframe > thead > tr > th,\n",
       ".dataframe > tbody > tr > td {\n",
       "  text-align: right;\n",
       "}\n",
       "</style>\n",
       "<small>shape: (3, 4)</small><table border=\"1\" class=\"dataframe\"><thead><tr><th>customer_id</th><th>name</th><th>order_id</th><th>amount_paid</th></tr><tr><td>i64</td><td>str</td><td>str</td><td>f64</td></tr></thead><tbody><tr><td>100</td><td>&quot;Jane&quot;</td><td>&quot;a&quot;</td><td>54.75</td></tr><tr><td>101</td><td>&quot;Pauline&quot;</td><td>&quot;b&quot;</td><td>22.3</td></tr><tr><td>102</td><td>&quot;Anderson&quot;</td><td>&quot;c&quot;</td><td>89.3</td></tr></tbody></table></div>"
      ],
      "text/plain": [
       "shape: (3, 4)\n",
       "┌─────────────┬──────────┬──────────┬─────────────┐\n",
       "│ customer_id ┆ name     ┆ order_id ┆ amount_paid │\n",
       "│ ---         ┆ ---      ┆ ---      ┆ ---         │\n",
       "│ i64         ┆ str      ┆ str      ┆ f64         │\n",
       "╞═════════════╪══════════╪══════════╪═════════════╡\n",
       "│ 100         ┆ Jane     ┆ a        ┆ 54.75       │\n",
       "│ 101         ┆ Pauline  ┆ b        ┆ 22.3        │\n",
       "│ 102         ┆ Anderson ┆ c        ┆ 89.3        │\n",
       "└─────────────┴──────────┴──────────┴─────────────┘"
      ]
     },
     "execution_count": 66,
     "metadata": {},
     "output_type": "execute_result"
    }
   ],
   "source": [
    "pl.concat([df_customers, \n",
    "           df_orders.drop('customer_id')], # Drop customer_id as concat does not allow duplicate columns\n",
    "           how='horizontal')"
   ]
  },
  {
   "cell_type": "markdown",
   "id": "267b8804",
   "metadata": {},
   "source": [
    "The other arguments we can feed into the `how` parameter for the concatenation strategy include `vertical`, `align`, and `diagonal`."
   ]
  },
  {
   "cell_type": "markdown",
   "id": "2a981fcd",
   "metadata": {},
   "source": [
    "> **Note**: There are many other transformation operations that are possible in `polars`, such as melt and pivot."
   ]
  },
  {
   "cell_type": "markdown",
   "id": "00c650d5",
   "metadata": {},
   "source": [
    "___\n",
    "# Wrapping it up\n",
    "We have only explored the tip of the iceberg in the powerful `polars` package. To gain an even deeper understanding of `polars`, it is highly recommended to visit their comprehensive documentation page [here](https://pola-rs.github.io/polars-book/user-guide/)."
   ]
  }
 ],
 "metadata": {
  "kernelspec": {
   "display_name": "educative",
   "language": "python",
   "name": "venv"
  },
  "language_info": {
   "codemirror_mode": {
    "name": "ipython",
    "version": 3
   },
   "file_extension": ".py",
   "mimetype": "text/x-python",
   "name": "python",
   "nbconvert_exporter": "python",
   "pygments_lexer": "ipython3",
   "version": "3.11.5"
  }
 },
 "nbformat": 4,
 "nbformat_minor": 5
}
